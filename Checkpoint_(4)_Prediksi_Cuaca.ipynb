{
  "nbformat": 4,
  "nbformat_minor": 0,
  "metadata": {
    "colab": {
      "provenance": [],
      "collapsed_sections": [
        "qzSZy2KwZ4zx",
        "3dTYY-qjZ_Yz",
        "Tqvpt5r-aJKs",
        "78Yvo7Q9aRTt",
        "BqwrKc6WXFpz",
        "JrPhpE3VXTMR",
        "jEeCU-vVXV84",
        "q0_lULWDX-y6"
      ],
      "include_colab_link": true
    },
    "kernelspec": {
      "name": "python3",
      "display_name": "Python 3"
    },
    "language_info": {
      "name": "python"
    }
  },
  "cells": [
    {
      "cell_type": "markdown",
      "metadata": {
        "id": "view-in-github",
        "colab_type": "text"
      },
      "source": [
        "<a href=\"https://colab.research.google.com/github/AbdulahFaiz/Data-Mining/blob/main/Checkpoint_(4)_Prediksi_Cuaca.ipynb\" target=\"_parent\"><img src=\"https://colab.research.google.com/assets/colab-badge.svg\" alt=\"Open In Colab\"/></a>"
      ]
    },
    {
      "cell_type": "markdown",
      "source": [
        "# **Prediksi Cuaca di Sulawesi Tenggara**"
      ],
      "metadata": {
        "id": "h3AZjxo2ZxS6"
      }
    },
    {
      "cell_type": "markdown",
      "source": [
        "#**Import Library**"
      ],
      "metadata": {
        "id": "JNBmfbIjWxgM"
      }
    },
    {
      "cell_type": "code",
      "source": [
        "import numpy as np\n",
        "import pandas as pd\n",
        "import seaborn as sns\n",
        "import plotly.express as px\n",
        "from sklearn.preprocessing import StandardScaler\n",
        "import matplotlib.pyplot as plt"
      ],
      "metadata": {
        "id": "JsnHJGLtW06a"
      },
      "execution_count": 74,
      "outputs": []
    },
    {
      "cell_type": "markdown",
      "source": [
        "#**BUSINESS UNDERSTANDING**"
      ],
      "metadata": {
        "id": "NjuQhrNyZtm3"
      }
    },
    {
      "cell_type": "markdown",
      "source": [
        "##**Business Objective**"
      ],
      "metadata": {
        "id": "qzSZy2KwZ4zx"
      }
    },
    {
      "cell_type": "markdown",
      "source": [
        "Tujuan bisnis proyek ini adalah untuk memprediksi cuaca di Sulawesi Tenggara berdasarkan faktor-faktor yang mempengaruhinya. Tujuannya adalah untuk membantu masyarakat, petani, nelayan, dan pihak terkait lainnya dalam mempersiapkan dan membuat keputusan tentang hal-hal yang terkait dengan cuaca dalam kehidupan sehari-hari mereka."
      ],
      "metadata": {
        "id": "hU2-bH_KZ8Ge"
      }
    },
    {
      "cell_type": "markdown",
      "source": [
        "##**Assess Situation**"
      ],
      "metadata": {
        "id": "3dTYY-qjZ_Yz"
      }
    },
    {
      "cell_type": "markdown",
      "source": [
        "Memahami situasi yang mendasari analisis ini sangat penting karena cuaca di Sulawesi Tenggara sering dipengaruhi oleh perubahan iklim, musim kemarau, dan musim hujan, yang dapat memengaruhi pertanian, perikanan, dan berbagai aktivitas lainnya. Kemampuan untuk memprediksi cuaca dengan tepat dapat membantu mengurangi efek dari cuaca ekstrem."
      ],
      "metadata": {
        "id": "3mI7ZTjDaGnC"
      }
    },
    {
      "cell_type": "markdown",
      "source": [
        "##**Data Mining Goals**"
      ],
      "metadata": {
        "id": "Tqvpt5r-aJKs"
      }
    },
    {
      "cell_type": "markdown",
      "source": [
        "Tujuan dari analisis data proyek ini adalah untuk mengembangkan model prediksi cuaca di Sulawesi Tenggara dengan mempertimbangkan faktor-faktor yang mempengaruhinya. Selain itu, analisis ini juga bertujuan untuk memahami pola cuaca, mengidentifikasi komponen utama yang mempengaruhi perubahan cuaca, dan memberikan informasi yang akurat dan bermanfaat bagi masyarakat dan pihak terkait."
      ],
      "metadata": {
        "id": "GXsyNC0zaO-o"
      }
    },
    {
      "cell_type": "markdown",
      "source": [
        "##**Project Plan**"
      ],
      "metadata": {
        "id": "78Yvo7Q9aRTt"
      }
    },
    {
      "cell_type": "markdown",
      "source": [
        "Rencana proyek akan dimulai dengan pengumpulan data cuaca dari sumber yang tersedia, termasuk data suhu udara, kelembaban udara, curah hujan, dan lama penyinaran matahari. Selanjutnya, data akan dieksplorasi untuk mengidentifikasi pola-pola cuaca yang menarik serta korelasi dan hubungan antar variabel cuaca. Evaluasi kualitas data akan dilakukan untuk mengidentifikasi dan menangani masalah data. Langkah-langkah ini penting untuk memastikan bahwa model prediksi cuaca yang dikembangkan dapat memberikan hasil yang akurat dan berguna bagi pengguna akhir."
      ],
      "metadata": {
        "id": "H0uheBdyaUfH"
      }
    },
    {
      "cell_type": "markdown",
      "source": [
        "#**DATA UNDERSTANDING**"
      ],
      "metadata": {
        "id": "8yFrLpBtZXuy"
      }
    },
    {
      "cell_type": "markdown",
      "source": [
        "##**Collect Initial Data**"
      ],
      "metadata": {
        "id": "tjm5LzEuT0oe"
      }
    },
    {
      "cell_type": "markdown",
      "source": [
        "Sumber data yang saya gunakan merupakan data cuaca harian sulawesi tenggara, mulai dari tanggal 01 januari 2022 sampai dengan 20 desember 2023.\n",
        "Data tersebut berdasarkan dari website BMKG.\n",
        "\n",
        "https://www.kaggle.com/datasets/ratnasarii/prediksi-cuaca/data\n",
        "\n",
        "https://raw.githubusercontent.com/AbdulahFaiz/Data-Mining/main/data_cuaca.csv"
      ],
      "metadata": {
        "id": "SsIGird1UBw8"
      }
    },
    {
      "cell_type": "code",
      "execution_count": 75,
      "metadata": {
        "id": "3ncBfThxSpiL",
        "colab": {
          "base_uri": "https://localhost:8080/",
          "height": 206
        },
        "outputId": "c208b085-f380-4e16-ecbf-4c4e497686ca"
      },
      "outputs": [
        {
          "output_type": "execute_result",
          "data": {
            "text/plain": [
              "    Thn  bln  tgl  temp_min  temp_max  temp_rata-rata  lembab_rata-rata    ch  \\\n",
              "0  2022    1    1      24.0      32.2            27.0              84.0   1.0   \n",
              "1  2022    1    2      24.0      31.2            25.8              91.0   8.1   \n",
              "2  2022    1    3      22.4      32.0            26.3              86.0  29.3   \n",
              "3  2022    1    4      24.0      29.8            26.7              87.0   0.5   \n",
              "4  2022    1    5      23.4      32.2            26.9              85.0  22.3   \n",
              "\n",
              "   cahaya_jam  \n",
              "0         3.5  \n",
              "1         2.5  \n",
              "2         2.0  \n",
              "3         5.5  \n",
              "4         0.0  "
            ],
            "text/html": [
              "\n",
              "  <div id=\"df-5fa9e90f-b915-41ca-a12d-9fa0fc6a83ac\" class=\"colab-df-container\">\n",
              "    <div>\n",
              "<style scoped>\n",
              "    .dataframe tbody tr th:only-of-type {\n",
              "        vertical-align: middle;\n",
              "    }\n",
              "\n",
              "    .dataframe tbody tr th {\n",
              "        vertical-align: top;\n",
              "    }\n",
              "\n",
              "    .dataframe thead th {\n",
              "        text-align: right;\n",
              "    }\n",
              "</style>\n",
              "<table border=\"1\" class=\"dataframe\">\n",
              "  <thead>\n",
              "    <tr style=\"text-align: right;\">\n",
              "      <th></th>\n",
              "      <th>Thn</th>\n",
              "      <th>bln</th>\n",
              "      <th>tgl</th>\n",
              "      <th>temp_min</th>\n",
              "      <th>temp_max</th>\n",
              "      <th>temp_rata-rata</th>\n",
              "      <th>lembab_rata-rata</th>\n",
              "      <th>ch</th>\n",
              "      <th>cahaya_jam</th>\n",
              "    </tr>\n",
              "  </thead>\n",
              "  <tbody>\n",
              "    <tr>\n",
              "      <th>0</th>\n",
              "      <td>2022</td>\n",
              "      <td>1</td>\n",
              "      <td>1</td>\n",
              "      <td>24.0</td>\n",
              "      <td>32.2</td>\n",
              "      <td>27.0</td>\n",
              "      <td>84.0</td>\n",
              "      <td>1.0</td>\n",
              "      <td>3.5</td>\n",
              "    </tr>\n",
              "    <tr>\n",
              "      <th>1</th>\n",
              "      <td>2022</td>\n",
              "      <td>1</td>\n",
              "      <td>2</td>\n",
              "      <td>24.0</td>\n",
              "      <td>31.2</td>\n",
              "      <td>25.8</td>\n",
              "      <td>91.0</td>\n",
              "      <td>8.1</td>\n",
              "      <td>2.5</td>\n",
              "    </tr>\n",
              "    <tr>\n",
              "      <th>2</th>\n",
              "      <td>2022</td>\n",
              "      <td>1</td>\n",
              "      <td>3</td>\n",
              "      <td>22.4</td>\n",
              "      <td>32.0</td>\n",
              "      <td>26.3</td>\n",
              "      <td>86.0</td>\n",
              "      <td>29.3</td>\n",
              "      <td>2.0</td>\n",
              "    </tr>\n",
              "    <tr>\n",
              "      <th>3</th>\n",
              "      <td>2022</td>\n",
              "      <td>1</td>\n",
              "      <td>4</td>\n",
              "      <td>24.0</td>\n",
              "      <td>29.8</td>\n",
              "      <td>26.7</td>\n",
              "      <td>87.0</td>\n",
              "      <td>0.5</td>\n",
              "      <td>5.5</td>\n",
              "    </tr>\n",
              "    <tr>\n",
              "      <th>4</th>\n",
              "      <td>2022</td>\n",
              "      <td>1</td>\n",
              "      <td>5</td>\n",
              "      <td>23.4</td>\n",
              "      <td>32.2</td>\n",
              "      <td>26.9</td>\n",
              "      <td>85.0</td>\n",
              "      <td>22.3</td>\n",
              "      <td>0.0</td>\n",
              "    </tr>\n",
              "  </tbody>\n",
              "</table>\n",
              "</div>\n",
              "    <div class=\"colab-df-buttons\">\n",
              "\n",
              "  <div class=\"colab-df-container\">\n",
              "    <button class=\"colab-df-convert\" onclick=\"convertToInteractive('df-5fa9e90f-b915-41ca-a12d-9fa0fc6a83ac')\"\n",
              "            title=\"Convert this dataframe to an interactive table.\"\n",
              "            style=\"display:none;\">\n",
              "\n",
              "  <svg xmlns=\"http://www.w3.org/2000/svg\" height=\"24px\" viewBox=\"0 -960 960 960\">\n",
              "    <path d=\"M120-120v-720h720v720H120Zm60-500h600v-160H180v160Zm220 220h160v-160H400v160Zm0 220h160v-160H400v160ZM180-400h160v-160H180v160Zm440 0h160v-160H620v160ZM180-180h160v-160H180v160Zm440 0h160v-160H620v160Z\"/>\n",
              "  </svg>\n",
              "    </button>\n",
              "\n",
              "  <style>\n",
              "    .colab-df-container {\n",
              "      display:flex;\n",
              "      gap: 12px;\n",
              "    }\n",
              "\n",
              "    .colab-df-convert {\n",
              "      background-color: #E8F0FE;\n",
              "      border: none;\n",
              "      border-radius: 50%;\n",
              "      cursor: pointer;\n",
              "      display: none;\n",
              "      fill: #1967D2;\n",
              "      height: 32px;\n",
              "      padding: 0 0 0 0;\n",
              "      width: 32px;\n",
              "    }\n",
              "\n",
              "    .colab-df-convert:hover {\n",
              "      background-color: #E2EBFA;\n",
              "      box-shadow: 0px 1px 2px rgba(60, 64, 67, 0.3), 0px 1px 3px 1px rgba(60, 64, 67, 0.15);\n",
              "      fill: #174EA6;\n",
              "    }\n",
              "\n",
              "    .colab-df-buttons div {\n",
              "      margin-bottom: 4px;\n",
              "    }\n",
              "\n",
              "    [theme=dark] .colab-df-convert {\n",
              "      background-color: #3B4455;\n",
              "      fill: #D2E3FC;\n",
              "    }\n",
              "\n",
              "    [theme=dark] .colab-df-convert:hover {\n",
              "      background-color: #434B5C;\n",
              "      box-shadow: 0px 1px 3px 1px rgba(0, 0, 0, 0.15);\n",
              "      filter: drop-shadow(0px 1px 2px rgba(0, 0, 0, 0.3));\n",
              "      fill: #FFFFFF;\n",
              "    }\n",
              "  </style>\n",
              "\n",
              "    <script>\n",
              "      const buttonEl =\n",
              "        document.querySelector('#df-5fa9e90f-b915-41ca-a12d-9fa0fc6a83ac button.colab-df-convert');\n",
              "      buttonEl.style.display =\n",
              "        google.colab.kernel.accessAllowed ? 'block' : 'none';\n",
              "\n",
              "      async function convertToInteractive(key) {\n",
              "        const element = document.querySelector('#df-5fa9e90f-b915-41ca-a12d-9fa0fc6a83ac');\n",
              "        const dataTable =\n",
              "          await google.colab.kernel.invokeFunction('convertToInteractive',\n",
              "                                                    [key], {});\n",
              "        if (!dataTable) return;\n",
              "\n",
              "        const docLinkHtml = 'Like what you see? Visit the ' +\n",
              "          '<a target=\"_blank\" href=https://colab.research.google.com/notebooks/data_table.ipynb>data table notebook</a>'\n",
              "          + ' to learn more about interactive tables.';\n",
              "        element.innerHTML = '';\n",
              "        dataTable['output_type'] = 'display_data';\n",
              "        await google.colab.output.renderOutput(dataTable, element);\n",
              "        const docLink = document.createElement('div');\n",
              "        docLink.innerHTML = docLinkHtml;\n",
              "        element.appendChild(docLink);\n",
              "      }\n",
              "    </script>\n",
              "  </div>\n",
              "\n",
              "\n",
              "<div id=\"df-dff44373-8a91-43e7-a41a-b4594aaa4a87\">\n",
              "  <button class=\"colab-df-quickchart\" onclick=\"quickchart('df-dff44373-8a91-43e7-a41a-b4594aaa4a87')\"\n",
              "            title=\"Suggest charts\"\n",
              "            style=\"display:none;\">\n",
              "\n",
              "<svg xmlns=\"http://www.w3.org/2000/svg\" height=\"24px\"viewBox=\"0 0 24 24\"\n",
              "     width=\"24px\">\n",
              "    <g>\n",
              "        <path d=\"M19 3H5c-1.1 0-2 .9-2 2v14c0 1.1.9 2 2 2h14c1.1 0 2-.9 2-2V5c0-1.1-.9-2-2-2zM9 17H7v-7h2v7zm4 0h-2V7h2v10zm4 0h-2v-4h2v4z\"/>\n",
              "    </g>\n",
              "</svg>\n",
              "  </button>\n",
              "\n",
              "<style>\n",
              "  .colab-df-quickchart {\n",
              "      --bg-color: #E8F0FE;\n",
              "      --fill-color: #1967D2;\n",
              "      --hover-bg-color: #E2EBFA;\n",
              "      --hover-fill-color: #174EA6;\n",
              "      --disabled-fill-color: #AAA;\n",
              "      --disabled-bg-color: #DDD;\n",
              "  }\n",
              "\n",
              "  [theme=dark] .colab-df-quickchart {\n",
              "      --bg-color: #3B4455;\n",
              "      --fill-color: #D2E3FC;\n",
              "      --hover-bg-color: #434B5C;\n",
              "      --hover-fill-color: #FFFFFF;\n",
              "      --disabled-bg-color: #3B4455;\n",
              "      --disabled-fill-color: #666;\n",
              "  }\n",
              "\n",
              "  .colab-df-quickchart {\n",
              "    background-color: var(--bg-color);\n",
              "    border: none;\n",
              "    border-radius: 50%;\n",
              "    cursor: pointer;\n",
              "    display: none;\n",
              "    fill: var(--fill-color);\n",
              "    height: 32px;\n",
              "    padding: 0;\n",
              "    width: 32px;\n",
              "  }\n",
              "\n",
              "  .colab-df-quickchart:hover {\n",
              "    background-color: var(--hover-bg-color);\n",
              "    box-shadow: 0 1px 2px rgba(60, 64, 67, 0.3), 0 1px 3px 1px rgba(60, 64, 67, 0.15);\n",
              "    fill: var(--button-hover-fill-color);\n",
              "  }\n",
              "\n",
              "  .colab-df-quickchart-complete:disabled,\n",
              "  .colab-df-quickchart-complete:disabled:hover {\n",
              "    background-color: var(--disabled-bg-color);\n",
              "    fill: var(--disabled-fill-color);\n",
              "    box-shadow: none;\n",
              "  }\n",
              "\n",
              "  .colab-df-spinner {\n",
              "    border: 2px solid var(--fill-color);\n",
              "    border-color: transparent;\n",
              "    border-bottom-color: var(--fill-color);\n",
              "    animation:\n",
              "      spin 1s steps(1) infinite;\n",
              "  }\n",
              "\n",
              "  @keyframes spin {\n",
              "    0% {\n",
              "      border-color: transparent;\n",
              "      border-bottom-color: var(--fill-color);\n",
              "      border-left-color: var(--fill-color);\n",
              "    }\n",
              "    20% {\n",
              "      border-color: transparent;\n",
              "      border-left-color: var(--fill-color);\n",
              "      border-top-color: var(--fill-color);\n",
              "    }\n",
              "    30% {\n",
              "      border-color: transparent;\n",
              "      border-left-color: var(--fill-color);\n",
              "      border-top-color: var(--fill-color);\n",
              "      border-right-color: var(--fill-color);\n",
              "    }\n",
              "    40% {\n",
              "      border-color: transparent;\n",
              "      border-right-color: var(--fill-color);\n",
              "      border-top-color: var(--fill-color);\n",
              "    }\n",
              "    60% {\n",
              "      border-color: transparent;\n",
              "      border-right-color: var(--fill-color);\n",
              "    }\n",
              "    80% {\n",
              "      border-color: transparent;\n",
              "      border-right-color: var(--fill-color);\n",
              "      border-bottom-color: var(--fill-color);\n",
              "    }\n",
              "    90% {\n",
              "      border-color: transparent;\n",
              "      border-bottom-color: var(--fill-color);\n",
              "    }\n",
              "  }\n",
              "</style>\n",
              "\n",
              "  <script>\n",
              "    async function quickchart(key) {\n",
              "      const quickchartButtonEl =\n",
              "        document.querySelector('#' + key + ' button');\n",
              "      quickchartButtonEl.disabled = true;  // To prevent multiple clicks.\n",
              "      quickchartButtonEl.classList.add('colab-df-spinner');\n",
              "      try {\n",
              "        const charts = await google.colab.kernel.invokeFunction(\n",
              "            'suggestCharts', [key], {});\n",
              "      } catch (error) {\n",
              "        console.error('Error during call to suggestCharts:', error);\n",
              "      }\n",
              "      quickchartButtonEl.classList.remove('colab-df-spinner');\n",
              "      quickchartButtonEl.classList.add('colab-df-quickchart-complete');\n",
              "    }\n",
              "    (() => {\n",
              "      let quickchartButtonEl =\n",
              "        document.querySelector('#df-dff44373-8a91-43e7-a41a-b4594aaa4a87 button');\n",
              "      quickchartButtonEl.style.display =\n",
              "        google.colab.kernel.accessAllowed ? 'block' : 'none';\n",
              "    })();\n",
              "  </script>\n",
              "</div>\n",
              "    </div>\n",
              "  </div>\n"
            ],
            "application/vnd.google.colaboratory.intrinsic+json": {
              "type": "dataframe",
              "variable_name": "df",
              "summary": "{\n  \"name\": \"df\",\n  \"rows\": 719,\n  \"fields\": [\n    {\n      \"column\": \"Thn\",\n      \"properties\": {\n        \"dtype\": \"number\",\n        \"std\": 0,\n        \"min\": 2022,\n        \"max\": 2023,\n        \"num_unique_values\": 2,\n        \"samples\": [\n          2023,\n          2022\n        ],\n        \"semantic_type\": \"\",\n        \"description\": \"\"\n      }\n    },\n    {\n      \"column\": \"bln\",\n      \"properties\": {\n        \"dtype\": \"number\",\n        \"std\": 3,\n        \"min\": 1,\n        \"max\": 12,\n        \"num_unique_values\": 12,\n        \"samples\": [\n          11,\n          10\n        ],\n        \"semantic_type\": \"\",\n        \"description\": \"\"\n      }\n    },\n    {\n      \"column\": \"tgl\",\n      \"properties\": {\n        \"dtype\": \"number\",\n        \"std\": 8,\n        \"min\": 1,\n        \"max\": 31,\n        \"num_unique_values\": 31,\n        \"samples\": [\n          28,\n          16\n        ],\n        \"semantic_type\": \"\",\n        \"description\": \"\"\n      }\n    },\n    {\n      \"column\": \"temp_min\",\n      \"properties\": {\n        \"dtype\": \"number\",\n        \"std\": 372.2844934947078,\n        \"min\": 18.2,\n        \"max\": 9999.0,\n        \"num_unique_values\": 62,\n        \"samples\": [\n          18.8,\n          19.3\n        ],\n        \"semantic_type\": \"\",\n        \"description\": \"\"\n      }\n    },\n    {\n      \"column\": \"temp_max\",\n      \"properties\": {\n        \"dtype\": \"number\",\n        \"std\": 372.7411023357009,\n        \"min\": 20.0,\n        \"max\": 9999.0,\n        \"num_unique_values\": 87,\n        \"samples\": [\n          9999.0,\n          32.2\n        ],\n        \"semantic_type\": \"\",\n        \"description\": \"\"\n      }\n    },\n    {\n      \"column\": \"temp_rata-rata\",\n      \"properties\": {\n        \"dtype\": \"number\",\n        \"std\": 1.459083780853034,\n        \"min\": 23.7,\n        \"max\": 32.8,\n        \"num_unique_values\": 81,\n        \"samples\": [\n          28.6,\n          27.0\n        ],\n        \"semantic_type\": \"\",\n        \"description\": \"\"\n      }\n    },\n    {\n      \"column\": \"lembab_rata-rata\",\n      \"properties\": {\n        \"dtype\": \"number\",\n        \"std\": 6.636347955997297,\n        \"min\": 57.0,\n        \"max\": 99.0,\n        \"num_unique_values\": 41,\n        \"samples\": [\n          74.0,\n          69.0\n        ],\n        \"semantic_type\": \"\",\n        \"description\": \"\"\n      }\n    },\n    {\n      \"column\": \"ch\",\n      \"properties\": {\n        \"dtype\": \"number\",\n        \"std\": 2800.0736723730092,\n        \"min\": 0.0,\n        \"max\": 8888.0,\n        \"num_unique_values\": 177,\n        \"samples\": [\n          6.5,\n          14.2\n        ],\n        \"semantic_type\": \"\",\n        \"description\": \"\"\n      }\n    },\n    {\n      \"column\": \"cahaya_jam\",\n      \"properties\": {\n        \"dtype\": \"number\",\n        \"std\": 527.4951653414088,\n        \"min\": 0.0,\n        \"max\": 9999.0,\n        \"num_unique_values\": 99,\n        \"samples\": [\n          8.7,\n          2.8\n        ],\n        \"semantic_type\": \"\",\n        \"description\": \"\"\n      }\n    }\n  ]\n}"
            }
          },
          "metadata": {},
          "execution_count": 75
        }
      ],
      "source": [
        "# df = pd.read_csv('data_cuaca.csv', delimiter=';')\n",
        "# df.head()\n",
        "\n",
        "df = pd.read_csv('https://raw.githubusercontent.com/AbdulahFaiz/Data-Mining/main/data_cuaca.csv', delimiter=';')\n",
        "df.head()"
      ]
    },
    {
      "cell_type": "markdown",
      "source": [
        "##**Describe Data**"
      ],
      "metadata": {
        "id": "-hy6_uvIVOGH"
      }
    },
    {
      "cell_type": "markdown",
      "source": [
        "####Informasi Dasar"
      ],
      "metadata": {
        "id": "nl6nccPmUZ6F"
      }
    },
    {
      "cell_type": "code",
      "source": [
        "#Ketikan kode di sini, untuk menampilkan jumlah baris dan kolom yang ada pada dataset kalian\n",
        "\n",
        "jumlah_baris, jumlah_kolom = df.shape\n",
        "print(\"Jumlah baris:\", jumlah_baris)\n",
        "print(\"Jumlah kolom:\", jumlah_kolom)\n",
        "print(df)"
      ],
      "metadata": {
        "id": "zEyDvT0EUcB2",
        "colab": {
          "base_uri": "https://localhost:8080/"
        },
        "outputId": "c8e94bf4-83e8-465a-8c8d-333437a55ffa"
      },
      "execution_count": 76,
      "outputs": [
        {
          "output_type": "stream",
          "name": "stdout",
          "text": [
            "Jumlah baris: 719\n",
            "Jumlah kolom: 9\n",
            "      Thn  bln  tgl  temp_min  temp_max  temp_rata-rata  lembab_rata-rata  \\\n",
            "0    2022    1    1      24.0      32.2            27.0              84.0   \n",
            "1    2022    1    2      24.0      31.2            25.8              91.0   \n",
            "2    2022    1    3      22.4      32.0            26.3              86.0   \n",
            "3    2022    1    4      24.0      29.8            26.7              87.0   \n",
            "4    2022    1    5      23.4      32.2            26.9              85.0   \n",
            "..    ...  ...  ...       ...       ...             ...               ...   \n",
            "714  2023   12   16      24.2      33.2            29.9              77.0   \n",
            "715  2023   12   17      24.8      35.0            30.6              72.0   \n",
            "716  2023   12   18      24.0      33.6            29.9              77.0   \n",
            "717  2023   12   19      23.4      34.4            31.0              71.0   \n",
            "718  2023   12   20      24.8      35.3            31.8              62.0   \n",
            "\n",
            "       ch  cahaya_jam  \n",
            "0     1.0         3.5  \n",
            "1     8.1         2.5  \n",
            "2    29.3         2.0  \n",
            "3     0.5         5.5  \n",
            "4    22.3         0.0  \n",
            "..    ...         ...  \n",
            "714   0.0         5.7  \n",
            "715   7.3         0.4  \n",
            "716  25.4         6.2  \n",
            "717   1.3         6.1  \n",
            "718   0.0         3.6  \n",
            "\n",
            "[719 rows x 9 columns]\n"
          ]
        }
      ]
    },
    {
      "cell_type": "markdown",
      "source": [
        "Jadi pada data saya terdapat 719 baris dan 9 kolom. Kolom yang terdapat pada data saya ialah\n",
        "- Thn\n",
        "- bln\n",
        "- tgl\n",
        "- temp_min: Temperatur minimum (°C)\n",
        "- temp_max: Temperatur maksimum (°C)\n",
        "- temp_rata-rata: Temperatur rata-rata (°C)\n",
        "- lembab_rata-rata: Kelembapan rata-rata (%)\n",
        "- ch: Curah hujan (mm)\n",
        "- cahaya_jam: Lamanya penyinaran matahari (jam)."
      ],
      "metadata": {
        "id": "ZwH62IRTVXNL"
      }
    },
    {
      "cell_type": "markdown",
      "source": [
        "####Informasi Lanjutan"
      ],
      "metadata": {
        "id": "BXEzaPAHVMPd"
      }
    },
    {
      "cell_type": "code",
      "source": [
        "#Ketikan kode di sini, untuk menampilkan informasi lengkap dari dataset kalian\n",
        "\n",
        "print(\"Informasi lengkap dataset:\")\n",
        "print(df.info())"
      ],
      "metadata": {
        "id": "L1CvPak8VHOF",
        "colab": {
          "base_uri": "https://localhost:8080/"
        },
        "outputId": "31b1768b-48f9-4d7e-b3e2-504b088f9cb0"
      },
      "execution_count": 77,
      "outputs": [
        {
          "output_type": "stream",
          "name": "stdout",
          "text": [
            "Informasi lengkap dataset:\n",
            "<class 'pandas.core.frame.DataFrame'>\n",
            "RangeIndex: 719 entries, 0 to 718\n",
            "Data columns (total 9 columns):\n",
            " #   Column            Non-Null Count  Dtype  \n",
            "---  ------            --------------  -----  \n",
            " 0   Thn               719 non-null    int64  \n",
            " 1   bln               719 non-null    int64  \n",
            " 2   tgl               719 non-null    int64  \n",
            " 3   temp_min          718 non-null    float64\n",
            " 4   temp_max          715 non-null    float64\n",
            " 5   temp_rata-rata    716 non-null    float64\n",
            " 6   lembab_rata-rata  716 non-null    float64\n",
            " 7   ch                716 non-null    float64\n",
            " 8   cahaya_jam        717 non-null    float64\n",
            "dtypes: float64(6), int64(3)\n",
            "memory usage: 50.7 KB\n",
            "None\n"
          ]
        }
      ]
    },
    {
      "cell_type": "markdown",
      "source": [
        "- Thn: Menunjukkan tahun pengamatan cuaca. Terdapat 719 entri non-null dengan tipe data int64.\n",
        "\n",
        "- bln: Merupakan bulan pengamatan cuaca dalam format numerik (1-12). Terdapat 719 entri non-null dengan tipe data int64.\n",
        "\n",
        "- tgl: Menunjukkan tanggal pengamatan cuaca. Terdapat 719 entri non-null dengan tipe data int64.\n",
        "\n",
        "- temp_min: Temperatur minimum (dalam °C) pada hari pengamatan. Terdapat 718 entri non-null dengan tipe data float64.\n",
        "\n",
        "- temp_max: Temperatur maksimum (dalam °C) pada hari pengamatan. Terdapat 715 entri non-null dengan tipe data float64.\n",
        "\n",
        "- temp_rata-rata: Temperatur rata-rata (dalam °C) pada hari pengamatan. Terdapat 716 entri non-null dengan tipe data float64.\n",
        "\n",
        "- lembab_rata-rata: Kelembapan rata-rata (dalam %) pada hari pengamatan. Terdapat 716 entri non-null dengan tipe data float64.\n",
        "\n",
        "- ch: Curah hujan (dalam mm) pada hari pengamatan. Terdapat 716 entri non-null dengan tipe data float64.\n",
        "\n",
        "- cahaya_jam: Lamanya penyinaran matahari (dalam jam) pada hari pengamatan. Terdapat 717 entri non-null dengan tipe data float64."
      ],
      "metadata": {
        "id": "-6miym5GVbaC"
      }
    },
    {
      "cell_type": "markdown",
      "source": [
        "####Informasi Statistik Deskriptif"
      ],
      "metadata": {
        "id": "D5GD3qzXVrF5"
      }
    },
    {
      "cell_type": "code",
      "source": [
        "#Ketikkan kode disini, untuk menampilkan hasil statistik deskriptif dari kolom numerik yang ada pada dataset kalian\n",
        "\n",
        "# df = pd.read_csv('data_cuaca.csv', delimiter=';')\n",
        "df.describe()"
      ],
      "metadata": {
        "id": "rHdqc2OkVuPC",
        "colab": {
          "base_uri": "https://localhost:8080/",
          "height": 300
        },
        "outputId": "8a7a938e-d4a2-43fb-e61b-fae020f19587"
      },
      "execution_count": 78,
      "outputs": [
        {
          "output_type": "execute_result",
          "data": {
            "text/plain": [
              "              Thn         bln         tgl     temp_min     temp_max  \\\n",
              "count   719.00000  719.000000  719.000000   718.000000   715.000000   \n",
              "mean   2022.49235    6.442281   15.563282    37.401950    46.165734   \n",
              "std       0.50029    3.408852    8.767571   372.284493   372.741102   \n",
              "min    2022.00000    1.000000    1.000000    18.200000    20.000000   \n",
              "25%    2022.00000    3.500000    8.000000    23.200000    31.200000   \n",
              "50%    2022.00000    6.000000   15.000000    23.800000    32.400000   \n",
              "75%    2023.00000    9.000000   23.000000    24.400000    33.350000   \n",
              "max    2023.00000   12.000000   31.000000  9999.000000  9999.000000   \n",
              "\n",
              "       temp_rata-rata  lembab_rata-rata           ch   cahaya_jam  \n",
              "count      716.000000        716.000000   716.000000   717.000000  \n",
              "mean        27.206285         83.681564   998.574441    32.383821  \n",
              "std          1.459084          6.636348  2800.073672   527.495165  \n",
              "min         23.700000         57.000000     0.000000     0.000000  \n",
              "25%         26.300000         80.000000     0.000000     2.300000  \n",
              "50%         27.000000         84.000000     1.400000     4.400000  \n",
              "75%         27.900000         88.000000    12.350000     6.700000  \n",
              "max         32.800000         99.000000  8888.000000  9999.000000  "
            ],
            "text/html": [
              "\n",
              "  <div id=\"df-bcdb8dcc-ced3-4af9-bcfb-204319ccd7f5\" class=\"colab-df-container\">\n",
              "    <div>\n",
              "<style scoped>\n",
              "    .dataframe tbody tr th:only-of-type {\n",
              "        vertical-align: middle;\n",
              "    }\n",
              "\n",
              "    .dataframe tbody tr th {\n",
              "        vertical-align: top;\n",
              "    }\n",
              "\n",
              "    .dataframe thead th {\n",
              "        text-align: right;\n",
              "    }\n",
              "</style>\n",
              "<table border=\"1\" class=\"dataframe\">\n",
              "  <thead>\n",
              "    <tr style=\"text-align: right;\">\n",
              "      <th></th>\n",
              "      <th>Thn</th>\n",
              "      <th>bln</th>\n",
              "      <th>tgl</th>\n",
              "      <th>temp_min</th>\n",
              "      <th>temp_max</th>\n",
              "      <th>temp_rata-rata</th>\n",
              "      <th>lembab_rata-rata</th>\n",
              "      <th>ch</th>\n",
              "      <th>cahaya_jam</th>\n",
              "    </tr>\n",
              "  </thead>\n",
              "  <tbody>\n",
              "    <tr>\n",
              "      <th>count</th>\n",
              "      <td>719.00000</td>\n",
              "      <td>719.000000</td>\n",
              "      <td>719.000000</td>\n",
              "      <td>718.000000</td>\n",
              "      <td>715.000000</td>\n",
              "      <td>716.000000</td>\n",
              "      <td>716.000000</td>\n",
              "      <td>716.000000</td>\n",
              "      <td>717.000000</td>\n",
              "    </tr>\n",
              "    <tr>\n",
              "      <th>mean</th>\n",
              "      <td>2022.49235</td>\n",
              "      <td>6.442281</td>\n",
              "      <td>15.563282</td>\n",
              "      <td>37.401950</td>\n",
              "      <td>46.165734</td>\n",
              "      <td>27.206285</td>\n",
              "      <td>83.681564</td>\n",
              "      <td>998.574441</td>\n",
              "      <td>32.383821</td>\n",
              "    </tr>\n",
              "    <tr>\n",
              "      <th>std</th>\n",
              "      <td>0.50029</td>\n",
              "      <td>3.408852</td>\n",
              "      <td>8.767571</td>\n",
              "      <td>372.284493</td>\n",
              "      <td>372.741102</td>\n",
              "      <td>1.459084</td>\n",
              "      <td>6.636348</td>\n",
              "      <td>2800.073672</td>\n",
              "      <td>527.495165</td>\n",
              "    </tr>\n",
              "    <tr>\n",
              "      <th>min</th>\n",
              "      <td>2022.00000</td>\n",
              "      <td>1.000000</td>\n",
              "      <td>1.000000</td>\n",
              "      <td>18.200000</td>\n",
              "      <td>20.000000</td>\n",
              "      <td>23.700000</td>\n",
              "      <td>57.000000</td>\n",
              "      <td>0.000000</td>\n",
              "      <td>0.000000</td>\n",
              "    </tr>\n",
              "    <tr>\n",
              "      <th>25%</th>\n",
              "      <td>2022.00000</td>\n",
              "      <td>3.500000</td>\n",
              "      <td>8.000000</td>\n",
              "      <td>23.200000</td>\n",
              "      <td>31.200000</td>\n",
              "      <td>26.300000</td>\n",
              "      <td>80.000000</td>\n",
              "      <td>0.000000</td>\n",
              "      <td>2.300000</td>\n",
              "    </tr>\n",
              "    <tr>\n",
              "      <th>50%</th>\n",
              "      <td>2022.00000</td>\n",
              "      <td>6.000000</td>\n",
              "      <td>15.000000</td>\n",
              "      <td>23.800000</td>\n",
              "      <td>32.400000</td>\n",
              "      <td>27.000000</td>\n",
              "      <td>84.000000</td>\n",
              "      <td>1.400000</td>\n",
              "      <td>4.400000</td>\n",
              "    </tr>\n",
              "    <tr>\n",
              "      <th>75%</th>\n",
              "      <td>2023.00000</td>\n",
              "      <td>9.000000</td>\n",
              "      <td>23.000000</td>\n",
              "      <td>24.400000</td>\n",
              "      <td>33.350000</td>\n",
              "      <td>27.900000</td>\n",
              "      <td>88.000000</td>\n",
              "      <td>12.350000</td>\n",
              "      <td>6.700000</td>\n",
              "    </tr>\n",
              "    <tr>\n",
              "      <th>max</th>\n",
              "      <td>2023.00000</td>\n",
              "      <td>12.000000</td>\n",
              "      <td>31.000000</td>\n",
              "      <td>9999.000000</td>\n",
              "      <td>9999.000000</td>\n",
              "      <td>32.800000</td>\n",
              "      <td>99.000000</td>\n",
              "      <td>8888.000000</td>\n",
              "      <td>9999.000000</td>\n",
              "    </tr>\n",
              "  </tbody>\n",
              "</table>\n",
              "</div>\n",
              "    <div class=\"colab-df-buttons\">\n",
              "\n",
              "  <div class=\"colab-df-container\">\n",
              "    <button class=\"colab-df-convert\" onclick=\"convertToInteractive('df-bcdb8dcc-ced3-4af9-bcfb-204319ccd7f5')\"\n",
              "            title=\"Convert this dataframe to an interactive table.\"\n",
              "            style=\"display:none;\">\n",
              "\n",
              "  <svg xmlns=\"http://www.w3.org/2000/svg\" height=\"24px\" viewBox=\"0 -960 960 960\">\n",
              "    <path d=\"M120-120v-720h720v720H120Zm60-500h600v-160H180v160Zm220 220h160v-160H400v160Zm0 220h160v-160H400v160ZM180-400h160v-160H180v160Zm440 0h160v-160H620v160ZM180-180h160v-160H180v160Zm440 0h160v-160H620v160Z\"/>\n",
              "  </svg>\n",
              "    </button>\n",
              "\n",
              "  <style>\n",
              "    .colab-df-container {\n",
              "      display:flex;\n",
              "      gap: 12px;\n",
              "    }\n",
              "\n",
              "    .colab-df-convert {\n",
              "      background-color: #E8F0FE;\n",
              "      border: none;\n",
              "      border-radius: 50%;\n",
              "      cursor: pointer;\n",
              "      display: none;\n",
              "      fill: #1967D2;\n",
              "      height: 32px;\n",
              "      padding: 0 0 0 0;\n",
              "      width: 32px;\n",
              "    }\n",
              "\n",
              "    .colab-df-convert:hover {\n",
              "      background-color: #E2EBFA;\n",
              "      box-shadow: 0px 1px 2px rgba(60, 64, 67, 0.3), 0px 1px 3px 1px rgba(60, 64, 67, 0.15);\n",
              "      fill: #174EA6;\n",
              "    }\n",
              "\n",
              "    .colab-df-buttons div {\n",
              "      margin-bottom: 4px;\n",
              "    }\n",
              "\n",
              "    [theme=dark] .colab-df-convert {\n",
              "      background-color: #3B4455;\n",
              "      fill: #D2E3FC;\n",
              "    }\n",
              "\n",
              "    [theme=dark] .colab-df-convert:hover {\n",
              "      background-color: #434B5C;\n",
              "      box-shadow: 0px 1px 3px 1px rgba(0, 0, 0, 0.15);\n",
              "      filter: drop-shadow(0px 1px 2px rgba(0, 0, 0, 0.3));\n",
              "      fill: #FFFFFF;\n",
              "    }\n",
              "  </style>\n",
              "\n",
              "    <script>\n",
              "      const buttonEl =\n",
              "        document.querySelector('#df-bcdb8dcc-ced3-4af9-bcfb-204319ccd7f5 button.colab-df-convert');\n",
              "      buttonEl.style.display =\n",
              "        google.colab.kernel.accessAllowed ? 'block' : 'none';\n",
              "\n",
              "      async function convertToInteractive(key) {\n",
              "        const element = document.querySelector('#df-bcdb8dcc-ced3-4af9-bcfb-204319ccd7f5');\n",
              "        const dataTable =\n",
              "          await google.colab.kernel.invokeFunction('convertToInteractive',\n",
              "                                                    [key], {});\n",
              "        if (!dataTable) return;\n",
              "\n",
              "        const docLinkHtml = 'Like what you see? Visit the ' +\n",
              "          '<a target=\"_blank\" href=https://colab.research.google.com/notebooks/data_table.ipynb>data table notebook</a>'\n",
              "          + ' to learn more about interactive tables.';\n",
              "        element.innerHTML = '';\n",
              "        dataTable['output_type'] = 'display_data';\n",
              "        await google.colab.output.renderOutput(dataTable, element);\n",
              "        const docLink = document.createElement('div');\n",
              "        docLink.innerHTML = docLinkHtml;\n",
              "        element.appendChild(docLink);\n",
              "      }\n",
              "    </script>\n",
              "  </div>\n",
              "\n",
              "\n",
              "<div id=\"df-0cd5619e-615a-41d9-b9a7-a451c6a04a71\">\n",
              "  <button class=\"colab-df-quickchart\" onclick=\"quickchart('df-0cd5619e-615a-41d9-b9a7-a451c6a04a71')\"\n",
              "            title=\"Suggest charts\"\n",
              "            style=\"display:none;\">\n",
              "\n",
              "<svg xmlns=\"http://www.w3.org/2000/svg\" height=\"24px\"viewBox=\"0 0 24 24\"\n",
              "     width=\"24px\">\n",
              "    <g>\n",
              "        <path d=\"M19 3H5c-1.1 0-2 .9-2 2v14c0 1.1.9 2 2 2h14c1.1 0 2-.9 2-2V5c0-1.1-.9-2-2-2zM9 17H7v-7h2v7zm4 0h-2V7h2v10zm4 0h-2v-4h2v4z\"/>\n",
              "    </g>\n",
              "</svg>\n",
              "  </button>\n",
              "\n",
              "<style>\n",
              "  .colab-df-quickchart {\n",
              "      --bg-color: #E8F0FE;\n",
              "      --fill-color: #1967D2;\n",
              "      --hover-bg-color: #E2EBFA;\n",
              "      --hover-fill-color: #174EA6;\n",
              "      --disabled-fill-color: #AAA;\n",
              "      --disabled-bg-color: #DDD;\n",
              "  }\n",
              "\n",
              "  [theme=dark] .colab-df-quickchart {\n",
              "      --bg-color: #3B4455;\n",
              "      --fill-color: #D2E3FC;\n",
              "      --hover-bg-color: #434B5C;\n",
              "      --hover-fill-color: #FFFFFF;\n",
              "      --disabled-bg-color: #3B4455;\n",
              "      --disabled-fill-color: #666;\n",
              "  }\n",
              "\n",
              "  .colab-df-quickchart {\n",
              "    background-color: var(--bg-color);\n",
              "    border: none;\n",
              "    border-radius: 50%;\n",
              "    cursor: pointer;\n",
              "    display: none;\n",
              "    fill: var(--fill-color);\n",
              "    height: 32px;\n",
              "    padding: 0;\n",
              "    width: 32px;\n",
              "  }\n",
              "\n",
              "  .colab-df-quickchart:hover {\n",
              "    background-color: var(--hover-bg-color);\n",
              "    box-shadow: 0 1px 2px rgba(60, 64, 67, 0.3), 0 1px 3px 1px rgba(60, 64, 67, 0.15);\n",
              "    fill: var(--button-hover-fill-color);\n",
              "  }\n",
              "\n",
              "  .colab-df-quickchart-complete:disabled,\n",
              "  .colab-df-quickchart-complete:disabled:hover {\n",
              "    background-color: var(--disabled-bg-color);\n",
              "    fill: var(--disabled-fill-color);\n",
              "    box-shadow: none;\n",
              "  }\n",
              "\n",
              "  .colab-df-spinner {\n",
              "    border: 2px solid var(--fill-color);\n",
              "    border-color: transparent;\n",
              "    border-bottom-color: var(--fill-color);\n",
              "    animation:\n",
              "      spin 1s steps(1) infinite;\n",
              "  }\n",
              "\n",
              "  @keyframes spin {\n",
              "    0% {\n",
              "      border-color: transparent;\n",
              "      border-bottom-color: var(--fill-color);\n",
              "      border-left-color: var(--fill-color);\n",
              "    }\n",
              "    20% {\n",
              "      border-color: transparent;\n",
              "      border-left-color: var(--fill-color);\n",
              "      border-top-color: var(--fill-color);\n",
              "    }\n",
              "    30% {\n",
              "      border-color: transparent;\n",
              "      border-left-color: var(--fill-color);\n",
              "      border-top-color: var(--fill-color);\n",
              "      border-right-color: var(--fill-color);\n",
              "    }\n",
              "    40% {\n",
              "      border-color: transparent;\n",
              "      border-right-color: var(--fill-color);\n",
              "      border-top-color: var(--fill-color);\n",
              "    }\n",
              "    60% {\n",
              "      border-color: transparent;\n",
              "      border-right-color: var(--fill-color);\n",
              "    }\n",
              "    80% {\n",
              "      border-color: transparent;\n",
              "      border-right-color: var(--fill-color);\n",
              "      border-bottom-color: var(--fill-color);\n",
              "    }\n",
              "    90% {\n",
              "      border-color: transparent;\n",
              "      border-bottom-color: var(--fill-color);\n",
              "    }\n",
              "  }\n",
              "</style>\n",
              "\n",
              "  <script>\n",
              "    async function quickchart(key) {\n",
              "      const quickchartButtonEl =\n",
              "        document.querySelector('#' + key + ' button');\n",
              "      quickchartButtonEl.disabled = true;  // To prevent multiple clicks.\n",
              "      quickchartButtonEl.classList.add('colab-df-spinner');\n",
              "      try {\n",
              "        const charts = await google.colab.kernel.invokeFunction(\n",
              "            'suggestCharts', [key], {});\n",
              "      } catch (error) {\n",
              "        console.error('Error during call to suggestCharts:', error);\n",
              "      }\n",
              "      quickchartButtonEl.classList.remove('colab-df-spinner');\n",
              "      quickchartButtonEl.classList.add('colab-df-quickchart-complete');\n",
              "    }\n",
              "    (() => {\n",
              "      let quickchartButtonEl =\n",
              "        document.querySelector('#df-0cd5619e-615a-41d9-b9a7-a451c6a04a71 button');\n",
              "      quickchartButtonEl.style.display =\n",
              "        google.colab.kernel.accessAllowed ? 'block' : 'none';\n",
              "    })();\n",
              "  </script>\n",
              "</div>\n",
              "    </div>\n",
              "  </div>\n"
            ],
            "application/vnd.google.colaboratory.intrinsic+json": {
              "type": "dataframe",
              "summary": "{\n  \"name\": \"df\",\n  \"rows\": 8,\n  \"fields\": [\n    {\n      \"column\": \"Thn\",\n      \"properties\": {\n        \"dtype\": \"number\",\n        \"std\": 793.2578133813358,\n        \"min\": 0.5002895090498716,\n        \"max\": 2023.0,\n        \"num_unique_values\": 5,\n        \"samples\": [\n          2022.4923504867872,\n          2023.0,\n          0.5002895090498716\n        ],\n        \"semantic_type\": \"\",\n        \"description\": \"\"\n      }\n    },\n    {\n      \"column\": \"bln\",\n      \"properties\": {\n        \"dtype\": \"number\",\n        \"std\": 252.13988255018927,\n        \"min\": 1.0,\n        \"max\": 719.0,\n        \"num_unique_values\": 8,\n        \"samples\": [\n          6.4422809457579975,\n          6.0,\n          719.0\n        ],\n        \"semantic_type\": \"\",\n        \"description\": \"\"\n      }\n    },\n    {\n      \"column\": \"tgl\",\n      \"properties\": {\n        \"dtype\": \"number\",\n        \"std\": 249.2093324932393,\n        \"min\": 1.0,\n        \"max\": 719.0,\n        \"num_unique_values\": 8,\n        \"samples\": [\n          15.563282336578581,\n          15.0,\n          719.0\n        ],\n        \"semantic_type\": \"\",\n        \"description\": \"\"\n      }\n    },\n    {\n      \"column\": \"temp_min\",\n      \"properties\": {\n        \"dtype\": \"number\",\n        \"std\": 3482.8542427260745,\n        \"min\": 18.2,\n        \"max\": 9999.0,\n        \"num_unique_values\": 8,\n        \"samples\": [\n          37.40194986072424,\n          23.8,\n          718.0\n        ],\n        \"semantic_type\": \"\",\n        \"description\": \"\"\n      }\n    },\n    {\n      \"column\": \"temp_max\",\n      \"properties\": {\n        \"dtype\": \"number\",\n        \"std\": 3480.8849197415143,\n        \"min\": 20.0,\n        \"max\": 9999.0,\n        \"num_unique_values\": 8,\n        \"samples\": [\n          46.165734265734265,\n          32.4,\n          715.0\n        ],\n        \"semantic_type\": \"\",\n        \"description\": \"\"\n      }\n    },\n    {\n      \"column\": \"temp_rata-rata\",\n      \"properties\": {\n        \"dtype\": \"number\",\n        \"std\": 244.92385416694455,\n        \"min\": 1.459083780853034,\n        \"max\": 716.0,\n        \"num_unique_values\": 8,\n        \"samples\": [\n          27.206284916201117,\n          27.0,\n          716.0\n        ],\n        \"semantic_type\": \"\",\n        \"description\": \"\"\n      }\n    },\n    {\n      \"column\": \"lembab_rata-rata\",\n      \"properties\": {\n        \"dtype\": \"number\",\n        \"std\": 229.792343003743,\n        \"min\": 6.636347955997297,\n        \"max\": 716.0,\n        \"num_unique_values\": 8,\n        \"samples\": [\n          83.68156424581005,\n          84.0,\n          716.0\n        ],\n        \"semantic_type\": \"\",\n        \"description\": \"\"\n      }\n    },\n    {\n      \"column\": \"ch\",\n      \"properties\": {\n        \"dtype\": \"number\",\n        \"std\": 3067.0355784164817,\n        \"min\": 0.0,\n        \"max\": 8888.0,\n        \"num_unique_values\": 7,\n        \"samples\": [\n          716.0,\n          998.5744413407821,\n          12.350000000000001\n        ],\n        \"semantic_type\": \"\",\n        \"description\": \"\"\n      }\n    },\n    {\n      \"column\": \"cahaya_jam\",\n      \"properties\": {\n        \"dtype\": \"number\",\n        \"std\": 3481.4299585919484,\n        \"min\": 0.0,\n        \"max\": 9999.0,\n        \"num_unique_values\": 8,\n        \"samples\": [\n          32.38382147838214,\n          4.4,\n          717.0\n        ],\n        \"semantic_type\": \"\",\n        \"description\": \"\"\n      }\n    }\n  ]\n}"
            }
          },
          "metadata": {},
          "execution_count": 78
        }
      ]
    },
    {
      "cell_type": "markdown",
      "source": [
        "Count (Jumlah): Menunjukkan jumlah entri atau observasi yang terdapat dalam setiap kolom. Nilai ini memberikan informasi tentang berapa kali data telah diamati atau diukur untuk setiap atribut.\n",
        "\n",
        "Mean (Rata-rata): Menunjukkan nilai rata-rata dari setiap kolom. Ini adalah jumlah dari semua nilai dalam kolom dibagi dengan jumlah total entri non-null.\n",
        "\n",
        "Std (Standar Deviasi): Menunjukkan standar deviasi dari setiap kolom, yang merupakan ukuran sebaran atau variasi dari nilai-nilai dalam kolom tersebut.\n",
        "\n",
        "Min (Minimum): Menunjukkan nilai minimum dalam setiap kolom, yaitu nilai terendah yang diamati dalam set data.\n",
        "\n",
        "25th Percentile (Kuartil 1): Menunjukkan nilai kuartil pertama dari setiap kolom, yang membagi data menjadi dua bagian dengan 25% data lebih rendah dari nilai ini.\n",
        "\n",
        "50th Percentile (Median atau Kuartil 2): Menunjukkan nilai median dari setiap kolom, yang merupakan nilai tengah dari data saat diurutkan.\n",
        "\n",
        "75th Percentile (Kuartil 3): Menunjukkan nilai kuartil ketiga dari setiap kolom, yang membagi data menjadi dua bagian dengan 25% data lebih tinggi dari nilai ini.\n",
        "\n",
        "Max (Maksimum): Menunjukkan nilai maksimum dalam setiap kolom, yaitu nilai tertinggi yang diamati dalam set data."
      ],
      "metadata": {
        "id": "q_OSzaKKV28E"
      }
    },
    {
      "cell_type": "markdown",
      "source": [
        "##**Exploratory Data Analysis**"
      ],
      "metadata": {
        "id": "YVd8wfBkV9OE"
      }
    },
    {
      "cell_type": "code",
      "source": [
        "# df = pd.read_csv('data_cuaca.csv', delimiter=';')\n",
        "\n",
        "pivot_table = df.pivot_table(values=['temp_min', 'temp_max'], index='bln', aggfunc='mean')\n",
        "\n",
        "plt.figure(figsize=(10, 6))\n",
        "sns.heatmap(pivot_table, annot=True, cmap='coolwarm', fmt=\".1f\")\n",
        "plt.title('Heatmap Korelasi Antara Bulan dan Temperatur')\n",
        "plt.xlabel('Variabel')\n",
        "plt.ylabel('Bulan')\n",
        "plt.show()\n",
        "\n",
        "min_temp_max = df['temp_max'].min()\n",
        "max_temp_max = df['temp_max'].max()"
      ],
      "metadata": {
        "id": "_ohZShs2Wv9r",
        "colab": {
          "base_uri": "https://localhost:8080/",
          "height": 564
        },
        "outputId": "a1a1f9e1-654f-4f01-c734-dee6cdf795d7"
      },
      "execution_count": 79,
      "outputs": [
        {
          "output_type": "display_data",
          "data": {
            "text/plain": [
              "<Figure size 1000x600 with 2 Axes>"
            ],
            "image/png": "[encoded data removed]"
          },
          "metadata": {}
        }
      ]
    },
    {
      "cell_type": "markdown",
      "source": [
        "\n",
        "Gambar tersebut adalah sebuah heatmap yang menggambarkan korelasi antara bulan dengan dua variabel, yaitu suhu maksimum (temp_max) dan suhu minimum (temp_min).\n",
        "\n",
        "Bulan 4-6: Korelasi positif yang kuat (nilai mendekati 1) menunjukkan bahwa temperatur cenderung meningkat seiring dengan bulan.\n",
        "\n",
        "Bulan 7-9: Korelasi positif yang lemah (nilai mendekati 0) menunjukkan bahwa temperatur masih meningkat, tetapi korelasinya lebih lemah.\n",
        "\n",
        "Bulan 10-12: Korelasi negatif (nilai mendekati -1) menunjukkan bahwa temperatur cenderung menurun seiring dengan bulan.\n",
        "\n",
        "Bulan 1-3: Korelasi negatif yang lemah (nilai mendekati 0) menunjukkan bahwa temperatur masih menurun, tetapi korelasinya lebih lemah."
      ],
      "metadata": {
        "id": "6qAQYs1vKmof"
      }
    },
    {
      "cell_type": "code",
      "source": [
        "# df = pd.read_csv('data_cuaca.csv', delimiter=';')\n",
        "\n",
        "df_bulan = df.groupby('bln').mean()\n",
        "\n",
        "plt.plot(df_bulan['cahaya_jam'], label='Cahaya Jam')\n",
        "\n",
        "plt.title('Hubungan antara lamanya penyinaran matahari dengan bulan')\n",
        "plt.xlabel('Bulan')\n",
        "plt.ylabel('Cahaya Jam (jam)')\n",
        "\n",
        "plt.show()\n"
      ],
      "metadata": {
        "colab": {
          "base_uri": "https://localhost:8080/",
          "height": 472
        },
        "id": "Qo1un9lT5jxJ",
        "outputId": "228832e0-9ee3-4b61-f020-36878d6d9f10"
      },
      "execution_count": 80,
      "outputs": [
        {
          "output_type": "display_data",
          "data": {
            "text/plain": [
              "<Figure size 640x480 with 1 Axes>"
            ],
            "image/png": "[encoded data removed]"
          },
          "metadata": {}
        }
      ]
    },
    {
      "cell_type": "markdown",
      "source": [
        "Chart ini menunjukkan total cahaya jam per bulan dengan total cahaya jam paling tinggi adalah bulan Juli dengan 120 jam. Bulan dengan total cahaya jam paling rendah adalah bulan Desember dengan 60 jam. Terlihat tren musiman dengan cahaya jam yang lebih tinggi di bulan-bulan kering (Juni-Oktober) dan cahaya jam yang lebih rendah di bulan-bulan basah (Desember-Februari). Faktor yang mungkin mempengaruhi cahaya jam termasuk curah hujan, temperatur, dan tutupan awan"
      ],
      "metadata": {
        "id": "BfMeFtQY7ess"
      }
    },
    {
      "cell_type": "markdown",
      "source": [
        "##**Verify Data Quality**"
      ],
      "metadata": {
        "id": "BqwrKc6WXFpz"
      }
    },
    {
      "cell_type": "markdown",
      "source": [
        "####Missing Values"
      ],
      "metadata": {
        "id": "JrPhpE3VXTMR"
      }
    },
    {
      "cell_type": "code",
      "source": [
        "#Tambahkan kode untuk mengecek apakah ada nilai kosong pada tiap kolom di dataset kalian ya\n",
        "\n",
        "miss =df.isnull().sum()\n",
        "print(\"Nilai kosong yang ada pada dataset\")\n",
        "print(miss)"
      ],
      "metadata": {
        "id": "iq2vTmQJXhuj",
        "colab": {
          "base_uri": "https://localhost:8080/"
        },
        "outputId": "2b04303e-f2e9-423c-d18f-15be0d5a98d9"
      },
      "execution_count": 81,
      "outputs": [
        {
          "output_type": "stream",
          "name": "stdout",
          "text": [
            "Nilai kosong yang ada pada dataset\n",
            "Thn                 0\n",
            "bln                 0\n",
            "tgl                 0\n",
            "temp_min            1\n",
            "temp_max            4\n",
            "temp_rata-rata      3\n",
            "lembab_rata-rata    3\n",
            "ch                  3\n",
            "cahaya_jam          2\n",
            "dtype: int64\n"
          ]
        }
      ]
    },
    {
      "cell_type": "markdown",
      "source": [
        "- Kolom 'Thn', 'bln', dan 'tgl' tidak memiliki nilai kosong (0 nilai kosong).\n",
        "- Kolom 'temp_min' memiliki 1 nilai kosong.\n",
        "- Kolom 'temp_max' memiliki 4 nilai kosong.\n",
        "- Kolom 'temp_rata-rata' memiliki 3 nilai kosong.\n",
        "- Kolom 'lembab_rata-rata' memiliki 3 nilai kosong.\n",
        "- Kolom 'ch' memiliki 3 nilai kosong.\n",
        "- Kolom 'cahaya_jam' memiliki 2 nilai kosong."
      ],
      "metadata": {
        "id": "2qJ5hwEqXoLo"
      }
    },
    {
      "cell_type": "markdown",
      "source": [
        "####Outliers Values"
      ],
      "metadata": {
        "id": "jEeCU-vVXV84"
      }
    },
    {
      "cell_type": "code",
      "source": [
        "#Tambahkan kode untuk mengecek apakah ada outliers pada tiap kolom di dataset kalian ya\n",
        "\n",
        "num_clmn = df.select_dtypes(include=[np.number]).columns.tolist()\n",
        "outliers = {}\n",
        "for col in num_clmn:\n",
        "    Q1 = df[col].quantile(0.25)\n",
        "    Q3 = df[col].quantile(0.75)\n",
        "    IQR = Q3 - Q1\n",
        "    outliers[col] = ((df[col] < (Q1 - 1.5 * IQR)) | (df[col] > (Q3 + 1.5 * IQR))).sum()\n",
        "outliers"
      ],
      "metadata": {
        "id": "HGiqZ6aOX6HY",
        "colab": {
          "base_uri": "https://localhost:8080/"
        },
        "outputId": "aa5d9867-0878-41fb-f7f0-69d312486d54"
      },
      "execution_count": 82,
      "outputs": [
        {
          "output_type": "execute_result",
          "data": {
            "text/plain": [
              "{'Thn': 0,\n",
              " 'bln': 0,\n",
              " 'tgl': 0,\n",
              " 'temp_min': 60,\n",
              " 'temp_max': 26,\n",
              " 'temp_rata-rata': 38,\n",
              " 'lembab_rata-rata': 21,\n",
              " 'ch': 114,\n",
              " 'cahaya_jam': 2}"
            ]
          },
          "metadata": {},
          "execution_count": 82
        }
      ]
    },
    {
      "cell_type": "markdown",
      "source": [
        "- Thn, bln, dan tgl: Tidak ada outliers dalam kolom-kolom ini, karena jumlah nilai yang dianggap sebagai outliers adalah 0.\n",
        "- temp_min: Terdapat 60 outliers dalam kolom temp_min.\n",
        "- temp_max: Terdapat 26 outliers dalam kolom temp_max.\n",
        "- temp_rata-rata: Terdapat 38 outliers dalam kolom temp_rata-rata.\n",
        "- lembab_rata-rata: Terdapat 21 outliers dalam kolom lembab_rata-rata.\n",
        "- ch: Terdapat 114 outliers dalam kolom ch.\n",
        "- cahaya_jam: Terdapat 2 outliers dalam kolom cahaya_jam."
      ],
      "metadata": {
        "id": "ggn0R2wCXuSC"
      }
    },
    {
      "cell_type": "markdown",
      "source": [
        "####Duplicated Values"
      ],
      "metadata": {
        "id": "vWjwGwZaXaod"
      }
    },
    {
      "cell_type": "code",
      "source": [
        "#Tambahkan kode untuk mengecek apakah ada nilai duplikat pada tiap kolom di dataset kalian ya\n",
        "\n",
        "df.duplicated().sum()"
      ],
      "metadata": {
        "id": "7wcta1dbX8l3",
        "colab": {
          "base_uri": "https://localhost:8080/"
        },
        "outputId": "3495d278-d9b9-4430-fdfa-ea46b5554e17"
      },
      "execution_count": 83,
      "outputs": [
        {
          "output_type": "execute_result",
          "data": {
            "text/plain": [
              "0"
            ]
          },
          "metadata": {},
          "execution_count": 83
        }
      ]
    },
    {
      "cell_type": "markdown",
      "source": [
        "Pada data saya tidak terdapat nilai duplikat pada tiap kolom dataset"
      ],
      "metadata": {
        "id": "VKTUrMJAX0fv"
      }
    },
    {
      "cell_type": "markdown",
      "source": [
        "####Inconsistent Values / Noise (Optional)"
      ],
      "metadata": {
        "id": "q0_lULWDX-y6"
      }
    },
    {
      "cell_type": "code",
      "source": [
        "#Tambahkan kode untuk mengecek apakah ada nilai inkosisten/noise pada tiap kolom di dataset kalian ya (OPSIONAL)"
      ],
      "metadata": {
        "id": "cnvHMqE3YawE"
      },
      "execution_count": 84,
      "outputs": []
    },
    {
      "cell_type": "markdown",
      "source": [
        "Jangan lupa juga untuk berikan penjelasan di sini (OPSIONAL)"
      ],
      "metadata": {
        "id": "zN9xijkWYhq2"
      }
    },
    {
      "cell_type": "markdown",
      "source": [
        "#**Data Cleaning**"
      ],
      "metadata": {
        "id": "61y-BbVVG4Kr"
      }
    },
    {
      "cell_type": "markdown",
      "source": [
        "###**Penanganan Missing Values**"
      ],
      "metadata": {
        "id": "lXNWyY6qHFrw"
      }
    },
    {
      "cell_type": "markdown",
      "source": [
        "#####**Pengecekkan Missing Values**"
      ],
      "metadata": {
        "id": "NjMIxfXEHRHi"
      }
    },
    {
      "cell_type": "markdown",
      "source": [
        "Ini adalah output dalam persentase, yang bisa dijadikan sebagai acuan untuk pengambilan keputusan terhadap apa yang akan dilakukan pada nilai kosong."
      ],
      "metadata": {
        "id": "28rZR8pULMLV"
      }
    },
    {
      "cell_type": "code",
      "source": [
        "print((df.isna().sum() / len(df)) * 100)"
      ],
      "metadata": {
        "colab": {
          "base_uri": "https://localhost:8080/"
        },
        "id": "TWVWUDQCHp-I",
        "outputId": "7d59ee08-46f7-49b8-f011-ec9e1bf3c955"
      },
      "execution_count": 85,
      "outputs": [
        {
          "output_type": "stream",
          "name": "stdout",
          "text": [
            "Thn                 0.000000\n",
            "bln                 0.000000\n",
            "tgl                 0.000000\n",
            "temp_min            0.139082\n",
            "temp_max            0.556328\n",
            "temp_rata-rata      0.417246\n",
            "lembab_rata-rata    0.417246\n",
            "ch                  0.417246\n",
            "cahaya_jam          0.278164\n",
            "dtype: float64\n"
          ]
        }
      ]
    },
    {
      "cell_type": "markdown",
      "source": [
        "Output tersebut menunjukkan hasil\n",
        "- Thn, bln, tgl: Tidak ada nilai yang kosong dalam kolom-kolom ini, karena persentase nilai kosong adalah 0%.\n",
        "- temp_min: Sekitar 0.14% dari nilai dalam kolom ini kosong.\n",
        "- temp_max: Sekitar 0.56% dari nilai dalam kolom ini kosong.\n",
        "- temp_rata-rata, lembab_rata-rata, ch: Sekitar 0.42% dari nilai dalam masing-masing kolom ini kosong.\n",
        "- cahaya_jam: Sekitar 0.28% dari nilai dalam kolom ini kosong."
      ],
      "metadata": {
        "id": "AFxm69YVMiY7"
      }
    },
    {
      "cell_type": "markdown",
      "source": [
        "nilai kosong pada kolom temp_max"
      ],
      "metadata": {
        "id": "GEJWzXzXM9zd"
      }
    },
    {
      "cell_type": "code",
      "source": [
        "df[df['temp_max'].isnull()]"
      ],
      "metadata": {
        "colab": {
          "base_uri": "https://localhost:8080/",
          "height": 175
        },
        "id": "BJh-et_WMNbf",
        "outputId": "0ea0b0e1-4035-4889-fc49-e36b3d2b0818"
      },
      "execution_count": 86,
      "outputs": [
        {
          "output_type": "execute_result",
          "data": {
            "text/plain": [
              "      Thn  bln  tgl  temp_min  temp_max  temp_rata-rata  lembab_rata-rata  \\\n",
              "38   2022    2    8      24.0       NaN            26.2              90.0   \n",
              "390  2023    1   26      24.2       NaN            27.8              82.0   \n",
              "660  2023   10   23       NaN       NaN             NaN               NaN   \n",
              "708  2023   12   10      23.4       NaN            27.9              85.0   \n",
              "\n",
              "       ch  cahaya_jam  \n",
              "38    2.0         2.0  \n",
              "390   3.4         3.0  \n",
              "660   NaN         NaN  \n",
              "708  28.8         2.3  "
            ],
            "text/html": [
              "\n",
              "  <div id=\"df-2363fa40-023f-412b-875f-7cd1afdb3df9\" class=\"colab-df-container\">\n",
              "    <div>\n",
              "<style scoped>\n",
              "    .dataframe tbody tr th:only-of-type {\n",
              "        vertical-align: middle;\n",
              "    }\n",
              "\n",
              "    .dataframe tbody tr th {\n",
              "        vertical-align: top;\n",
              "    }\n",
              "\n",
              "    .dataframe thead th {\n",
              "        text-align: right;\n",
              "    }\n",
              "</style>\n",
              "<table border=\"1\" class=\"dataframe\">\n",
              "  <thead>\n",
              "    <tr style=\"text-align: right;\">\n",
              "      <th></th>\n",
              "      <th>Thn</th>\n",
              "      <th>bln</th>\n",
              "      <th>tgl</th>\n",
              "      <th>temp_min</th>\n",
              "      <th>temp_max</th>\n",
              "      <th>temp_rata-rata</th>\n",
              "      <th>lembab_rata-rata</th>\n",
              "      <th>ch</th>\n",
              "      <th>cahaya_jam</th>\n",
              "    </tr>\n",
              "  </thead>\n",
              "  <tbody>\n",
              "    <tr>\n",
              "      <th>38</th>\n",
              "      <td>2022</td>\n",
              "      <td>2</td>\n",
              "      <td>8</td>\n",
              "      <td>24.0</td>\n",
              "      <td>NaN</td>\n",
              "      <td>26.2</td>\n",
              "      <td>90.0</td>\n",
              "      <td>2.0</td>\n",
              "      <td>2.0</td>\n",
              "    </tr>\n",
              "    <tr>\n",
              "      <th>390</th>\n",
              "      <td>2023</td>\n",
              "      <td>1</td>\n",
              "      <td>26</td>\n",
              "      <td>24.2</td>\n",
              "      <td>NaN</td>\n",
              "      <td>27.8</td>\n",
              "      <td>82.0</td>\n",
              "      <td>3.4</td>\n",
              "      <td>3.0</td>\n",
              "    </tr>\n",
              "    <tr>\n",
              "      <th>660</th>\n",
              "      <td>2023</td>\n",
              "      <td>10</td>\n",
              "      <td>23</td>\n",
              "      <td>NaN</td>\n",
              "      <td>NaN</td>\n",
              "      <td>NaN</td>\n",
              "      <td>NaN</td>\n",
              "      <td>NaN</td>\n",
              "      <td>NaN</td>\n",
              "    </tr>\n",
              "    <tr>\n",
              "      <th>708</th>\n",
              "      <td>2023</td>\n",
              "      <td>12</td>\n",
              "      <td>10</td>\n",
              "      <td>23.4</td>\n",
              "      <td>NaN</td>\n",
              "      <td>27.9</td>\n",
              "      <td>85.0</td>\n",
              "      <td>28.8</td>\n",
              "      <td>2.3</td>\n",
              "    </tr>\n",
              "  </tbody>\n",
              "</table>\n",
              "</div>\n",
              "    <div class=\"colab-df-buttons\">\n",
              "\n",
              "  <div class=\"colab-df-container\">\n",
              "    <button class=\"colab-df-convert\" onclick=\"convertToInteractive('df-2363fa40-023f-412b-875f-7cd1afdb3df9')\"\n",
              "            title=\"Convert this dataframe to an interactive table.\"\n",
              "            style=\"display:none;\">\n",
              "\n",
              "  <svg xmlns=\"http://www.w3.org/2000/svg\" height=\"24px\" viewBox=\"0 -960 960 960\">\n",
              "    <path d=\"M120-120v-720h720v720H120Zm60-500h600v-160H180v160Zm220 220h160v-160H400v160Zm0 220h160v-160H400v160ZM180-400h160v-160H180v160Zm440 0h160v-160H620v160ZM180-180h160v-160H180v160Zm440 0h160v-160H620v160Z\"/>\n",
              "  </svg>\n",
              "    </button>\n",
              "\n",
              "  <style>\n",
              "    .colab-df-container {\n",
              "      display:flex;\n",
              "      gap: 12px;\n",
              "    }\n",
              "\n",
              "    .colab-df-convert {\n",
              "      background-color: #E8F0FE;\n",
              "      border: none;\n",
              "      border-radius: 50%;\n",
              "      cursor: pointer;\n",
              "      display: none;\n",
              "      fill: #1967D2;\n",
              "      height: 32px;\n",
              "      padding: 0 0 0 0;\n",
              "      width: 32px;\n",
              "    }\n",
              "\n",
              "    .colab-df-convert:hover {\n",
              "      background-color: #E2EBFA;\n",
              "      box-shadow: 0px 1px 2px rgba(60, 64, 67, 0.3), 0px 1px 3px 1px rgba(60, 64, 67, 0.15);\n",
              "      fill: #174EA6;\n",
              "    }\n",
              "\n",
              "    .colab-df-buttons div {\n",
              "      margin-bottom: 4px;\n",
              "    }\n",
              "\n",
              "    [theme=dark] .colab-df-convert {\n",
              "      background-color: #3B4455;\n",
              "      fill: #D2E3FC;\n",
              "    }\n",
              "\n",
              "    [theme=dark] .colab-df-convert:hover {\n",
              "      background-color: #434B5C;\n",
              "      box-shadow: 0px 1px 3px 1px rgba(0, 0, 0, 0.15);\n",
              "      filter: drop-shadow(0px 1px 2px rgba(0, 0, 0, 0.3));\n",
              "      fill: #FFFFFF;\n",
              "    }\n",
              "  </style>\n",
              "\n",
              "    <script>\n",
              "      const buttonEl =\n",
              "        document.querySelector('#df-2363fa40-023f-412b-875f-7cd1afdb3df9 button.colab-df-convert');\n",
              "      buttonEl.style.display =\n",
              "        google.colab.kernel.accessAllowed ? 'block' : 'none';\n",
              "\n",
              "      async function convertToInteractive(key) {\n",
              "        const element = document.querySelector('#df-2363fa40-023f-412b-875f-7cd1afdb3df9');\n",
              "        const dataTable =\n",
              "          await google.colab.kernel.invokeFunction('convertToInteractive',\n",
              "                                                    [key], {});\n",
              "        if (!dataTable) return;\n",
              "\n",
              "        const docLinkHtml = 'Like what you see? Visit the ' +\n",
              "          '<a target=\"_blank\" href=https://colab.research.google.com/notebooks/data_table.ipynb>data table notebook</a>'\n",
              "          + ' to learn more about interactive tables.';\n",
              "        element.innerHTML = '';\n",
              "        dataTable['output_type'] = 'display_data';\n",
              "        await google.colab.output.renderOutput(dataTable, element);\n",
              "        const docLink = document.createElement('div');\n",
              "        docLink.innerHTML = docLinkHtml;\n",
              "        element.appendChild(docLink);\n",
              "      }\n",
              "    </script>\n",
              "  </div>\n",
              "\n",
              "\n",
              "<div id=\"df-38077f28-0af5-49ed-b4cb-ec1d00c000e5\">\n",
              "  <button class=\"colab-df-quickchart\" onclick=\"quickchart('df-38077f28-0af5-49ed-b4cb-ec1d00c000e5')\"\n",
              "            title=\"Suggest charts\"\n",
              "            style=\"display:none;\">\n",
              "\n",
              "<svg xmlns=\"http://www.w3.org/2000/svg\" height=\"24px\"viewBox=\"0 0 24 24\"\n",
              "     width=\"24px\">\n",
              "    <g>\n",
              "        <path d=\"M19 3H5c-1.1 0-2 .9-2 2v14c0 1.1.9 2 2 2h14c1.1 0 2-.9 2-2V5c0-1.1-.9-2-2-2zM9 17H7v-7h2v7zm4 0h-2V7h2v10zm4 0h-2v-4h2v4z\"/>\n",
              "    </g>\n",
              "</svg>\n",
              "  </button>\n",
              "\n",
              "<style>\n",
              "  .colab-df-quickchart {\n",
              "      --bg-color: #E8F0FE;\n",
              "      --fill-color: #1967D2;\n",
              "      --hover-bg-color: #E2EBFA;\n",
              "      --hover-fill-color: #174EA6;\n",
              "      --disabled-fill-color: #AAA;\n",
              "      --disabled-bg-color: #DDD;\n",
              "  }\n",
              "\n",
              "  [theme=dark] .colab-df-quickchart {\n",
              "      --bg-color: #3B4455;\n",
              "      --fill-color: #D2E3FC;\n",
              "      --hover-bg-color: #434B5C;\n",
              "      --hover-fill-color: #FFFFFF;\n",
              "      --disabled-bg-color: #3B4455;\n",
              "      --disabled-fill-color: #666;\n",
              "  }\n",
              "\n",
              "  .colab-df-quickchart {\n",
              "    background-color: var(--bg-color);\n",
              "    border: none;\n",
              "    border-radius: 50%;\n",
              "    cursor: pointer;\n",
              "    display: none;\n",
              "    fill: var(--fill-color);\n",
              "    height: 32px;\n",
              "    padding: 0;\n",
              "    width: 32px;\n",
              "  }\n",
              "\n",
              "  .colab-df-quickchart:hover {\n",
              "    background-color: var(--hover-bg-color);\n",
              "    box-shadow: 0 1px 2px rgba(60, 64, 67, 0.3), 0 1px 3px 1px rgba(60, 64, 67, 0.15);\n",
              "    fill: var(--button-hover-fill-color);\n",
              "  }\n",
              "\n",
              "  .colab-df-quickchart-complete:disabled,\n",
              "  .colab-df-quickchart-complete:disabled:hover {\n",
              "    background-color: var(--disabled-bg-color);\n",
              "    fill: var(--disabled-fill-color);\n",
              "    box-shadow: none;\n",
              "  }\n",
              "\n",
              "  .colab-df-spinner {\n",
              "    border: 2px solid var(--fill-color);\n",
              "    border-color: transparent;\n",
              "    border-bottom-color: var(--fill-color);\n",
              "    animation:\n",
              "      spin 1s steps(1) infinite;\n",
              "  }\n",
              "\n",
              "  @keyframes spin {\n",
              "    0% {\n",
              "      border-color: transparent;\n",
              "      border-bottom-color: var(--fill-color);\n",
              "      border-left-color: var(--fill-color);\n",
              "    }\n",
              "    20% {\n",
              "      border-color: transparent;\n",
              "      border-left-color: var(--fill-color);\n",
              "      border-top-color: var(--fill-color);\n",
              "    }\n",
              "    30% {\n",
              "      border-color: transparent;\n",
              "      border-left-color: var(--fill-color);\n",
              "      border-top-color: var(--fill-color);\n",
              "      border-right-color: var(--fill-color);\n",
              "    }\n",
              "    40% {\n",
              "      border-color: transparent;\n",
              "      border-right-color: var(--fill-color);\n",
              "      border-top-color: var(--fill-color);\n",
              "    }\n",
              "    60% {\n",
              "      border-color: transparent;\n",
              "      border-right-color: var(--fill-color);\n",
              "    }\n",
              "    80% {\n",
              "      border-color: transparent;\n",
              "      border-right-color: var(--fill-color);\n",
              "      border-bottom-color: var(--fill-color);\n",
              "    }\n",
              "    90% {\n",
              "      border-color: transparent;\n",
              "      border-bottom-color: var(--fill-color);\n",
              "    }\n",
              "  }\n",
              "</style>\n",
              "\n",
              "  <script>\n",
              "    async function quickchart(key) {\n",
              "      const quickchartButtonEl =\n",
              "        document.querySelector('#' + key + ' button');\n",
              "      quickchartButtonEl.disabled = true;  // To prevent multiple clicks.\n",
              "      quickchartButtonEl.classList.add('colab-df-spinner');\n",
              "      try {\n",
              "        const charts = await google.colab.kernel.invokeFunction(\n",
              "            'suggestCharts', [key], {});\n",
              "      } catch (error) {\n",
              "        console.error('Error during call to suggestCharts:', error);\n",
              "      }\n",
              "      quickchartButtonEl.classList.remove('colab-df-spinner');\n",
              "      quickchartButtonEl.classList.add('colab-df-quickchart-complete');\n",
              "    }\n",
              "    (() => {\n",
              "      let quickchartButtonEl =\n",
              "        document.querySelector('#df-38077f28-0af5-49ed-b4cb-ec1d00c000e5 button');\n",
              "      quickchartButtonEl.style.display =\n",
              "        google.colab.kernel.accessAllowed ? 'block' : 'none';\n",
              "    })();\n",
              "  </script>\n",
              "</div>\n",
              "    </div>\n",
              "  </div>\n"
            ],
            "application/vnd.google.colaboratory.intrinsic+json": {
              "type": "dataframe",
              "summary": "{\n  \"name\": \"df[df['temp_max']\",\n  \"rows\": 4,\n  \"fields\": [\n    {\n      \"column\": \"Thn\",\n      \"properties\": {\n        \"dtype\": \"number\",\n        \"std\": 0,\n        \"min\": 2022,\n        \"max\": 2023,\n        \"num_unique_values\": 2,\n        \"samples\": [\n          2023,\n          2022\n        ],\n        \"semantic_type\": \"\",\n        \"description\": \"\"\n      }\n    },\n    {\n      \"column\": \"bln\",\n      \"properties\": {\n        \"dtype\": \"number\",\n        \"std\": 5,\n        \"min\": 1,\n        \"max\": 12,\n        \"num_unique_values\": 4,\n        \"samples\": [\n          1,\n          12\n        ],\n        \"semantic_type\": \"\",\n        \"description\": \"\"\n      }\n    },\n    {\n      \"column\": \"tgl\",\n      \"properties\": {\n        \"dtype\": \"number\",\n        \"std\": 9,\n        \"min\": 8,\n        \"max\": 26,\n        \"num_unique_values\": 4,\n        \"samples\": [\n          26,\n          10\n        ],\n        \"semantic_type\": \"\",\n        \"description\": \"\"\n      }\n    },\n    {\n      \"column\": \"temp_min\",\n      \"properties\": {\n        \"dtype\": \"number\",\n        \"std\": 0.41633319989322704,\n        \"min\": 23.4,\n        \"max\": 24.2,\n        \"num_unique_values\": 3,\n        \"samples\": [\n          24.0,\n          24.2\n        ],\n        \"semantic_type\": \"\",\n        \"description\": \"\"\n      }\n    },\n    {\n      \"column\": \"temp_max\",\n      \"properties\": {\n        \"dtype\": \"number\",\n        \"std\": null,\n        \"min\": null,\n        \"max\": null,\n        \"num_unique_values\": 0,\n        \"samples\": [],\n        \"semantic_type\": \"\",\n        \"description\": \"\"\n      }\n    },\n    {\n      \"column\": \"temp_rata-rata\",\n      \"properties\": {\n        \"dtype\": \"number\",\n        \"std\": 0.9539392014169458,\n        \"min\": 26.2,\n        \"max\": 27.9,\n        \"num_unique_values\": 3,\n        \"samples\": [],\n        \"semantic_type\": \"\",\n        \"description\": \"\"\n      }\n    },\n    {\n      \"column\": \"lembab_rata-rata\",\n      \"properties\": {\n        \"dtype\": \"number\",\n        \"std\": 4.041451884327381,\n        \"min\": 82.0,\n        \"max\": 90.0,\n        \"num_unique_values\": 3,\n        \"samples\": [],\n        \"semantic_type\": \"\",\n        \"description\": \"\"\n      }\n    },\n    {\n      \"column\": \"ch\",\n      \"properties\": {\n        \"dtype\": \"number\",\n        \"std\": 15.08509197850646,\n        \"min\": 2.0,\n        \"max\": 28.8,\n        \"num_unique_values\": 3,\n        \"samples\": [],\n        \"semantic_type\": \"\",\n        \"description\": \"\"\n      }\n    },\n    {\n      \"column\": \"cahaya_jam\",\n      \"properties\": {\n        \"dtype\": \"number\",\n        \"std\": 0.5131601439446885,\n        \"min\": 2.0,\n        \"max\": 3.0,\n        \"num_unique_values\": 3,\n        \"samples\": [],\n        \"semantic_type\": \"\",\n        \"description\": \"\"\n      }\n    }\n  ]\n}"
            }
          },
          "metadata": {},
          "execution_count": 86
        }
      ]
    },
    {
      "cell_type": "markdown",
      "source": [
        "nilai kosong pada kolom temp_min"
      ],
      "metadata": {
        "id": "jkwUJL7rNEbn"
      }
    },
    {
      "cell_type": "code",
      "source": [
        "df[df['temp_min'].isnull()]"
      ],
      "metadata": {
        "colab": {
          "base_uri": "https://localhost:8080/",
          "height": 81
        },
        "id": "9xl3RPSS0b4t",
        "outputId": "bbb58a61-2c3f-46ae-e213-5ae3be3d8c5e"
      },
      "execution_count": 87,
      "outputs": [
        {
          "output_type": "execute_result",
          "data": {
            "text/plain": [
              "      Thn  bln  tgl  temp_min  temp_max  temp_rata-rata  lembab_rata-rata  ch  \\\n",
              "660  2023   10   23       NaN       NaN             NaN               NaN NaN   \n",
              "\n",
              "     cahaya_jam  \n",
              "660         NaN  "
            ],
            "text/html": [
              "\n",
              "  <div id=\"df-92345dda-cd39-4afe-b473-c4a9274852de\" class=\"colab-df-container\">\n",
              "    <div>\n",
              "<style scoped>\n",
              "    .dataframe tbody tr th:only-of-type {\n",
              "        vertical-align: middle;\n",
              "    }\n",
              "\n",
              "    .dataframe tbody tr th {\n",
              "        vertical-align: top;\n",
              "    }\n",
              "\n",
              "    .dataframe thead th {\n",
              "        text-align: right;\n",
              "    }\n",
              "</style>\n",
              "<table border=\"1\" class=\"dataframe\">\n",
              "  <thead>\n",
              "    <tr style=\"text-align: right;\">\n",
              "      <th></th>\n",
              "      <th>Thn</th>\n",
              "      <th>bln</th>\n",
              "      <th>tgl</th>\n",
              "      <th>temp_min</th>\n",
              "      <th>temp_max</th>\n",
              "      <th>temp_rata-rata</th>\n",
              "      <th>lembab_rata-rata</th>\n",
              "      <th>ch</th>\n",
              "      <th>cahaya_jam</th>\n",
              "    </tr>\n",
              "  </thead>\n",
              "  <tbody>\n",
              "    <tr>\n",
              "      <th>660</th>\n",
              "      <td>2023</td>\n",
              "      <td>10</td>\n",
              "      <td>23</td>\n",
              "      <td>NaN</td>\n",
              "      <td>NaN</td>\n",
              "      <td>NaN</td>\n",
              "      <td>NaN</td>\n",
              "      <td>NaN</td>\n",
              "      <td>NaN</td>\n",
              "    </tr>\n",
              "  </tbody>\n",
              "</table>\n",
              "</div>\n",
              "    <div class=\"colab-df-buttons\">\n",
              "\n",
              "  <div class=\"colab-df-container\">\n",
              "    <button class=\"colab-df-convert\" onclick=\"convertToInteractive('df-92345dda-cd39-4afe-b473-c4a9274852de')\"\n",
              "            title=\"Convert this dataframe to an interactive table.\"\n",
              "            style=\"display:none;\">\n",
              "\n",
              "  <svg xmlns=\"http://www.w3.org/2000/svg\" height=\"24px\" viewBox=\"0 -960 960 960\">\n",
              "    <path d=\"M120-120v-720h720v720H120Zm60-500h600v-160H180v160Zm220 220h160v-160H400v160Zm0 220h160v-160H400v160ZM180-400h160v-160H180v160Zm440 0h160v-160H620v160ZM180-180h160v-160H180v160Zm440 0h160v-160H620v160Z\"/>\n",
              "  </svg>\n",
              "    </button>\n",
              "\n",
              "  <style>\n",
              "    .colab-df-container {\n",
              "      display:flex;\n",
              "      gap: 12px;\n",
              "    }\n",
              "\n",
              "    .colab-df-convert {\n",
              "      background-color: #E8F0FE;\n",
              "      border: none;\n",
              "      border-radius: 50%;\n",
              "      cursor: pointer;\n",
              "      display: none;\n",
              "      fill: #1967D2;\n",
              "      height: 32px;\n",
              "      padding: 0 0 0 0;\n",
              "      width: 32px;\n",
              "    }\n",
              "\n",
              "    .colab-df-convert:hover {\n",
              "      background-color: #E2EBFA;\n",
              "      box-shadow: 0px 1px 2px rgba(60, 64, 67, 0.3), 0px 1px 3px 1px rgba(60, 64, 67, 0.15);\n",
              "      fill: #174EA6;\n",
              "    }\n",
              "\n",
              "    .colab-df-buttons div {\n",
              "      margin-bottom: 4px;\n",
              "    }\n",
              "\n",
              "    [theme=dark] .colab-df-convert {\n",
              "      background-color: #3B4455;\n",
              "      fill: #D2E3FC;\n",
              "    }\n",
              "\n",
              "    [theme=dark] .colab-df-convert:hover {\n",
              "      background-color: #434B5C;\n",
              "      box-shadow: 0px 1px 3px 1px rgba(0, 0, 0, 0.15);\n",
              "      filter: drop-shadow(0px 1px 2px rgba(0, 0, 0, 0.3));\n",
              "      fill: #FFFFFF;\n",
              "    }\n",
              "  </style>\n",
              "\n",
              "    <script>\n",
              "      const buttonEl =\n",
              "        document.querySelector('#df-92345dda-cd39-4afe-b473-c4a9274852de button.colab-df-convert');\n",
              "      buttonEl.style.display =\n",
              "        google.colab.kernel.accessAllowed ? 'block' : 'none';\n",
              "\n",
              "      async function convertToInteractive(key) {\n",
              "        const element = document.querySelector('#df-92345dda-cd39-4afe-b473-c4a9274852de');\n",
              "        const dataTable =\n",
              "          await google.colab.kernel.invokeFunction('convertToInteractive',\n",
              "                                                    [key], {});\n",
              "        if (!dataTable) return;\n",
              "\n",
              "        const docLinkHtml = 'Like what you see? Visit the ' +\n",
              "          '<a target=\"_blank\" href=https://colab.research.google.com/notebooks/data_table.ipynb>data table notebook</a>'\n",
              "          + ' to learn more about interactive tables.';\n",
              "        element.innerHTML = '';\n",
              "        dataTable['output_type'] = 'display_data';\n",
              "        await google.colab.output.renderOutput(dataTable, element);\n",
              "        const docLink = document.createElement('div');\n",
              "        docLink.innerHTML = docLinkHtml;\n",
              "        element.appendChild(docLink);\n",
              "      }\n",
              "    </script>\n",
              "  </div>\n",
              "\n",
              "    </div>\n",
              "  </div>\n"
            ],
            "application/vnd.google.colaboratory.intrinsic+json": {
              "type": "dataframe",
              "summary": "{\n  \"name\": \"df[df['temp_min']\",\n  \"rows\": 1,\n  \"fields\": [\n    {\n      \"column\": \"Thn\",\n      \"properties\": {\n        \"dtype\": \"number\",\n        \"std\": null,\n        \"min\": 2023,\n        \"max\": 2023,\n        \"num_unique_values\": 1,\n        \"samples\": [\n          2023\n        ],\n        \"semantic_type\": \"\",\n        \"description\": \"\"\n      }\n    },\n    {\n      \"column\": \"bln\",\n      \"properties\": {\n        \"dtype\": \"number\",\n        \"std\": null,\n        \"min\": 10,\n        \"max\": 10,\n        \"num_unique_values\": 1,\n        \"samples\": [\n          10\n        ],\n        \"semantic_type\": \"\",\n        \"description\": \"\"\n      }\n    },\n    {\n      \"column\": \"tgl\",\n      \"properties\": {\n        \"dtype\": \"number\",\n        \"std\": null,\n        \"min\": 23,\n        \"max\": 23,\n        \"num_unique_values\": 1,\n        \"samples\": [\n          23\n        ],\n        \"semantic_type\": \"\",\n        \"description\": \"\"\n      }\n    },\n    {\n      \"column\": \"temp_min\",\n      \"properties\": {\n        \"dtype\": \"number\",\n        \"std\": null,\n        \"min\": null,\n        \"max\": null,\n        \"num_unique_values\": 0,\n        \"samples\": [],\n        \"semantic_type\": \"\",\n        \"description\": \"\"\n      }\n    },\n    {\n      \"column\": \"temp_max\",\n      \"properties\": {\n        \"dtype\": \"number\",\n        \"std\": null,\n        \"min\": null,\n        \"max\": null,\n        \"num_unique_values\": 0,\n        \"samples\": [],\n        \"semantic_type\": \"\",\n        \"description\": \"\"\n      }\n    },\n    {\n      \"column\": \"temp_rata-rata\",\n      \"properties\": {\n        \"dtype\": \"number\",\n        \"std\": null,\n        \"min\": null,\n        \"max\": null,\n        \"num_unique_values\": 0,\n        \"samples\": [],\n        \"semantic_type\": \"\",\n        \"description\": \"\"\n      }\n    },\n    {\n      \"column\": \"lembab_rata-rata\",\n      \"properties\": {\n        \"dtype\": \"number\",\n        \"std\": null,\n        \"min\": null,\n        \"max\": null,\n        \"num_unique_values\": 0,\n        \"samples\": [],\n        \"semantic_type\": \"\",\n        \"description\": \"\"\n      }\n    },\n    {\n      \"column\": \"ch\",\n      \"properties\": {\n        \"dtype\": \"number\",\n        \"std\": null,\n        \"min\": null,\n        \"max\": null,\n        \"num_unique_values\": 0,\n        \"samples\": [],\n        \"semantic_type\": \"\",\n        \"description\": \"\"\n      }\n    },\n    {\n      \"column\": \"cahaya_jam\",\n      \"properties\": {\n        \"dtype\": \"number\",\n        \"std\": null,\n        \"min\": null,\n        \"max\": null,\n        \"num_unique_values\": 0,\n        \"samples\": [],\n        \"semantic_type\": \"\",\n        \"description\": \"\"\n      }\n    }\n  ]\n}"
            }
          },
          "metadata": {},
          "execution_count": 87
        }
      ]
    },
    {
      "cell_type": "markdown",
      "source": [
        "nilai kosong pada kolom temp_rata-rata"
      ],
      "metadata": {
        "id": "vFWDmH9ENGSW"
      }
    },
    {
      "cell_type": "code",
      "source": [
        "df[df['temp_rata-rata'].isnull()]"
      ],
      "metadata": {
        "colab": {
          "base_uri": "https://localhost:8080/",
          "height": 143
        },
        "id": "UuK1dVYg0eeD",
        "outputId": "8207fc72-3251-470f-a122-aa2658b1e51d"
      },
      "execution_count": 88,
      "outputs": [
        {
          "output_type": "execute_result",
          "data": {
            "text/plain": [
              "      Thn  bln  tgl  temp_min  temp_max  temp_rata-rata  lembab_rata-rata  \\\n",
              "436  2023    3   13      23.8      32.0             NaN               NaN   \n",
              "658  2023   10   21      20.2      35.2             NaN               NaN   \n",
              "660  2023   10   23       NaN       NaN             NaN               NaN   \n",
              "\n",
              "      ch  cahaya_jam  \n",
              "436  6.2         6.3  \n",
              "658  0.0         8.7  \n",
              "660  NaN         NaN  "
            ],
            "text/html": [
              "\n",
              "  <div id=\"df-4ac413ed-86af-42fa-a91d-749b05692dc4\" class=\"colab-df-container\">\n",
              "    <div>\n",
              "<style scoped>\n",
              "    .dataframe tbody tr th:only-of-type {\n",
              "        vertical-align: middle;\n",
              "    }\n",
              "\n",
              "    .dataframe tbody tr th {\n",
              "        vertical-align: top;\n",
              "    }\n",
              "\n",
              "    .dataframe thead th {\n",
              "        text-align: right;\n",
              "    }\n",
              "</style>\n",
              "<table border=\"1\" class=\"dataframe\">\n",
              "  <thead>\n",
              "    <tr style=\"text-align: right;\">\n",
              "      <th></th>\n",
              "      <th>Thn</th>\n",
              "      <th>bln</th>\n",
              "      <th>tgl</th>\n",
              "      <th>temp_min</th>\n",
              "      <th>temp_max</th>\n",
              "      <th>temp_rata-rata</th>\n",
              "      <th>lembab_rata-rata</th>\n",
              "      <th>ch</th>\n",
              "      <th>cahaya_jam</th>\n",
              "    </tr>\n",
              "  </thead>\n",
              "  <tbody>\n",
              "    <tr>\n",
              "      <th>436</th>\n",
              "      <td>2023</td>\n",
              "      <td>3</td>\n",
              "      <td>13</td>\n",
              "      <td>23.8</td>\n",
              "      <td>32.0</td>\n",
              "      <td>NaN</td>\n",
              "      <td>NaN</td>\n",
              "      <td>6.2</td>\n",
              "      <td>6.3</td>\n",
              "    </tr>\n",
              "    <tr>\n",
              "      <th>658</th>\n",
              "      <td>2023</td>\n",
              "      <td>10</td>\n",
              "      <td>21</td>\n",
              "      <td>20.2</td>\n",
              "      <td>35.2</td>\n",
              "      <td>NaN</td>\n",
              "      <td>NaN</td>\n",
              "      <td>0.0</td>\n",
              "      <td>8.7</td>\n",
              "    </tr>\n",
              "    <tr>\n",
              "      <th>660</th>\n",
              "      <td>2023</td>\n",
              "      <td>10</td>\n",
              "      <td>23</td>\n",
              "      <td>NaN</td>\n",
              "      <td>NaN</td>\n",
              "      <td>NaN</td>\n",
              "      <td>NaN</td>\n",
              "      <td>NaN</td>\n",
              "      <td>NaN</td>\n",
              "    </tr>\n",
              "  </tbody>\n",
              "</table>\n",
              "</div>\n",
              "    <div class=\"colab-df-buttons\">\n",
              "\n",
              "  <div class=\"colab-df-container\">\n",
              "    <button class=\"colab-df-convert\" onclick=\"convertToInteractive('df-4ac413ed-86af-42fa-a91d-749b05692dc4')\"\n",
              "            title=\"Convert this dataframe to an interactive table.\"\n",
              "            style=\"display:none;\">\n",
              "\n",
              "  <svg xmlns=\"http://www.w3.org/2000/svg\" height=\"24px\" viewBox=\"0 -960 960 960\">\n",
              "    <path d=\"M120-120v-720h720v720H120Zm60-500h600v-160H180v160Zm220 220h160v-160H400v160Zm0 220h160v-160H400v160ZM180-400h160v-160H180v160Zm440 0h160v-160H620v160ZM180-180h160v-160H180v160Zm440 0h160v-160H620v160Z\"/>\n",
              "  </svg>\n",
              "    </button>\n",
              "\n",
              "  <style>\n",
              "    .colab-df-container {\n",
              "      display:flex;\n",
              "      gap: 12px;\n",
              "    }\n",
              "\n",
              "    .colab-df-convert {\n",
              "      background-color: #E8F0FE;\n",
              "      border: none;\n",
              "      border-radius: 50%;\n",
              "      cursor: pointer;\n",
              "      display: none;\n",
              "      fill: #1967D2;\n",
              "      height: 32px;\n",
              "      padding: 0 0 0 0;\n",
              "      width: 32px;\n",
              "    }\n",
              "\n",
              "    .colab-df-convert:hover {\n",
              "      background-color: #E2EBFA;\n",
              "      box-shadow: 0px 1px 2px rgba(60, 64, 67, 0.3), 0px 1px 3px 1px rgba(60, 64, 67, 0.15);\n",
              "      fill: #174EA6;\n",
              "    }\n",
              "\n",
              "    .colab-df-buttons div {\n",
              "      margin-bottom: 4px;\n",
              "    }\n",
              "\n",
              "    [theme=dark] .colab-df-convert {\n",
              "      background-color: #3B4455;\n",
              "      fill: #D2E3FC;\n",
              "    }\n",
              "\n",
              "    [theme=dark] .colab-df-convert:hover {\n",
              "      background-color: #434B5C;\n",
              "      box-shadow: 0px 1px 3px 1px rgba(0, 0, 0, 0.15);\n",
              "      filter: drop-shadow(0px 1px 2px rgba(0, 0, 0, 0.3));\n",
              "      fill: #FFFFFF;\n",
              "    }\n",
              "  </style>\n",
              "\n",
              "    <script>\n",
              "      const buttonEl =\n",
              "        document.querySelector('#df-4ac413ed-86af-42fa-a91d-749b05692dc4 button.colab-df-convert');\n",
              "      buttonEl.style.display =\n",
              "        google.colab.kernel.accessAllowed ? 'block' : 'none';\n",
              "\n",
              "      async function convertToInteractive(key) {\n",
              "        const element = document.querySelector('#df-4ac413ed-86af-42fa-a91d-749b05692dc4');\n",
              "        const dataTable =\n",
              "          await google.colab.kernel.invokeFunction('convertToInteractive',\n",
              "                                                    [key], {});\n",
              "        if (!dataTable) return;\n",
              "\n",
              "        const docLinkHtml = 'Like what you see? Visit the ' +\n",
              "          '<a target=\"_blank\" href=https://colab.research.google.com/notebooks/data_table.ipynb>data table notebook</a>'\n",
              "          + ' to learn more about interactive tables.';\n",
              "        element.innerHTML = '';\n",
              "        dataTable['output_type'] = 'display_data';\n",
              "        await google.colab.output.renderOutput(dataTable, element);\n",
              "        const docLink = document.createElement('div');\n",
              "        docLink.innerHTML = docLinkHtml;\n",
              "        element.appendChild(docLink);\n",
              "      }\n",
              "    </script>\n",
              "  </div>\n",
              "\n",
              "\n",
              "<div id=\"df-03389ab7-46c3-48aa-b3d9-44eec309fa48\">\n",
              "  <button class=\"colab-df-quickchart\" onclick=\"quickchart('df-03389ab7-46c3-48aa-b3d9-44eec309fa48')\"\n",
              "            title=\"Suggest charts\"\n",
              "            style=\"display:none;\">\n",
              "\n",
              "<svg xmlns=\"http://www.w3.org/2000/svg\" height=\"24px\"viewBox=\"0 0 24 24\"\n",
              "     width=\"24px\">\n",
              "    <g>\n",
              "        <path d=\"M19 3H5c-1.1 0-2 .9-2 2v14c0 1.1.9 2 2 2h14c1.1 0 2-.9 2-2V5c0-1.1-.9-2-2-2zM9 17H7v-7h2v7zm4 0h-2V7h2v10zm4 0h-2v-4h2v4z\"/>\n",
              "    </g>\n",
              "</svg>\n",
              "  </button>\n",
              "\n",
              "<style>\n",
              "  .colab-df-quickchart {\n",
              "      --bg-color: #E8F0FE;\n",
              "      --fill-color: #1967D2;\n",
              "      --hover-bg-color: #E2EBFA;\n",
              "      --hover-fill-color: #174EA6;\n",
              "      --disabled-fill-color: #AAA;\n",
              "      --disabled-bg-color: #DDD;\n",
              "  }\n",
              "\n",
              "  [theme=dark] .colab-df-quickchart {\n",
              "      --bg-color: #3B4455;\n",
              "      --fill-color: #D2E3FC;\n",
              "      --hover-bg-color: #434B5C;\n",
              "      --hover-fill-color: #FFFFFF;\n",
              "      --disabled-bg-color: #3B4455;\n",
              "      --disabled-fill-color: #666;\n",
              "  }\n",
              "\n",
              "  .colab-df-quickchart {\n",
              "    background-color: var(--bg-color);\n",
              "    border: none;\n",
              "    border-radius: 50%;\n",
              "    cursor: pointer;\n",
              "    display: none;\n",
              "    fill: var(--fill-color);\n",
              "    height: 32px;\n",
              "    padding: 0;\n",
              "    width: 32px;\n",
              "  }\n",
              "\n",
              "  .colab-df-quickchart:hover {\n",
              "    background-color: var(--hover-bg-color);\n",
              "    box-shadow: 0 1px 2px rgba(60, 64, 67, 0.3), 0 1px 3px 1px rgba(60, 64, 67, 0.15);\n",
              "    fill: var(--button-hover-fill-color);\n",
              "  }\n",
              "\n",
              "  .colab-df-quickchart-complete:disabled,\n",
              "  .colab-df-quickchart-complete:disabled:hover {\n",
              "    background-color: var(--disabled-bg-color);\n",
              "    fill: var(--disabled-fill-color);\n",
              "    box-shadow: none;\n",
              "  }\n",
              "\n",
              "  .colab-df-spinner {\n",
              "    border: 2px solid var(--fill-color);\n",
              "    border-color: transparent;\n",
              "    border-bottom-color: var(--fill-color);\n",
              "    animation:\n",
              "      spin 1s steps(1) infinite;\n",
              "  }\n",
              "\n",
              "  @keyframes spin {\n",
              "    0% {\n",
              "      border-color: transparent;\n",
              "      border-bottom-color: var(--fill-color);\n",
              "      border-left-color: var(--fill-color);\n",
              "    }\n",
              "    20% {\n",
              "      border-color: transparent;\n",
              "      border-left-color: var(--fill-color);\n",
              "      border-top-color: var(--fill-color);\n",
              "    }\n",
              "    30% {\n",
              "      border-color: transparent;\n",
              "      border-left-color: var(--fill-color);\n",
              "      border-top-color: var(--fill-color);\n",
              "      border-right-color: var(--fill-color);\n",
              "    }\n",
              "    40% {\n",
              "      border-color: transparent;\n",
              "      border-right-color: var(--fill-color);\n",
              "      border-top-color: var(--fill-color);\n",
              "    }\n",
              "    60% {\n",
              "      border-color: transparent;\n",
              "      border-right-color: var(--fill-color);\n",
              "    }\n",
              "    80% {\n",
              "      border-color: transparent;\n",
              "      border-right-color: var(--fill-color);\n",
              "      border-bottom-color: var(--fill-color);\n",
              "    }\n",
              "    90% {\n",
              "      border-color: transparent;\n",
              "      border-bottom-color: var(--fill-color);\n",
              "    }\n",
              "  }\n",
              "</style>\n",
              "\n",
              "  <script>\n",
              "    async function quickchart(key) {\n",
              "      const quickchartButtonEl =\n",
              "        document.querySelector('#' + key + ' button');\n",
              "      quickchartButtonEl.disabled = true;  // To prevent multiple clicks.\n",
              "      quickchartButtonEl.classList.add('colab-df-spinner');\n",
              "      try {\n",
              "        const charts = await google.colab.kernel.invokeFunction(\n",
              "            'suggestCharts', [key], {});\n",
              "      } catch (error) {\n",
              "        console.error('Error during call to suggestCharts:', error);\n",
              "      }\n",
              "      quickchartButtonEl.classList.remove('colab-df-spinner');\n",
              "      quickchartButtonEl.classList.add('colab-df-quickchart-complete');\n",
              "    }\n",
              "    (() => {\n",
              "      let quickchartButtonEl =\n",
              "        document.querySelector('#df-03389ab7-46c3-48aa-b3d9-44eec309fa48 button');\n",
              "      quickchartButtonEl.style.display =\n",
              "        google.colab.kernel.accessAllowed ? 'block' : 'none';\n",
              "    })();\n",
              "  </script>\n",
              "</div>\n",
              "    </div>\n",
              "  </div>\n"
            ],
            "application/vnd.google.colaboratory.intrinsic+json": {
              "type": "dataframe",
              "summary": "{\n  \"name\": \"df[df['temp_rata-rata']\",\n  \"rows\": 3,\n  \"fields\": [\n    {\n      \"column\": \"Thn\",\n      \"properties\": {\n        \"dtype\": \"number\",\n        \"std\": 0,\n        \"min\": 2023,\n        \"max\": 2023,\n        \"num_unique_values\": 1,\n        \"samples\": [\n          2023\n        ],\n        \"semantic_type\": \"\",\n        \"description\": \"\"\n      }\n    },\n    {\n      \"column\": \"bln\",\n      \"properties\": {\n        \"dtype\": \"number\",\n        \"std\": 4,\n        \"min\": 3,\n        \"max\": 10,\n        \"num_unique_values\": 2,\n        \"samples\": [\n          10\n        ],\n        \"semantic_type\": \"\",\n        \"description\": \"\"\n      }\n    },\n    {\n      \"column\": \"tgl\",\n      \"properties\": {\n        \"dtype\": \"number\",\n        \"std\": 5,\n        \"min\": 13,\n        \"max\": 23,\n        \"num_unique_values\": 3,\n        \"samples\": [\n          13\n        ],\n        \"semantic_type\": \"\",\n        \"description\": \"\"\n      }\n    },\n    {\n      \"column\": \"temp_min\",\n      \"properties\": {\n        \"dtype\": \"number\",\n        \"std\": 2.545584412271572,\n        \"min\": 20.2,\n        \"max\": 23.8,\n        \"num_unique_values\": 2,\n        \"samples\": [\n          20.2\n        ],\n        \"semantic_type\": \"\",\n        \"description\": \"\"\n      }\n    },\n    {\n      \"column\": \"temp_max\",\n      \"properties\": {\n        \"dtype\": \"number\",\n        \"std\": 2.2627416997969543,\n        \"min\": 32.0,\n        \"max\": 35.2,\n        \"num_unique_values\": 2,\n        \"samples\": [\n          35.2\n        ],\n        \"semantic_type\": \"\",\n        \"description\": \"\"\n      }\n    },\n    {\n      \"column\": \"temp_rata-rata\",\n      \"properties\": {\n        \"dtype\": \"number\",\n        \"std\": null,\n        \"min\": null,\n        \"max\": null,\n        \"num_unique_values\": 0,\n        \"samples\": [],\n        \"semantic_type\": \"\",\n        \"description\": \"\"\n      }\n    },\n    {\n      \"column\": \"lembab_rata-rata\",\n      \"properties\": {\n        \"dtype\": \"number\",\n        \"std\": null,\n        \"min\": null,\n        \"max\": null,\n        \"num_unique_values\": 0,\n        \"samples\": [],\n        \"semantic_type\": \"\",\n        \"description\": \"\"\n      }\n    },\n    {\n      \"column\": \"ch\",\n      \"properties\": {\n        \"dtype\": \"number\",\n        \"std\": 4.384062043356595,\n        \"min\": 0.0,\n        \"max\": 6.2,\n        \"num_unique_values\": 2,\n        \"samples\": [],\n        \"semantic_type\": \"\",\n        \"description\": \"\"\n      }\n    },\n    {\n      \"column\": \"cahaya_jam\",\n      \"properties\": {\n        \"dtype\": \"number\",\n        \"std\": 1.6970562748477138,\n        \"min\": 6.3,\n        \"max\": 8.7,\n        \"num_unique_values\": 2,\n        \"samples\": [],\n        \"semantic_type\": \"\",\n        \"description\": \"\"\n      }\n    }\n  ]\n}"
            }
          },
          "metadata": {},
          "execution_count": 88
        }
      ]
    },
    {
      "cell_type": "markdown",
      "source": [
        "nilai kosong pada kolom lembab_rata-rata"
      ],
      "metadata": {
        "id": "VRkrQ-SnNJU7"
      }
    },
    {
      "cell_type": "code",
      "source": [
        "df[df['lembab_rata-rata'].isnull()]"
      ],
      "metadata": {
        "colab": {
          "base_uri": "https://localhost:8080/",
          "height": 143
        },
        "id": "y_iSk8v90lJW",
        "outputId": "f17051bf-e162-4864-85ac-d58b4d18d930"
      },
      "execution_count": 89,
      "outputs": [
        {
          "output_type": "execute_result",
          "data": {
            "text/plain": [
              "      Thn  bln  tgl  temp_min  temp_max  temp_rata-rata  lembab_rata-rata  \\\n",
              "436  2023    3   13      23.8      32.0             NaN               NaN   \n",
              "658  2023   10   21      20.2      35.2             NaN               NaN   \n",
              "660  2023   10   23       NaN       NaN             NaN               NaN   \n",
              "\n",
              "      ch  cahaya_jam  \n",
              "436  6.2         6.3  \n",
              "658  0.0         8.7  \n",
              "660  NaN         NaN  "
            ],
            "text/html": [
              "\n",
              "  <div id=\"df-96d6b975-c297-483e-afc1-60139e6d3be3\" class=\"colab-df-container\">\n",
              "    <div>\n",
              "<style scoped>\n",
              "    .dataframe tbody tr th:only-of-type {\n",
              "        vertical-align: middle;\n",
              "    }\n",
              "\n",
              "    .dataframe tbody tr th {\n",
              "        vertical-align: top;\n",
              "    }\n",
              "\n",
              "    .dataframe thead th {\n",
              "        text-align: right;\n",
              "    }\n",
              "</style>\n",
              "<table border=\"1\" class=\"dataframe\">\n",
              "  <thead>\n",
              "    <tr style=\"text-align: right;\">\n",
              "      <th></th>\n",
              "      <th>Thn</th>\n",
              "      <th>bln</th>\n",
              "      <th>tgl</th>\n",
              "      <th>temp_min</th>\n",
              "      <th>temp_max</th>\n",
              "      <th>temp_rata-rata</th>\n",
              "      <th>lembab_rata-rata</th>\n",
              "      <th>ch</th>\n",
              "      <th>cahaya_jam</th>\n",
              "    </tr>\n",
              "  </thead>\n",
              "  <tbody>\n",
              "    <tr>\n",
              "      <th>436</th>\n",
              "      <td>2023</td>\n",
              "      <td>3</td>\n",
              "      <td>13</td>\n",
              "      <td>23.8</td>\n",
              "      <td>32.0</td>\n",
              "      <td>NaN</td>\n",
              "      <td>NaN</td>\n",
              "      <td>6.2</td>\n",
              "      <td>6.3</td>\n",
              "    </tr>\n",
              "    <tr>\n",
              "      <th>658</th>\n",
              "      <td>2023</td>\n",
              "      <td>10</td>\n",
              "      <td>21</td>\n",
              "      <td>20.2</td>\n",
              "      <td>35.2</td>\n",
              "      <td>NaN</td>\n",
              "      <td>NaN</td>\n",
              "      <td>0.0</td>\n",
              "      <td>8.7</td>\n",
              "    </tr>\n",
              "    <tr>\n",
              "      <th>660</th>\n",
              "      <td>2023</td>\n",
              "      <td>10</td>\n",
              "      <td>23</td>\n",
              "      <td>NaN</td>\n",
              "      <td>NaN</td>\n",
              "      <td>NaN</td>\n",
              "      <td>NaN</td>\n",
              "      <td>NaN</td>\n",
              "      <td>NaN</td>\n",
              "    </tr>\n",
              "  </tbody>\n",
              "</table>\n",
              "</div>\n",
              "    <div class=\"colab-df-buttons\">\n",
              "\n",
              "  <div class=\"colab-df-container\">\n",
              "    <button class=\"colab-df-convert\" onclick=\"convertToInteractive('df-96d6b975-c297-483e-afc1-60139e6d3be3')\"\n",
              "            title=\"Convert this dataframe to an interactive table.\"\n",
              "            style=\"display:none;\">\n",
              "\n",
              "  <svg xmlns=\"http://www.w3.org/2000/svg\" height=\"24px\" viewBox=\"0 -960 960 960\">\n",
              "    <path d=\"M120-120v-720h720v720H120Zm60-500h600v-160H180v160Zm220 220h160v-160H400v160Zm0 220h160v-160H400v160ZM180-400h160v-160H180v160Zm440 0h160v-160H620v160ZM180-180h160v-160H180v160Zm440 0h160v-160H620v160Z\"/>\n",
              "  </svg>\n",
              "    </button>\n",
              "\n",
              "  <style>\n",
              "    .colab-df-container {\n",
              "      display:flex;\n",
              "      gap: 12px;\n",
              "    }\n",
              "\n",
              "    .colab-df-convert {\n",
              "      background-color: #E8F0FE;\n",
              "      border: none;\n",
              "      border-radius: 50%;\n",
              "      cursor: pointer;\n",
              "      display: none;\n",
              "      fill: #1967D2;\n",
              "      height: 32px;\n",
              "      padding: 0 0 0 0;\n",
              "      width: 32px;\n",
              "    }\n",
              "\n",
              "    .colab-df-convert:hover {\n",
              "      background-color: #E2EBFA;\n",
              "      box-shadow: 0px 1px 2px rgba(60, 64, 67, 0.3), 0px 1px 3px 1px rgba(60, 64, 67, 0.15);\n",
              "      fill: #174EA6;\n",
              "    }\n",
              "\n",
              "    .colab-df-buttons div {\n",
              "      margin-bottom: 4px;\n",
              "    }\n",
              "\n",
              "    [theme=dark] .colab-df-convert {\n",
              "      background-color: #3B4455;\n",
              "      fill: #D2E3FC;\n",
              "    }\n",
              "\n",
              "    [theme=dark] .colab-df-convert:hover {\n",
              "      background-color: #434B5C;\n",
              "      box-shadow: 0px 1px 3px 1px rgba(0, 0, 0, 0.15);\n",
              "      filter: drop-shadow(0px 1px 2px rgba(0, 0, 0, 0.3));\n",
              "      fill: #FFFFFF;\n",
              "    }\n",
              "  </style>\n",
              "\n",
              "    <script>\n",
              "      const buttonEl =\n",
              "        document.querySelector('#df-96d6b975-c297-483e-afc1-60139e6d3be3 button.colab-df-convert');\n",
              "      buttonEl.style.display =\n",
              "        google.colab.kernel.accessAllowed ? 'block' : 'none';\n",
              "\n",
              "      async function convertToInteractive(key) {\n",
              "        const element = document.querySelector('#df-96d6b975-c297-483e-afc1-60139e6d3be3');\n",
              "        const dataTable =\n",
              "          await google.colab.kernel.invokeFunction('convertToInteractive',\n",
              "                                                    [key], {});\n",
              "        if (!dataTable) return;\n",
              "\n",
              "        const docLinkHtml = 'Like what you see? Visit the ' +\n",
              "          '<a target=\"_blank\" href=https://colab.research.google.com/notebooks/data_table.ipynb>data table notebook</a>'\n",
              "          + ' to learn more about interactive tables.';\n",
              "        element.innerHTML = '';\n",
              "        dataTable['output_type'] = 'display_data';\n",
              "        await google.colab.output.renderOutput(dataTable, element);\n",
              "        const docLink = document.createElement('div');\n",
              "        docLink.innerHTML = docLinkHtml;\n",
              "        element.appendChild(docLink);\n",
              "      }\n",
              "    </script>\n",
              "  </div>\n",
              "\n",
              "\n",
              "<div id=\"df-17218c14-3c22-410d-b533-ae849d7ecc0d\">\n",
              "  <button class=\"colab-df-quickchart\" onclick=\"quickchart('df-17218c14-3c22-410d-b533-ae849d7ecc0d')\"\n",
              "            title=\"Suggest charts\"\n",
              "            style=\"display:none;\">\n",
              "\n",
              "<svg xmlns=\"http://www.w3.org/2000/svg\" height=\"24px\"viewBox=\"0 0 24 24\"\n",
              "     width=\"24px\">\n",
              "    <g>\n",
              "        <path d=\"M19 3H5c-1.1 0-2 .9-2 2v14c0 1.1.9 2 2 2h14c1.1 0 2-.9 2-2V5c0-1.1-.9-2-2-2zM9 17H7v-7h2v7zm4 0h-2V7h2v10zm4 0h-2v-4h2v4z\"/>\n",
              "    </g>\n",
              "</svg>\n",
              "  </button>\n",
              "\n",
              "<style>\n",
              "  .colab-df-quickchart {\n",
              "      --bg-color: #E8F0FE;\n",
              "      --fill-color: #1967D2;\n",
              "      --hover-bg-color: #E2EBFA;\n",
              "      --hover-fill-color: #174EA6;\n",
              "      --disabled-fill-color: #AAA;\n",
              "      --disabled-bg-color: #DDD;\n",
              "  }\n",
              "\n",
              "  [theme=dark] .colab-df-quickchart {\n",
              "      --bg-color: #3B4455;\n",
              "      --fill-color: #D2E3FC;\n",
              "      --hover-bg-color: #434B5C;\n",
              "      --hover-fill-color: #FFFFFF;\n",
              "      --disabled-bg-color: #3B4455;\n",
              "      --disabled-fill-color: #666;\n",
              "  }\n",
              "\n",
              "  .colab-df-quickchart {\n",
              "    background-color: var(--bg-color);\n",
              "    border: none;\n",
              "    border-radius: 50%;\n",
              "    cursor: pointer;\n",
              "    display: none;\n",
              "    fill: var(--fill-color);\n",
              "    height: 32px;\n",
              "    padding: 0;\n",
              "    width: 32px;\n",
              "  }\n",
              "\n",
              "  .colab-df-quickchart:hover {\n",
              "    background-color: var(--hover-bg-color);\n",
              "    box-shadow: 0 1px 2px rgba(60, 64, 67, 0.3), 0 1px 3px 1px rgba(60, 64, 67, 0.15);\n",
              "    fill: var(--button-hover-fill-color);\n",
              "  }\n",
              "\n",
              "  .colab-df-quickchart-complete:disabled,\n",
              "  .colab-df-quickchart-complete:disabled:hover {\n",
              "    background-color: var(--disabled-bg-color);\n",
              "    fill: var(--disabled-fill-color);\n",
              "    box-shadow: none;\n",
              "  }\n",
              "\n",
              "  .colab-df-spinner {\n",
              "    border: 2px solid var(--fill-color);\n",
              "    border-color: transparent;\n",
              "    border-bottom-color: var(--fill-color);\n",
              "    animation:\n",
              "      spin 1s steps(1) infinite;\n",
              "  }\n",
              "\n",
              "  @keyframes spin {\n",
              "    0% {\n",
              "      border-color: transparent;\n",
              "      border-bottom-color: var(--fill-color);\n",
              "      border-left-color: var(--fill-color);\n",
              "    }\n",
              "    20% {\n",
              "      border-color: transparent;\n",
              "      border-left-color: var(--fill-color);\n",
              "      border-top-color: var(--fill-color);\n",
              "    }\n",
              "    30% {\n",
              "      border-color: transparent;\n",
              "      border-left-color: var(--fill-color);\n",
              "      border-top-color: var(--fill-color);\n",
              "      border-right-color: var(--fill-color);\n",
              "    }\n",
              "    40% {\n",
              "      border-color: transparent;\n",
              "      border-right-color: var(--fill-color);\n",
              "      border-top-color: var(--fill-color);\n",
              "    }\n",
              "    60% {\n",
              "      border-color: transparent;\n",
              "      border-right-color: var(--fill-color);\n",
              "    }\n",
              "    80% {\n",
              "      border-color: transparent;\n",
              "      border-right-color: var(--fill-color);\n",
              "      border-bottom-color: var(--fill-color);\n",
              "    }\n",
              "    90% {\n",
              "      border-color: transparent;\n",
              "      border-bottom-color: var(--fill-color);\n",
              "    }\n",
              "  }\n",
              "</style>\n",
              "\n",
              "  <script>\n",
              "    async function quickchart(key) {\n",
              "      const quickchartButtonEl =\n",
              "        document.querySelector('#' + key + ' button');\n",
              "      quickchartButtonEl.disabled = true;  // To prevent multiple clicks.\n",
              "      quickchartButtonEl.classList.add('colab-df-spinner');\n",
              "      try {\n",
              "        const charts = await google.colab.kernel.invokeFunction(\n",
              "            'suggestCharts', [key], {});\n",
              "      } catch (error) {\n",
              "        console.error('Error during call to suggestCharts:', error);\n",
              "      }\n",
              "      quickchartButtonEl.classList.remove('colab-df-spinner');\n",
              "      quickchartButtonEl.classList.add('colab-df-quickchart-complete');\n",
              "    }\n",
              "    (() => {\n",
              "      let quickchartButtonEl =\n",
              "        document.querySelector('#df-17218c14-3c22-410d-b533-ae849d7ecc0d button');\n",
              "      quickchartButtonEl.style.display =\n",
              "        google.colab.kernel.accessAllowed ? 'block' : 'none';\n",
              "    })();\n",
              "  </script>\n",
              "</div>\n",
              "    </div>\n",
              "  </div>\n"
            ],
            "application/vnd.google.colaboratory.intrinsic+json": {
              "type": "dataframe",
              "summary": "{\n  \"name\": \"df[df['lembab_rata-rata']\",\n  \"rows\": 3,\n  \"fields\": [\n    {\n      \"column\": \"Thn\",\n      \"properties\": {\n        \"dtype\": \"number\",\n        \"std\": 0,\n        \"min\": 2023,\n        \"max\": 2023,\n        \"num_unique_values\": 1,\n        \"samples\": [\n          2023\n        ],\n        \"semantic_type\": \"\",\n        \"description\": \"\"\n      }\n    },\n    {\n      \"column\": \"bln\",\n      \"properties\": {\n        \"dtype\": \"number\",\n        \"std\": 4,\n        \"min\": 3,\n        \"max\": 10,\n        \"num_unique_values\": 2,\n        \"samples\": [\n          10\n        ],\n        \"semantic_type\": \"\",\n        \"description\": \"\"\n      }\n    },\n    {\n      \"column\": \"tgl\",\n      \"properties\": {\n        \"dtype\": \"number\",\n        \"std\": 5,\n        \"min\": 13,\n        \"max\": 23,\n        \"num_unique_values\": 3,\n        \"samples\": [\n          13\n        ],\n        \"semantic_type\": \"\",\n        \"description\": \"\"\n      }\n    },\n    {\n      \"column\": \"temp_min\",\n      \"properties\": {\n        \"dtype\": \"number\",\n        \"std\": 2.545584412271572,\n        \"min\": 20.2,\n        \"max\": 23.8,\n        \"num_unique_values\": 2,\n        \"samples\": [\n          20.2\n        ],\n        \"semantic_type\": \"\",\n        \"description\": \"\"\n      }\n    },\n    {\n      \"column\": \"temp_max\",\n      \"properties\": {\n        \"dtype\": \"number\",\n        \"std\": 2.2627416997969543,\n        \"min\": 32.0,\n        \"max\": 35.2,\n        \"num_unique_values\": 2,\n        \"samples\": [\n          35.2\n        ],\n        \"semantic_type\": \"\",\n        \"description\": \"\"\n      }\n    },\n    {\n      \"column\": \"temp_rata-rata\",\n      \"properties\": {\n        \"dtype\": \"number\",\n        \"std\": null,\n        \"min\": null,\n        \"max\": null,\n        \"num_unique_values\": 0,\n        \"samples\": [],\n        \"semantic_type\": \"\",\n        \"description\": \"\"\n      }\n    },\n    {\n      \"column\": \"lembab_rata-rata\",\n      \"properties\": {\n        \"dtype\": \"number\",\n        \"std\": null,\n        \"min\": null,\n        \"max\": null,\n        \"num_unique_values\": 0,\n        \"samples\": [],\n        \"semantic_type\": \"\",\n        \"description\": \"\"\n      }\n    },\n    {\n      \"column\": \"ch\",\n      \"properties\": {\n        \"dtype\": \"number\",\n        \"std\": 4.384062043356595,\n        \"min\": 0.0,\n        \"max\": 6.2,\n        \"num_unique_values\": 2,\n        \"samples\": [],\n        \"semantic_type\": \"\",\n        \"description\": \"\"\n      }\n    },\n    {\n      \"column\": \"cahaya_jam\",\n      \"properties\": {\n        \"dtype\": \"number\",\n        \"std\": 1.6970562748477138,\n        \"min\": 6.3,\n        \"max\": 8.7,\n        \"num_unique_values\": 2,\n        \"samples\": [],\n        \"semantic_type\": \"\",\n        \"description\": \"\"\n      }\n    }\n  ]\n}"
            }
          },
          "metadata": {},
          "execution_count": 89
        }
      ]
    },
    {
      "cell_type": "markdown",
      "source": [
        "nilai kosong pada kolom ch (curah hujan)"
      ],
      "metadata": {
        "id": "0RV2BkYaNMNw"
      }
    },
    {
      "cell_type": "code",
      "source": [
        "df[df['ch'].isnull()]"
      ],
      "metadata": {
        "colab": {
          "base_uri": "https://localhost:8080/",
          "height": 143
        },
        "id": "s53N8ZfS0vSz",
        "outputId": "5016f5a3-3074-4f67-a69d-a8b5e84d6340"
      },
      "execution_count": 90,
      "outputs": [
        {
          "output_type": "execute_result",
          "data": {
            "text/plain": [
              "      Thn  bln  tgl  temp_min  temp_max  temp_rata-rata  lembab_rata-rata  ch  \\\n",
              "295  2022   10   23      25.0      34.4            28.4              82.0 NaN   \n",
              "307  2022   11    4      24.4      33.3            29.1              81.0 NaN   \n",
              "660  2023   10   23       NaN       NaN             NaN               NaN NaN   \n",
              "\n",
              "     cahaya_jam  \n",
              "295         7.0  \n",
              "307         9.1  \n",
              "660         NaN  "
            ],
            "text/html": [
              "\n",
              "  <div id=\"df-2a691b4f-5a9b-4f7f-9081-8d340a61445c\" class=\"colab-df-container\">\n",
              "    <div>\n",
              "<style scoped>\n",
              "    .dataframe tbody tr th:only-of-type {\n",
              "        vertical-align: middle;\n",
              "    }\n",
              "\n",
              "    .dataframe tbody tr th {\n",
              "        vertical-align: top;\n",
              "    }\n",
              "\n",
              "    .dataframe thead th {\n",
              "        text-align: right;\n",
              "    }\n",
              "</style>\n",
              "<table border=\"1\" class=\"dataframe\">\n",
              "  <thead>\n",
              "    <tr style=\"text-align: right;\">\n",
              "      <th></th>\n",
              "      <th>Thn</th>\n",
              "      <th>bln</th>\n",
              "      <th>tgl</th>\n",
              "      <th>temp_min</th>\n",
              "      <th>temp_max</th>\n",
              "      <th>temp_rata-rata</th>\n",
              "      <th>lembab_rata-rata</th>\n",
              "      <th>ch</th>\n",
              "      <th>cahaya_jam</th>\n",
              "    </tr>\n",
              "  </thead>\n",
              "  <tbody>\n",
              "    <tr>\n",
              "      <th>295</th>\n",
              "      <td>2022</td>\n",
              "      <td>10</td>\n",
              "      <td>23</td>\n",
              "      <td>25.0</td>\n",
              "      <td>34.4</td>\n",
              "      <td>28.4</td>\n",
              "      <td>82.0</td>\n",
              "      <td>NaN</td>\n",
              "      <td>7.0</td>\n",
              "    </tr>\n",
              "    <tr>\n",
              "      <th>307</th>\n",
              "      <td>2022</td>\n",
              "      <td>11</td>\n",
              "      <td>4</td>\n",
              "      <td>24.4</td>\n",
              "      <td>33.3</td>\n",
              "      <td>29.1</td>\n",
              "      <td>81.0</td>\n",
              "      <td>NaN</td>\n",
              "      <td>9.1</td>\n",
              "    </tr>\n",
              "    <tr>\n",
              "      <th>660</th>\n",
              "      <td>2023</td>\n",
              "      <td>10</td>\n",
              "      <td>23</td>\n",
              "      <td>NaN</td>\n",
              "      <td>NaN</td>\n",
              "      <td>NaN</td>\n",
              "      <td>NaN</td>\n",
              "      <td>NaN</td>\n",
              "      <td>NaN</td>\n",
              "    </tr>\n",
              "  </tbody>\n",
              "</table>\n",
              "</div>\n",
              "    <div class=\"colab-df-buttons\">\n",
              "\n",
              "  <div class=\"colab-df-container\">\n",
              "    <button class=\"colab-df-convert\" onclick=\"convertToInteractive('df-2a691b4f-5a9b-4f7f-9081-8d340a61445c')\"\n",
              "            title=\"Convert this dataframe to an interactive table.\"\n",
              "            style=\"display:none;\">\n",
              "\n",
              "  <svg xmlns=\"http://www.w3.org/2000/svg\" height=\"24px\" viewBox=\"0 -960 960 960\">\n",
              "    <path d=\"M120-120v-720h720v720H120Zm60-500h600v-160H180v160Zm220 220h160v-160H400v160Zm0 220h160v-160H400v160ZM180-400h160v-160H180v160Zm440 0h160v-160H620v160ZM180-180h160v-160H180v160Zm440 0h160v-160H620v160Z\"/>\n",
              "  </svg>\n",
              "    </button>\n",
              "\n",
              "  <style>\n",
              "    .colab-df-container {\n",
              "      display:flex;\n",
              "      gap: 12px;\n",
              "    }\n",
              "\n",
              "    .colab-df-convert {\n",
              "      background-color: #E8F0FE;\n",
              "      border: none;\n",
              "      border-radius: 50%;\n",
              "      cursor: pointer;\n",
              "      display: none;\n",
              "      fill: #1967D2;\n",
              "      height: 32px;\n",
              "      padding: 0 0 0 0;\n",
              "      width: 32px;\n",
              "    }\n",
              "\n",
              "    .colab-df-convert:hover {\n",
              "      background-color: #E2EBFA;\n",
              "      box-shadow: 0px 1px 2px rgba(60, 64, 67, 0.3), 0px 1px 3px 1px rgba(60, 64, 67, 0.15);\n",
              "      fill: #174EA6;\n",
              "    }\n",
              "\n",
              "    .colab-df-buttons div {\n",
              "      margin-bottom: 4px;\n",
              "    }\n",
              "\n",
              "    [theme=dark] .colab-df-convert {\n",
              "      background-color: #3B4455;\n",
              "      fill: #D2E3FC;\n",
              "    }\n",
              "\n",
              "    [theme=dark] .colab-df-convert:hover {\n",
              "      background-color: #434B5C;\n",
              "      box-shadow: 0px 1px 3px 1px rgba(0, 0, 0, 0.15);\n",
              "      filter: drop-shadow(0px 1px 2px rgba(0, 0, 0, 0.3));\n",
              "      fill: #FFFFFF;\n",
              "    }\n",
              "  </style>\n",
              "\n",
              "    <script>\n",
              "      const buttonEl =\n",
              "        document.querySelector('#df-2a691b4f-5a9b-4f7f-9081-8d340a61445c button.colab-df-convert');\n",
              "      buttonEl.style.display =\n",
              "        google.colab.kernel.accessAllowed ? 'block' : 'none';\n",
              "\n",
              "      async function convertToInteractive(key) {\n",
              "        const element = document.querySelector('#df-2a691b4f-5a9b-4f7f-9081-8d340a61445c');\n",
              "        const dataTable =\n",
              "          await google.colab.kernel.invokeFunction('convertToInteractive',\n",
              "                                                    [key], {});\n",
              "        if (!dataTable) return;\n",
              "\n",
              "        const docLinkHtml = 'Like what you see? Visit the ' +\n",
              "          '<a target=\"_blank\" href=https://colab.research.google.com/notebooks/data_table.ipynb>data table notebook</a>'\n",
              "          + ' to learn more about interactive tables.';\n",
              "        element.innerHTML = '';\n",
              "        dataTable['output_type'] = 'display_data';\n",
              "        await google.colab.output.renderOutput(dataTable, element);\n",
              "        const docLink = document.createElement('div');\n",
              "        docLink.innerHTML = docLinkHtml;\n",
              "        element.appendChild(docLink);\n",
              "      }\n",
              "    </script>\n",
              "  </div>\n",
              "\n",
              "\n",
              "<div id=\"df-1013e11a-2d6d-41ca-a780-358a1db74e88\">\n",
              "  <button class=\"colab-df-quickchart\" onclick=\"quickchart('df-1013e11a-2d6d-41ca-a780-358a1db74e88')\"\n",
              "            title=\"Suggest charts\"\n",
              "            style=\"display:none;\">\n",
              "\n",
              "<svg xmlns=\"http://www.w3.org/2000/svg\" height=\"24px\"viewBox=\"0 0 24 24\"\n",
              "     width=\"24px\">\n",
              "    <g>\n",
              "        <path d=\"M19 3H5c-1.1 0-2 .9-2 2v14c0 1.1.9 2 2 2h14c1.1 0 2-.9 2-2V5c0-1.1-.9-2-2-2zM9 17H7v-7h2v7zm4 0h-2V7h2v10zm4 0h-2v-4h2v4z\"/>\n",
              "    </g>\n",
              "</svg>\n",
              "  </button>\n",
              "\n",
              "<style>\n",
              "  .colab-df-quickchart {\n",
              "      --bg-color: #E8F0FE;\n",
              "      --fill-color: #1967D2;\n",
              "      --hover-bg-color: #E2EBFA;\n",
              "      --hover-fill-color: #174EA6;\n",
              "      --disabled-fill-color: #AAA;\n",
              "      --disabled-bg-color: #DDD;\n",
              "  }\n",
              "\n",
              "  [theme=dark] .colab-df-quickchart {\n",
              "      --bg-color: #3B4455;\n",
              "      --fill-color: #D2E3FC;\n",
              "      --hover-bg-color: #434B5C;\n",
              "      --hover-fill-color: #FFFFFF;\n",
              "      --disabled-bg-color: #3B4455;\n",
              "      --disabled-fill-color: #666;\n",
              "  }\n",
              "\n",
              "  .colab-df-quickchart {\n",
              "    background-color: var(--bg-color);\n",
              "    border: none;\n",
              "    border-radius: 50%;\n",
              "    cursor: pointer;\n",
              "    display: none;\n",
              "    fill: var(--fill-color);\n",
              "    height: 32px;\n",
              "    padding: 0;\n",
              "    width: 32px;\n",
              "  }\n",
              "\n",
              "  .colab-df-quickchart:hover {\n",
              "    background-color: var(--hover-bg-color);\n",
              "    box-shadow: 0 1px 2px rgba(60, 64, 67, 0.3), 0 1px 3px 1px rgba(60, 64, 67, 0.15);\n",
              "    fill: var(--button-hover-fill-color);\n",
              "  }\n",
              "\n",
              "  .colab-df-quickchart-complete:disabled,\n",
              "  .colab-df-quickchart-complete:disabled:hover {\n",
              "    background-color: var(--disabled-bg-color);\n",
              "    fill: var(--disabled-fill-color);\n",
              "    box-shadow: none;\n",
              "  }\n",
              "\n",
              "  .colab-df-spinner {\n",
              "    border: 2px solid var(--fill-color);\n",
              "    border-color: transparent;\n",
              "    border-bottom-color: var(--fill-color);\n",
              "    animation:\n",
              "      spin 1s steps(1) infinite;\n",
              "  }\n",
              "\n",
              "  @keyframes spin {\n",
              "    0% {\n",
              "      border-color: transparent;\n",
              "      border-bottom-color: var(--fill-color);\n",
              "      border-left-color: var(--fill-color);\n",
              "    }\n",
              "    20% {\n",
              "      border-color: transparent;\n",
              "      border-left-color: var(--fill-color);\n",
              "      border-top-color: var(--fill-color);\n",
              "    }\n",
              "    30% {\n",
              "      border-color: transparent;\n",
              "      border-left-color: var(--fill-color);\n",
              "      border-top-color: var(--fill-color);\n",
              "      border-right-color: var(--fill-color);\n",
              "    }\n",
              "    40% {\n",
              "      border-color: transparent;\n",
              "      border-right-color: var(--fill-color);\n",
              "      border-top-color: var(--fill-color);\n",
              "    }\n",
              "    60% {\n",
              "      border-color: transparent;\n",
              "      border-right-color: var(--fill-color);\n",
              "    }\n",
              "    80% {\n",
              "      border-color: transparent;\n",
              "      border-right-color: var(--fill-color);\n",
              "      border-bottom-color: var(--fill-color);\n",
              "    }\n",
              "    90% {\n",
              "      border-color: transparent;\n",
              "      border-bottom-color: var(--fill-color);\n",
              "    }\n",
              "  }\n",
              "</style>\n",
              "\n",
              "  <script>\n",
              "    async function quickchart(key) {\n",
              "      const quickchartButtonEl =\n",
              "        document.querySelector('#' + key + ' button');\n",
              "      quickchartButtonEl.disabled = true;  // To prevent multiple clicks.\n",
              "      quickchartButtonEl.classList.add('colab-df-spinner');\n",
              "      try {\n",
              "        const charts = await google.colab.kernel.invokeFunction(\n",
              "            'suggestCharts', [key], {});\n",
              "      } catch (error) {\n",
              "        console.error('Error during call to suggestCharts:', error);\n",
              "      }\n",
              "      quickchartButtonEl.classList.remove('colab-df-spinner');\n",
              "      quickchartButtonEl.classList.add('colab-df-quickchart-complete');\n",
              "    }\n",
              "    (() => {\n",
              "      let quickchartButtonEl =\n",
              "        document.querySelector('#df-1013e11a-2d6d-41ca-a780-358a1db74e88 button');\n",
              "      quickchartButtonEl.style.display =\n",
              "        google.colab.kernel.accessAllowed ? 'block' : 'none';\n",
              "    })();\n",
              "  </script>\n",
              "</div>\n",
              "    </div>\n",
              "  </div>\n"
            ],
            "application/vnd.google.colaboratory.intrinsic+json": {
              "type": "dataframe",
              "summary": "{\n  \"name\": \"df[df['ch']\",\n  \"rows\": 3,\n  \"fields\": [\n    {\n      \"column\": \"Thn\",\n      \"properties\": {\n        \"dtype\": \"number\",\n        \"std\": 0,\n        \"min\": 2022,\n        \"max\": 2023,\n        \"num_unique_values\": 2,\n        \"samples\": [\n          2023,\n          2022\n        ],\n        \"semantic_type\": \"\",\n        \"description\": \"\"\n      }\n    },\n    {\n      \"column\": \"bln\",\n      \"properties\": {\n        \"dtype\": \"number\",\n        \"std\": 0,\n        \"min\": 10,\n        \"max\": 11,\n        \"num_unique_values\": 2,\n        \"samples\": [\n          11,\n          10\n        ],\n        \"semantic_type\": \"\",\n        \"description\": \"\"\n      }\n    },\n    {\n      \"column\": \"tgl\",\n      \"properties\": {\n        \"dtype\": \"number\",\n        \"std\": 10,\n        \"min\": 4,\n        \"max\": 23,\n        \"num_unique_values\": 2,\n        \"samples\": [\n          4,\n          23\n        ],\n        \"semantic_type\": \"\",\n        \"description\": \"\"\n      }\n    },\n    {\n      \"column\": \"temp_min\",\n      \"properties\": {\n        \"dtype\": \"number\",\n        \"std\": 0.4242640687119295,\n        \"min\": 24.4,\n        \"max\": 25.0,\n        \"num_unique_values\": 2,\n        \"samples\": [\n          24.4,\n          25.0\n        ],\n        \"semantic_type\": \"\",\n        \"description\": \"\"\n      }\n    },\n    {\n      \"column\": \"temp_max\",\n      \"properties\": {\n        \"dtype\": \"number\",\n        \"std\": 0.7778174593052033,\n        \"min\": 33.3,\n        \"max\": 34.4,\n        \"num_unique_values\": 2,\n        \"samples\": [\n          33.3,\n          34.4\n        ],\n        \"semantic_type\": \"\",\n        \"description\": \"\"\n      }\n    },\n    {\n      \"column\": \"temp_rata-rata\",\n      \"properties\": {\n        \"dtype\": \"number\",\n        \"std\": 0.4949747468305853,\n        \"min\": 28.4,\n        \"max\": 29.1,\n        \"num_unique_values\": 2,\n        \"samples\": [\n          29.1,\n          28.4\n        ],\n        \"semantic_type\": \"\",\n        \"description\": \"\"\n      }\n    },\n    {\n      \"column\": \"lembab_rata-rata\",\n      \"properties\": {\n        \"dtype\": \"number\",\n        \"std\": 0.7071067811865476,\n        \"min\": 81.0,\n        \"max\": 82.0,\n        \"num_unique_values\": 2,\n        \"samples\": [\n          81.0,\n          82.0\n        ],\n        \"semantic_type\": \"\",\n        \"description\": \"\"\n      }\n    },\n    {\n      \"column\": \"ch\",\n      \"properties\": {\n        \"dtype\": \"number\",\n        \"std\": null,\n        \"min\": null,\n        \"max\": null,\n        \"num_unique_values\": 0,\n        \"samples\": [],\n        \"semantic_type\": \"\",\n        \"description\": \"\"\n      }\n    },\n    {\n      \"column\": \"cahaya_jam\",\n      \"properties\": {\n        \"dtype\": \"number\",\n        \"std\": 1.4849242404917495,\n        \"min\": 7.0,\n        \"max\": 9.1,\n        \"num_unique_values\": 2,\n        \"samples\": [],\n        \"semantic_type\": \"\",\n        \"description\": \"\"\n      }\n    }\n  ]\n}"
            }
          },
          "metadata": {},
          "execution_count": 90
        }
      ]
    },
    {
      "cell_type": "markdown",
      "source": [
        "nilai kosong pada kolom cahaya_jam"
      ],
      "metadata": {
        "id": "aEHK8SaHNRxv"
      }
    },
    {
      "cell_type": "code",
      "source": [
        "df[df['cahaya_jam'].isnull()]"
      ],
      "metadata": {
        "colab": {
          "base_uri": "https://localhost:8080/",
          "height": 112
        },
        "id": "D7uu3PdW01AI",
        "outputId": "57ba7af7-9cbc-43bf-df74-96637299fcb7"
      },
      "execution_count": 91,
      "outputs": [
        {
          "output_type": "execute_result",
          "data": {
            "text/plain": [
              "      Thn  bln  tgl  temp_min  temp_max  temp_rata-rata  lembab_rata-rata  \\\n",
              "585  2023    8    9      22.4      31.2            25.6              88.0   \n",
              "660  2023   10   23       NaN       NaN             NaN               NaN   \n",
              "\n",
              "      ch  cahaya_jam  \n",
              "585  0.8         NaN  \n",
              "660  NaN         NaN  "
            ],
            "text/html": [
              "\n",
              "  <div id=\"df-e7b2f1f0-245f-44ad-b633-4c9a94645b5e\" class=\"colab-df-container\">\n",
              "    <div>\n",
              "<style scoped>\n",
              "    .dataframe tbody tr th:only-of-type {\n",
              "        vertical-align: middle;\n",
              "    }\n",
              "\n",
              "    .dataframe tbody tr th {\n",
              "        vertical-align: top;\n",
              "    }\n",
              "\n",
              "    .dataframe thead th {\n",
              "        text-align: right;\n",
              "    }\n",
              "</style>\n",
              "<table border=\"1\" class=\"dataframe\">\n",
              "  <thead>\n",
              "    <tr style=\"text-align: right;\">\n",
              "      <th></th>\n",
              "      <th>Thn</th>\n",
              "      <th>bln</th>\n",
              "      <th>tgl</th>\n",
              "      <th>temp_min</th>\n",
              "      <th>temp_max</th>\n",
              "      <th>temp_rata-rata</th>\n",
              "      <th>lembab_rata-rata</th>\n",
              "      <th>ch</th>\n",
              "      <th>cahaya_jam</th>\n",
              "    </tr>\n",
              "  </thead>\n",
              "  <tbody>\n",
              "    <tr>\n",
              "      <th>585</th>\n",
              "      <td>2023</td>\n",
              "      <td>8</td>\n",
              "      <td>9</td>\n",
              "      <td>22.4</td>\n",
              "      <td>31.2</td>\n",
              "      <td>25.6</td>\n",
              "      <td>88.0</td>\n",
              "      <td>0.8</td>\n",
              "      <td>NaN</td>\n",
              "    </tr>\n",
              "    <tr>\n",
              "      <th>660</th>\n",
              "      <td>2023</td>\n",
              "      <td>10</td>\n",
              "      <td>23</td>\n",
              "      <td>NaN</td>\n",
              "      <td>NaN</td>\n",
              "      <td>NaN</td>\n",
              "      <td>NaN</td>\n",
              "      <td>NaN</td>\n",
              "      <td>NaN</td>\n",
              "    </tr>\n",
              "  </tbody>\n",
              "</table>\n",
              "</div>\n",
              "    <div class=\"colab-df-buttons\">\n",
              "\n",
              "  <div class=\"colab-df-container\">\n",
              "    <button class=\"colab-df-convert\" onclick=\"convertToInteractive('df-e7b2f1f0-245f-44ad-b633-4c9a94645b5e')\"\n",
              "            title=\"Convert this dataframe to an interactive table.\"\n",
              "            style=\"display:none;\">\n",
              "\n",
              "  <svg xmlns=\"http://www.w3.org/2000/svg\" height=\"24px\" viewBox=\"0 -960 960 960\">\n",
              "    <path d=\"M120-120v-720h720v720H120Zm60-500h600v-160H180v160Zm220 220h160v-160H400v160Zm0 220h160v-160H400v160ZM180-400h160v-160H180v160Zm440 0h160v-160H620v160ZM180-180h160v-160H180v160Zm440 0h160v-160H620v160Z\"/>\n",
              "  </svg>\n",
              "    </button>\n",
              "\n",
              "  <style>\n",
              "    .colab-df-container {\n",
              "      display:flex;\n",
              "      gap: 12px;\n",
              "    }\n",
              "\n",
              "    .colab-df-convert {\n",
              "      background-color: #E8F0FE;\n",
              "      border: none;\n",
              "      border-radius: 50%;\n",
              "      cursor: pointer;\n",
              "      display: none;\n",
              "      fill: #1967D2;\n",
              "      height: 32px;\n",
              "      padding: 0 0 0 0;\n",
              "      width: 32px;\n",
              "    }\n",
              "\n",
              "    .colab-df-convert:hover {\n",
              "      background-color: #E2EBFA;\n",
              "      box-shadow: 0px 1px 2px rgba(60, 64, 67, 0.3), 0px 1px 3px 1px rgba(60, 64, 67, 0.15);\n",
              "      fill: #174EA6;\n",
              "    }\n",
              "\n",
              "    .colab-df-buttons div {\n",
              "      margin-bottom: 4px;\n",
              "    }\n",
              "\n",
              "    [theme=dark] .colab-df-convert {\n",
              "      background-color: #3B4455;\n",
              "      fill: #D2E3FC;\n",
              "    }\n",
              "\n",
              "    [theme=dark] .colab-df-convert:hover {\n",
              "      background-color: #434B5C;\n",
              "      box-shadow: 0px 1px 3px 1px rgba(0, 0, 0, 0.15);\n",
              "      filter: drop-shadow(0px 1px 2px rgba(0, 0, 0, 0.3));\n",
              "      fill: #FFFFFF;\n",
              "    }\n",
              "  </style>\n",
              "\n",
              "    <script>\n",
              "      const buttonEl =\n",
              "        document.querySelector('#df-e7b2f1f0-245f-44ad-b633-4c9a94645b5e button.colab-df-convert');\n",
              "      buttonEl.style.display =\n",
              "        google.colab.kernel.accessAllowed ? 'block' : 'none';\n",
              "\n",
              "      async function convertToInteractive(key) {\n",
              "        const element = document.querySelector('#df-e7b2f1f0-245f-44ad-b633-4c9a94645b5e');\n",
              "        const dataTable =\n",
              "          await google.colab.kernel.invokeFunction('convertToInteractive',\n",
              "                                                    [key], {});\n",
              "        if (!dataTable) return;\n",
              "\n",
              "        const docLinkHtml = 'Like what you see? Visit the ' +\n",
              "          '<a target=\"_blank\" href=https://colab.research.google.com/notebooks/data_table.ipynb>data table notebook</a>'\n",
              "          + ' to learn more about interactive tables.';\n",
              "        element.innerHTML = '';\n",
              "        dataTable['output_type'] = 'display_data';\n",
              "        await google.colab.output.renderOutput(dataTable, element);\n",
              "        const docLink = document.createElement('div');\n",
              "        docLink.innerHTML = docLinkHtml;\n",
              "        element.appendChild(docLink);\n",
              "      }\n",
              "    </script>\n",
              "  </div>\n",
              "\n",
              "\n",
              "<div id=\"df-707bfa30-1716-4a94-811c-463226580328\">\n",
              "  <button class=\"colab-df-quickchart\" onclick=\"quickchart('df-707bfa30-1716-4a94-811c-463226580328')\"\n",
              "            title=\"Suggest charts\"\n",
              "            style=\"display:none;\">\n",
              "\n",
              "<svg xmlns=\"http://www.w3.org/2000/svg\" height=\"24px\"viewBox=\"0 0 24 24\"\n",
              "     width=\"24px\">\n",
              "    <g>\n",
              "        <path d=\"M19 3H5c-1.1 0-2 .9-2 2v14c0 1.1.9 2 2 2h14c1.1 0 2-.9 2-2V5c0-1.1-.9-2-2-2zM9 17H7v-7h2v7zm4 0h-2V7h2v10zm4 0h-2v-4h2v4z\"/>\n",
              "    </g>\n",
              "</svg>\n",
              "  </button>\n",
              "\n",
              "<style>\n",
              "  .colab-df-quickchart {\n",
              "      --bg-color: #E8F0FE;\n",
              "      --fill-color: #1967D2;\n",
              "      --hover-bg-color: #E2EBFA;\n",
              "      --hover-fill-color: #174EA6;\n",
              "      --disabled-fill-color: #AAA;\n",
              "      --disabled-bg-color: #DDD;\n",
              "  }\n",
              "\n",
              "  [theme=dark] .colab-df-quickchart {\n",
              "      --bg-color: #3B4455;\n",
              "      --fill-color: #D2E3FC;\n",
              "      --hover-bg-color: #434B5C;\n",
              "      --hover-fill-color: #FFFFFF;\n",
              "      --disabled-bg-color: #3B4455;\n",
              "      --disabled-fill-color: #666;\n",
              "  }\n",
              "\n",
              "  .colab-df-quickchart {\n",
              "    background-color: var(--bg-color);\n",
              "    border: none;\n",
              "    border-radius: 50%;\n",
              "    cursor: pointer;\n",
              "    display: none;\n",
              "    fill: var(--fill-color);\n",
              "    height: 32px;\n",
              "    padding: 0;\n",
              "    width: 32px;\n",
              "  }\n",
              "\n",
              "  .colab-df-quickchart:hover {\n",
              "    background-color: var(--hover-bg-color);\n",
              "    box-shadow: 0 1px 2px rgba(60, 64, 67, 0.3), 0 1px 3px 1px rgba(60, 64, 67, 0.15);\n",
              "    fill: var(--button-hover-fill-color);\n",
              "  }\n",
              "\n",
              "  .colab-df-quickchart-complete:disabled,\n",
              "  .colab-df-quickchart-complete:disabled:hover {\n",
              "    background-color: var(--disabled-bg-color);\n",
              "    fill: var(--disabled-fill-color);\n",
              "    box-shadow: none;\n",
              "  }\n",
              "\n",
              "  .colab-df-spinner {\n",
              "    border: 2px solid var(--fill-color);\n",
              "    border-color: transparent;\n",
              "    border-bottom-color: var(--fill-color);\n",
              "    animation:\n",
              "      spin 1s steps(1) infinite;\n",
              "  }\n",
              "\n",
              "  @keyframes spin {\n",
              "    0% {\n",
              "      border-color: transparent;\n",
              "      border-bottom-color: var(--fill-color);\n",
              "      border-left-color: var(--fill-color);\n",
              "    }\n",
              "    20% {\n",
              "      border-color: transparent;\n",
              "      border-left-color: var(--fill-color);\n",
              "      border-top-color: var(--fill-color);\n",
              "    }\n",
              "    30% {\n",
              "      border-color: transparent;\n",
              "      border-left-color: var(--fill-color);\n",
              "      border-top-color: var(--fill-color);\n",
              "      border-right-color: var(--fill-color);\n",
              "    }\n",
              "    40% {\n",
              "      border-color: transparent;\n",
              "      border-right-color: var(--fill-color);\n",
              "      border-top-color: var(--fill-color);\n",
              "    }\n",
              "    60% {\n",
              "      border-color: transparent;\n",
              "      border-right-color: var(--fill-color);\n",
              "    }\n",
              "    80% {\n",
              "      border-color: transparent;\n",
              "      border-right-color: var(--fill-color);\n",
              "      border-bottom-color: var(--fill-color);\n",
              "    }\n",
              "    90% {\n",
              "      border-color: transparent;\n",
              "      border-bottom-color: var(--fill-color);\n",
              "    }\n",
              "  }\n",
              "</style>\n",
              "\n",
              "  <script>\n",
              "    async function quickchart(key) {\n",
              "      const quickchartButtonEl =\n",
              "        document.querySelector('#' + key + ' button');\n",
              "      quickchartButtonEl.disabled = true;  // To prevent multiple clicks.\n",
              "      quickchartButtonEl.classList.add('colab-df-spinner');\n",
              "      try {\n",
              "        const charts = await google.colab.kernel.invokeFunction(\n",
              "            'suggestCharts', [key], {});\n",
              "      } catch (error) {\n",
              "        console.error('Error during call to suggestCharts:', error);\n",
              "      }\n",
              "      quickchartButtonEl.classList.remove('colab-df-spinner');\n",
              "      quickchartButtonEl.classList.add('colab-df-quickchart-complete');\n",
              "    }\n",
              "    (() => {\n",
              "      let quickchartButtonEl =\n",
              "        document.querySelector('#df-707bfa30-1716-4a94-811c-463226580328 button');\n",
              "      quickchartButtonEl.style.display =\n",
              "        google.colab.kernel.accessAllowed ? 'block' : 'none';\n",
              "    })();\n",
              "  </script>\n",
              "</div>\n",
              "    </div>\n",
              "  </div>\n"
            ],
            "application/vnd.google.colaboratory.intrinsic+json": {
              "type": "dataframe",
              "summary": "{\n  \"name\": \"df[df['cahaya_jam']\",\n  \"rows\": 2,\n  \"fields\": [\n    {\n      \"column\": \"Thn\",\n      \"properties\": {\n        \"dtype\": \"number\",\n        \"std\": 0,\n        \"min\": 2023,\n        \"max\": 2023,\n        \"num_unique_values\": 1,\n        \"samples\": [\n          2023\n        ],\n        \"semantic_type\": \"\",\n        \"description\": \"\"\n      }\n    },\n    {\n      \"column\": \"bln\",\n      \"properties\": {\n        \"dtype\": \"number\",\n        \"std\": 1,\n        \"min\": 8,\n        \"max\": 10,\n        \"num_unique_values\": 2,\n        \"samples\": [\n          10\n        ],\n        \"semantic_type\": \"\",\n        \"description\": \"\"\n      }\n    },\n    {\n      \"column\": \"tgl\",\n      \"properties\": {\n        \"dtype\": \"number\",\n        \"std\": 9,\n        \"min\": 9,\n        \"max\": 23,\n        \"num_unique_values\": 2,\n        \"samples\": [\n          23\n        ],\n        \"semantic_type\": \"\",\n        \"description\": \"\"\n      }\n    },\n    {\n      \"column\": \"temp_min\",\n      \"properties\": {\n        \"dtype\": \"number\",\n        \"std\": null,\n        \"min\": 22.4,\n        \"max\": 22.4,\n        \"num_unique_values\": 1,\n        \"samples\": [\n          22.4\n        ],\n        \"semantic_type\": \"\",\n        \"description\": \"\"\n      }\n    },\n    {\n      \"column\": \"temp_max\",\n      \"properties\": {\n        \"dtype\": \"number\",\n        \"std\": null,\n        \"min\": 31.2,\n        \"max\": 31.2,\n        \"num_unique_values\": 1,\n        \"samples\": [\n          31.2\n        ],\n        \"semantic_type\": \"\",\n        \"description\": \"\"\n      }\n    },\n    {\n      \"column\": \"temp_rata-rata\",\n      \"properties\": {\n        \"dtype\": \"number\",\n        \"std\": null,\n        \"min\": 25.6,\n        \"max\": 25.6,\n        \"num_unique_values\": 1,\n        \"samples\": [\n          25.6\n        ],\n        \"semantic_type\": \"\",\n        \"description\": \"\"\n      }\n    },\n    {\n      \"column\": \"lembab_rata-rata\",\n      \"properties\": {\n        \"dtype\": \"number\",\n        \"std\": null,\n        \"min\": 88.0,\n        \"max\": 88.0,\n        \"num_unique_values\": 1,\n        \"samples\": [\n          88.0\n        ],\n        \"semantic_type\": \"\",\n        \"description\": \"\"\n      }\n    },\n    {\n      \"column\": \"ch\",\n      \"properties\": {\n        \"dtype\": \"number\",\n        \"std\": null,\n        \"min\": 0.8,\n        \"max\": 0.8,\n        \"num_unique_values\": 1,\n        \"samples\": [\n          0.8\n        ],\n        \"semantic_type\": \"\",\n        \"description\": \"\"\n      }\n    },\n    {\n      \"column\": \"cahaya_jam\",\n      \"properties\": {\n        \"dtype\": \"number\",\n        \"std\": null,\n        \"min\": null,\n        \"max\": null,\n        \"num_unique_values\": 0,\n        \"samples\": [],\n        \"semantic_type\": \"\",\n        \"description\": \"\"\n      }\n    }\n  ]\n}"
            }
          },
          "metadata": {},
          "execution_count": 91
        }
      ]
    },
    {
      "cell_type": "markdown",
      "source": [
        "#####**Hapus Missing Values**"
      ],
      "metadata": {
        "id": "yR6QPfMd8KcQ"
      }
    },
    {
      "cell_type": "markdown",
      "source": [
        "Dikarenakan missing value pada dataset saya kurang dari 70%, dalam hal ini tidak saya gunakan"
      ],
      "metadata": {
        "id": "G8k_zLKvyxAE"
      }
    },
    {
      "cell_type": "markdown",
      "source": [
        "#####**Imputasi Missing Values**"
      ],
      "metadata": {
        "id": "_T0bzOnEB3ZV"
      }
    },
    {
      "cell_type": "markdown",
      "source": [
        "Untuk kolom temp_max, temp_min, temp_rata-rata, lembab_rata-rata, ch, cahaya_jam, perlu kita lakukan imputasi karena merupakan fitur yang relevan dalam analisis ini dan jumlah missing valuesnya < 70%. Imputasi dilakukan menggunakan nilai analisis statistik"
      ],
      "metadata": {
        "id": "74hXkNxPOO1_"
      }
    },
    {
      "cell_type": "code",
      "source": [
        "df['temp_max'].dropna().describe()"
      ],
      "metadata": {
        "colab": {
          "base_uri": "https://localhost:8080/"
        },
        "id": "rW3DozNpB6gB",
        "outputId": "4cfa64d5-564f-452a-a1de-cf65764f4651"
      },
      "execution_count": 92,
      "outputs": [
        {
          "output_type": "execute_result",
          "data": {
            "text/plain": [
              "count     715.000000\n",
              "mean       46.165734\n",
              "std       372.741102\n",
              "min        20.000000\n",
              "25%        31.200000\n",
              "50%        32.400000\n",
              "75%        33.350000\n",
              "max      9999.000000\n",
              "Name: temp_max, dtype: float64"
            ]
          },
          "metadata": {},
          "execution_count": 92
        }
      ]
    },
    {
      "cell_type": "code",
      "source": [
        "df['temp_min'].dropna().describe()"
      ],
      "metadata": {
        "colab": {
          "base_uri": "https://localhost:8080/"
        },
        "id": "jh92F1nPy0ff",
        "outputId": "8ab87d78-c544-4374-eba0-6d85813fb09a"
      },
      "execution_count": 93,
      "outputs": [
        {
          "output_type": "execute_result",
          "data": {
            "text/plain": [
              "count     718.000000\n",
              "mean       37.401950\n",
              "std       372.284493\n",
              "min        18.200000\n",
              "25%        23.200000\n",
              "50%        23.800000\n",
              "75%        24.400000\n",
              "max      9999.000000\n",
              "Name: temp_min, dtype: float64"
            ]
          },
          "metadata": {},
          "execution_count": 93
        }
      ]
    },
    {
      "cell_type": "code",
      "source": [
        "df['temp_rata-rata'].dropna().describe()"
      ],
      "metadata": {
        "colab": {
          "base_uri": "https://localhost:8080/"
        },
        "id": "Z61zyUY2x3hC",
        "outputId": "1890ba59-5f2b-42c7-abe7-0a5672c32cf8"
      },
      "execution_count": 94,
      "outputs": [
        {
          "output_type": "execute_result",
          "data": {
            "text/plain": [
              "count    716.000000\n",
              "mean      27.206285\n",
              "std        1.459084\n",
              "min       23.700000\n",
              "25%       26.300000\n",
              "50%       27.000000\n",
              "75%       27.900000\n",
              "max       32.800000\n",
              "Name: temp_rata-rata, dtype: float64"
            ]
          },
          "metadata": {},
          "execution_count": 94
        }
      ]
    },
    {
      "cell_type": "code",
      "source": [
        "df['lembab_rata-rata'].dropna().describe()"
      ],
      "metadata": {
        "colab": {
          "base_uri": "https://localhost:8080/"
        },
        "id": "dZSo8wyPy6Dk",
        "outputId": "bd4b0d6b-102f-4035-db49-02b149fc8dd5"
      },
      "execution_count": 95,
      "outputs": [
        {
          "output_type": "execute_result",
          "data": {
            "text/plain": [
              "count    716.000000\n",
              "mean      83.681564\n",
              "std        6.636348\n",
              "min       57.000000\n",
              "25%       80.000000\n",
              "50%       84.000000\n",
              "75%       88.000000\n",
              "max       99.000000\n",
              "Name: lembab_rata-rata, dtype: float64"
            ]
          },
          "metadata": {},
          "execution_count": 95
        }
      ]
    },
    {
      "cell_type": "code",
      "source": [
        "df['ch'].dropna().describe()"
      ],
      "metadata": {
        "colab": {
          "base_uri": "https://localhost:8080/"
        },
        "id": "xvTpUCdey8Re",
        "outputId": "574b1c7f-bb59-4c46-9e15-e2b42b415dea"
      },
      "execution_count": 96,
      "outputs": [
        {
          "output_type": "execute_result",
          "data": {
            "text/plain": [
              "count     716.000000\n",
              "mean      998.574441\n",
              "std      2800.073672\n",
              "min         0.000000\n",
              "25%         0.000000\n",
              "50%         1.400000\n",
              "75%        12.350000\n",
              "max      8888.000000\n",
              "Name: ch, dtype: float64"
            ]
          },
          "metadata": {},
          "execution_count": 96
        }
      ]
    },
    {
      "cell_type": "code",
      "source": [
        "df['cahaya_jam'].dropna().describe()"
      ],
      "metadata": {
        "colab": {
          "base_uri": "https://localhost:8080/"
        },
        "id": "rFlXN-6CzGVO",
        "outputId": "9f2b811a-65e9-493a-f380-bb460b0084a8"
      },
      "execution_count": 97,
      "outputs": [
        {
          "output_type": "execute_result",
          "data": {
            "text/plain": [
              "count     717.000000\n",
              "mean       32.383821\n",
              "std       527.495165\n",
              "min         0.000000\n",
              "25%         2.300000\n",
              "50%         4.400000\n",
              "75%         6.700000\n",
              "max      9999.000000\n",
              "Name: cahaya_jam, dtype: float64"
            ]
          },
          "metadata": {},
          "execution_count": 97
        }
      ]
    },
    {
      "cell_type": "markdown",
      "source": [
        "Disini berdasarkan hasil analisis statistik, kita dapat menggunakan mean untuk imputasi nilai kosong tersebut"
      ],
      "metadata": {
        "id": "MUk4rrZeOlr1"
      }
    },
    {
      "cell_type": "code",
      "source": [
        "df['temp_max'] = df['temp_max'].fillna(df['temp_max'].dropna().mean())\n",
        "df['temp_min'] = df['temp_min'].fillna(df['temp_min'].dropna().mean())\n",
        "df['temp_rata-rata'] = df['temp_rata-rata'].fillna(df['temp_rata-rata'].dropna().mean())\n",
        "df['lembab_rata-rata'] = df['lembab_rata-rata'].fillna(df['lembab_rata-rata'].dropna().mean())\n",
        "df['ch'] = df['ch'].fillna(df['ch'].dropna().mean())\n",
        "df['cahaya_jam'] = df['cahaya_jam'].fillna(df['cahaya_jam'].dropna().mean())"
      ],
      "metadata": {
        "id": "NnwMFH28DJ6w"
      },
      "execution_count": 98,
      "outputs": []
    },
    {
      "cell_type": "markdown",
      "source": [
        "#####**Pengecekkan Ulang**"
      ],
      "metadata": {
        "id": "wwYn8QLcE2uf"
      }
    },
    {
      "cell_type": "code",
      "source": [
        "pd.DataFrame(df.isna().sum() / len(df) * 100, columns=['Null Ratio %'])"
      ],
      "metadata": {
        "colab": {
          "base_uri": "https://localhost:8080/",
          "height": 331
        },
        "id": "0n_pkRYeE9vs",
        "outputId": "58cc84f9-b667-431e-817a-f14ce43f4773"
      },
      "execution_count": 99,
      "outputs": [
        {
          "output_type": "execute_result",
          "data": {
            "text/plain": [
              "                  Null Ratio %\n",
              "Thn                        0.0\n",
              "bln                        0.0\n",
              "tgl                        0.0\n",
              "temp_min                   0.0\n",
              "temp_max                   0.0\n",
              "temp_rata-rata             0.0\n",
              "lembab_rata-rata           0.0\n",
              "ch                         0.0\n",
              "cahaya_jam                 0.0"
            ],
            "text/html": [
              "\n",
              "  <div id=\"df-132f42fa-56e9-45da-984e-4f029bed9e7c\" class=\"colab-df-container\">\n",
              "    <div>\n",
              "<style scoped>\n",
              "    .dataframe tbody tr th:only-of-type {\n",
              "        vertical-align: middle;\n",
              "    }\n",
              "\n",
              "    .dataframe tbody tr th {\n",
              "        vertical-align: top;\n",
              "    }\n",
              "\n",
              "    .dataframe thead th {\n",
              "        text-align: right;\n",
              "    }\n",
              "</style>\n",
              "<table border=\"1\" class=\"dataframe\">\n",
              "  <thead>\n",
              "    <tr style=\"text-align: right;\">\n",
              "      <th></th>\n",
              "      <th>Null Ratio %</th>\n",
              "    </tr>\n",
              "  </thead>\n",
              "  <tbody>\n",
              "    <tr>\n",
              "      <th>Thn</th>\n",
              "      <td>0.0</td>\n",
              "    </tr>\n",
              "    <tr>\n",
              "      <th>bln</th>\n",
              "      <td>0.0</td>\n",
              "    </tr>\n",
              "    <tr>\n",
              "      <th>tgl</th>\n",
              "      <td>0.0</td>\n",
              "    </tr>\n",
              "    <tr>\n",
              "      <th>temp_min</th>\n",
              "      <td>0.0</td>\n",
              "    </tr>\n",
              "    <tr>\n",
              "      <th>temp_max</th>\n",
              "      <td>0.0</td>\n",
              "    </tr>\n",
              "    <tr>\n",
              "      <th>temp_rata-rata</th>\n",
              "      <td>0.0</td>\n",
              "    </tr>\n",
              "    <tr>\n",
              "      <th>lembab_rata-rata</th>\n",
              "      <td>0.0</td>\n",
              "    </tr>\n",
              "    <tr>\n",
              "      <th>ch</th>\n",
              "      <td>0.0</td>\n",
              "    </tr>\n",
              "    <tr>\n",
              "      <th>cahaya_jam</th>\n",
              "      <td>0.0</td>\n",
              "    </tr>\n",
              "  </tbody>\n",
              "</table>\n",
              "</div>\n",
              "    <div class=\"colab-df-buttons\">\n",
              "\n",
              "  <div class=\"colab-df-container\">\n",
              "    <button class=\"colab-df-convert\" onclick=\"convertToInteractive('df-132f42fa-56e9-45da-984e-4f029bed9e7c')\"\n",
              "            title=\"Convert this dataframe to an interactive table.\"\n",
              "            style=\"display:none;\">\n",
              "\n",
              "  <svg xmlns=\"http://www.w3.org/2000/svg\" height=\"24px\" viewBox=\"0 -960 960 960\">\n",
              "    <path d=\"M120-120v-720h720v720H120Zm60-500h600v-160H180v160Zm220 220h160v-160H400v160Zm0 220h160v-160H400v160ZM180-400h160v-160H180v160Zm440 0h160v-160H620v160ZM180-180h160v-160H180v160Zm440 0h160v-160H620v160Z\"/>\n",
              "  </svg>\n",
              "    </button>\n",
              "\n",
              "  <style>\n",
              "    .colab-df-container {\n",
              "      display:flex;\n",
              "      gap: 12px;\n",
              "    }\n",
              "\n",
              "    .colab-df-convert {\n",
              "      background-color: #E8F0FE;\n",
              "      border: none;\n",
              "      border-radius: 50%;\n",
              "      cursor: pointer;\n",
              "      display: none;\n",
              "      fill: #1967D2;\n",
              "      height: 32px;\n",
              "      padding: 0 0 0 0;\n",
              "      width: 32px;\n",
              "    }\n",
              "\n",
              "    .colab-df-convert:hover {\n",
              "      background-color: #E2EBFA;\n",
              "      box-shadow: 0px 1px 2px rgba(60, 64, 67, 0.3), 0px 1px 3px 1px rgba(60, 64, 67, 0.15);\n",
              "      fill: #174EA6;\n",
              "    }\n",
              "\n",
              "    .colab-df-buttons div {\n",
              "      margin-bottom: 4px;\n",
              "    }\n",
              "\n",
              "    [theme=dark] .colab-df-convert {\n",
              "      background-color: #3B4455;\n",
              "      fill: #D2E3FC;\n",
              "    }\n",
              "\n",
              "    [theme=dark] .colab-df-convert:hover {\n",
              "      background-color: #434B5C;\n",
              "      box-shadow: 0px 1px 3px 1px rgba(0, 0, 0, 0.15);\n",
              "      filter: drop-shadow(0px 1px 2px rgba(0, 0, 0, 0.3));\n",
              "      fill: #FFFFFF;\n",
              "    }\n",
              "  </style>\n",
              "\n",
              "    <script>\n",
              "      const buttonEl =\n",
              "        document.querySelector('#df-132f42fa-56e9-45da-984e-4f029bed9e7c button.colab-df-convert');\n",
              "      buttonEl.style.display =\n",
              "        google.colab.kernel.accessAllowed ? 'block' : 'none';\n",
              "\n",
              "      async function convertToInteractive(key) {\n",
              "        const element = document.querySelector('#df-132f42fa-56e9-45da-984e-4f029bed9e7c');\n",
              "        const dataTable =\n",
              "          await google.colab.kernel.invokeFunction('convertToInteractive',\n",
              "                                                    [key], {});\n",
              "        if (!dataTable) return;\n",
              "\n",
              "        const docLinkHtml = 'Like what you see? Visit the ' +\n",
              "          '<a target=\"_blank\" href=https://colab.research.google.com/notebooks/data_table.ipynb>data table notebook</a>'\n",
              "          + ' to learn more about interactive tables.';\n",
              "        element.innerHTML = '';\n",
              "        dataTable['output_type'] = 'display_data';\n",
              "        await google.colab.output.renderOutput(dataTable, element);\n",
              "        const docLink = document.createElement('div');\n",
              "        docLink.innerHTML = docLinkHtml;\n",
              "        element.appendChild(docLink);\n",
              "      }\n",
              "    </script>\n",
              "  </div>\n",
              "\n",
              "\n",
              "<div id=\"df-ecda075a-c5cd-4fc0-86b9-0ce24a29ea19\">\n",
              "  <button class=\"colab-df-quickchart\" onclick=\"quickchart('df-ecda075a-c5cd-4fc0-86b9-0ce24a29ea19')\"\n",
              "            title=\"Suggest charts\"\n",
              "            style=\"display:none;\">\n",
              "\n",
              "<svg xmlns=\"http://www.w3.org/2000/svg\" height=\"24px\"viewBox=\"0 0 24 24\"\n",
              "     width=\"24px\">\n",
              "    <g>\n",
              "        <path d=\"M19 3H5c-1.1 0-2 .9-2 2v14c0 1.1.9 2 2 2h14c1.1 0 2-.9 2-2V5c0-1.1-.9-2-2-2zM9 17H7v-7h2v7zm4 0h-2V7h2v10zm4 0h-2v-4h2v4z\"/>\n",
              "    </g>\n",
              "</svg>\n",
              "  </button>\n",
              "\n",
              "<style>\n",
              "  .colab-df-quickchart {\n",
              "      --bg-color: #E8F0FE;\n",
              "      --fill-color: #1967D2;\n",
              "      --hover-bg-color: #E2EBFA;\n",
              "      --hover-fill-color: #174EA6;\n",
              "      --disabled-fill-color: #AAA;\n",
              "      --disabled-bg-color: #DDD;\n",
              "  }\n",
              "\n",
              "  [theme=dark] .colab-df-quickchart {\n",
              "      --bg-color: #3B4455;\n",
              "      --fill-color: #D2E3FC;\n",
              "      --hover-bg-color: #434B5C;\n",
              "      --hover-fill-color: #FFFFFF;\n",
              "      --disabled-bg-color: #3B4455;\n",
              "      --disabled-fill-color: #666;\n",
              "  }\n",
              "\n",
              "  .colab-df-quickchart {\n",
              "    background-color: var(--bg-color);\n",
              "    border: none;\n",
              "    border-radius: 50%;\n",
              "    cursor: pointer;\n",
              "    display: none;\n",
              "    fill: var(--fill-color);\n",
              "    height: 32px;\n",
              "    padding: 0;\n",
              "    width: 32px;\n",
              "  }\n",
              "\n",
              "  .colab-df-quickchart:hover {\n",
              "    background-color: var(--hover-bg-color);\n",
              "    box-shadow: 0 1px 2px rgba(60, 64, 67, 0.3), 0 1px 3px 1px rgba(60, 64, 67, 0.15);\n",
              "    fill: var(--button-hover-fill-color);\n",
              "  }\n",
              "\n",
              "  .colab-df-quickchart-complete:disabled,\n",
              "  .colab-df-quickchart-complete:disabled:hover {\n",
              "    background-color: var(--disabled-bg-color);\n",
              "    fill: var(--disabled-fill-color);\n",
              "    box-shadow: none;\n",
              "  }\n",
              "\n",
              "  .colab-df-spinner {\n",
              "    border: 2px solid var(--fill-color);\n",
              "    border-color: transparent;\n",
              "    border-bottom-color: var(--fill-color);\n",
              "    animation:\n",
              "      spin 1s steps(1) infinite;\n",
              "  }\n",
              "\n",
              "  @keyframes spin {\n",
              "    0% {\n",
              "      border-color: transparent;\n",
              "      border-bottom-color: var(--fill-color);\n",
              "      border-left-color: var(--fill-color);\n",
              "    }\n",
              "    20% {\n",
              "      border-color: transparent;\n",
              "      border-left-color: var(--fill-color);\n",
              "      border-top-color: var(--fill-color);\n",
              "    }\n",
              "    30% {\n",
              "      border-color: transparent;\n",
              "      border-left-color: var(--fill-color);\n",
              "      border-top-color: var(--fill-color);\n",
              "      border-right-color: var(--fill-color);\n",
              "    }\n",
              "    40% {\n",
              "      border-color: transparent;\n",
              "      border-right-color: var(--fill-color);\n",
              "      border-top-color: var(--fill-color);\n",
              "    }\n",
              "    60% {\n",
              "      border-color: transparent;\n",
              "      border-right-color: var(--fill-color);\n",
              "    }\n",
              "    80% {\n",
              "      border-color: transparent;\n",
              "      border-right-color: var(--fill-color);\n",
              "      border-bottom-color: var(--fill-color);\n",
              "    }\n",
              "    90% {\n",
              "      border-color: transparent;\n",
              "      border-bottom-color: var(--fill-color);\n",
              "    }\n",
              "  }\n",
              "</style>\n",
              "\n",
              "  <script>\n",
              "    async function quickchart(key) {\n",
              "      const quickchartButtonEl =\n",
              "        document.querySelector('#' + key + ' button');\n",
              "      quickchartButtonEl.disabled = true;  // To prevent multiple clicks.\n",
              "      quickchartButtonEl.classList.add('colab-df-spinner');\n",
              "      try {\n",
              "        const charts = await google.colab.kernel.invokeFunction(\n",
              "            'suggestCharts', [key], {});\n",
              "      } catch (error) {\n",
              "        console.error('Error during call to suggestCharts:', error);\n",
              "      }\n",
              "      quickchartButtonEl.classList.remove('colab-df-spinner');\n",
              "      quickchartButtonEl.classList.add('colab-df-quickchart-complete');\n",
              "    }\n",
              "    (() => {\n",
              "      let quickchartButtonEl =\n",
              "        document.querySelector('#df-ecda075a-c5cd-4fc0-86b9-0ce24a29ea19 button');\n",
              "      quickchartButtonEl.style.display =\n",
              "        google.colab.kernel.accessAllowed ? 'block' : 'none';\n",
              "    })();\n",
              "  </script>\n",
              "</div>\n",
              "    </div>\n",
              "  </div>\n"
            ],
            "application/vnd.google.colaboratory.intrinsic+json": {
              "type": "dataframe",
              "summary": "{\n  \"name\": \"pd\",\n  \"rows\": 9,\n  \"fields\": [\n    {\n      \"column\": \"Null Ratio %\",\n      \"properties\": {\n        \"dtype\": \"number\",\n        \"std\": 0.0,\n        \"min\": 0.0,\n        \"max\": 0.0,\n        \"num_unique_values\": 1,\n        \"samples\": [\n          0.0\n        ],\n        \"semantic_type\": \"\",\n        \"description\": \"\"\n      }\n    }\n  ]\n}"
            }
          },
          "metadata": {},
          "execution_count": 99
        }
      ]
    },
    {
      "cell_type": "markdown",
      "source": [
        "Dapat kita lihat setelah saya menangani missing value tidak ditemukan nilai yang hilang, sehingga data tetap lengkap dan konsisten"
      ],
      "metadata": {
        "id": "XZ2G16jvPTHZ"
      }
    },
    {
      "cell_type": "markdown",
      "source": [
        "###**Penanganan Duplicated Values**"
      ],
      "metadata": {
        "id": "uW_oBJ57N0mo"
      }
    },
    {
      "cell_type": "markdown",
      "source": [
        "#####**Pengecekkan Nilai Duplikat**"
      ],
      "metadata": {
        "id": "IkV3OgZ0N4Bi"
      }
    },
    {
      "cell_type": "code",
      "source": [
        "df[df.duplicated()]"
      ],
      "metadata": {
        "colab": {
          "base_uri": "https://localhost:8080/",
          "height": 53
        },
        "id": "CX0iXn0EN6lo",
        "outputId": "b6736895-6754-404b-f1cb-04c163f7eabb"
      },
      "execution_count": 100,
      "outputs": [
        {
          "output_type": "execute_result",
          "data": {
            "text/plain": [
              "Empty DataFrame\n",
              "Columns: [Thn, bln, tgl, temp_min, temp_max, temp_rata-rata, lembab_rata-rata, ch, cahaya_jam]\n",
              "Index: []"
            ],
            "text/html": [
              "\n",
              "  <div id=\"df-e9772dd8-fe57-40c0-a87c-f82d0f73dabe\" class=\"colab-df-container\">\n",
              "    <div>\n",
              "<style scoped>\n",
              "    .dataframe tbody tr th:only-of-type {\n",
              "        vertical-align: middle;\n",
              "    }\n",
              "\n",
              "    .dataframe tbody tr th {\n",
              "        vertical-align: top;\n",
              "    }\n",
              "\n",
              "    .dataframe thead th {\n",
              "        text-align: right;\n",
              "    }\n",
              "</style>\n",
              "<table border=\"1\" class=\"dataframe\">\n",
              "  <thead>\n",
              "    <tr style=\"text-align: right;\">\n",
              "      <th></th>\n",
              "      <th>Thn</th>\n",
              "      <th>bln</th>\n",
              "      <th>tgl</th>\n",
              "      <th>temp_min</th>\n",
              "      <th>temp_max</th>\n",
              "      <th>temp_rata-rata</th>\n",
              "      <th>lembab_rata-rata</th>\n",
              "      <th>ch</th>\n",
              "      <th>cahaya_jam</th>\n",
              "    </tr>\n",
              "  </thead>\n",
              "  <tbody>\n",
              "  </tbody>\n",
              "</table>\n",
              "</div>\n",
              "    <div class=\"colab-df-buttons\">\n",
              "\n",
              "  <div class=\"colab-df-container\">\n",
              "    <button class=\"colab-df-convert\" onclick=\"convertToInteractive('df-e9772dd8-fe57-40c0-a87c-f82d0f73dabe')\"\n",
              "            title=\"Convert this dataframe to an interactive table.\"\n",
              "            style=\"display:none;\">\n",
              "\n",
              "  <svg xmlns=\"http://www.w3.org/2000/svg\" height=\"24px\" viewBox=\"0 -960 960 960\">\n",
              "    <path d=\"M120-120v-720h720v720H120Zm60-500h600v-160H180v160Zm220 220h160v-160H400v160Zm0 220h160v-160H400v160ZM180-400h160v-160H180v160Zm440 0h160v-160H620v160ZM180-180h160v-160H180v160Zm440 0h160v-160H620v160Z\"/>\n",
              "  </svg>\n",
              "    </button>\n",
              "\n",
              "  <style>\n",
              "    .colab-df-container {\n",
              "      display:flex;\n",
              "      gap: 12px;\n",
              "    }\n",
              "\n",
              "    .colab-df-convert {\n",
              "      background-color: #E8F0FE;\n",
              "      border: none;\n",
              "      border-radius: 50%;\n",
              "      cursor: pointer;\n",
              "      display: none;\n",
              "      fill: #1967D2;\n",
              "      height: 32px;\n",
              "      padding: 0 0 0 0;\n",
              "      width: 32px;\n",
              "    }\n",
              "\n",
              "    .colab-df-convert:hover {\n",
              "      background-color: #E2EBFA;\n",
              "      box-shadow: 0px 1px 2px rgba(60, 64, 67, 0.3), 0px 1px 3px 1px rgba(60, 64, 67, 0.15);\n",
              "      fill: #174EA6;\n",
              "    }\n",
              "\n",
              "    .colab-df-buttons div {\n",
              "      margin-bottom: 4px;\n",
              "    }\n",
              "\n",
              "    [theme=dark] .colab-df-convert {\n",
              "      background-color: #3B4455;\n",
              "      fill: #D2E3FC;\n",
              "    }\n",
              "\n",
              "    [theme=dark] .colab-df-convert:hover {\n",
              "      background-color: #434B5C;\n",
              "      box-shadow: 0px 1px 3px 1px rgba(0, 0, 0, 0.15);\n",
              "      filter: drop-shadow(0px 1px 2px rgba(0, 0, 0, 0.3));\n",
              "      fill: #FFFFFF;\n",
              "    }\n",
              "  </style>\n",
              "\n",
              "    <script>\n",
              "      const buttonEl =\n",
              "        document.querySelector('#df-e9772dd8-fe57-40c0-a87c-f82d0f73dabe button.colab-df-convert');\n",
              "      buttonEl.style.display =\n",
              "        google.colab.kernel.accessAllowed ? 'block' : 'none';\n",
              "\n",
              "      async function convertToInteractive(key) {\n",
              "        const element = document.querySelector('#df-e9772dd8-fe57-40c0-a87c-f82d0f73dabe');\n",
              "        const dataTable =\n",
              "          await google.colab.kernel.invokeFunction('convertToInteractive',\n",
              "                                                    [key], {});\n",
              "        if (!dataTable) return;\n",
              "\n",
              "        const docLinkHtml = 'Like what you see? Visit the ' +\n",
              "          '<a target=\"_blank\" href=https://colab.research.google.com/notebooks/data_table.ipynb>data table notebook</a>'\n",
              "          + ' to learn more about interactive tables.';\n",
              "        element.innerHTML = '';\n",
              "        dataTable['output_type'] = 'display_data';\n",
              "        await google.colab.output.renderOutput(dataTable, element);\n",
              "        const docLink = document.createElement('div');\n",
              "        docLink.innerHTML = docLinkHtml;\n",
              "        element.appendChild(docLink);\n",
              "      }\n",
              "    </script>\n",
              "  </div>\n",
              "\n",
              "    </div>\n",
              "  </div>\n"
            ],
            "application/vnd.google.colaboratory.intrinsic+json": {
              "type": "dataframe",
              "summary": "{\n  \"name\": \"df[df\",\n  \"rows\": 0,\n  \"fields\": [\n    {\n      \"column\": \"Thn\",\n      \"properties\": {\n        \"dtype\": \"number\",\n        \"std\": null,\n        \"min\": null,\n        \"max\": null,\n        \"num_unique_values\": 0,\n        \"samples\": [],\n        \"semantic_type\": \"\",\n        \"description\": \"\"\n      }\n    },\n    {\n      \"column\": \"bln\",\n      \"properties\": {\n        \"dtype\": \"number\",\n        \"std\": null,\n        \"min\": null,\n        \"max\": null,\n        \"num_unique_values\": 0,\n        \"samples\": [],\n        \"semantic_type\": \"\",\n        \"description\": \"\"\n      }\n    },\n    {\n      \"column\": \"tgl\",\n      \"properties\": {\n        \"dtype\": \"number\",\n        \"std\": null,\n        \"min\": null,\n        \"max\": null,\n        \"num_unique_values\": 0,\n        \"samples\": [],\n        \"semantic_type\": \"\",\n        \"description\": \"\"\n      }\n    },\n    {\n      \"column\": \"temp_min\",\n      \"properties\": {\n        \"dtype\": \"number\",\n        \"std\": null,\n        \"min\": null,\n        \"max\": null,\n        \"num_unique_values\": 0,\n        \"samples\": [],\n        \"semantic_type\": \"\",\n        \"description\": \"\"\n      }\n    },\n    {\n      \"column\": \"temp_max\",\n      \"properties\": {\n        \"dtype\": \"number\",\n        \"std\": null,\n        \"min\": null,\n        \"max\": null,\n        \"num_unique_values\": 0,\n        \"samples\": [],\n        \"semantic_type\": \"\",\n        \"description\": \"\"\n      }\n    },\n    {\n      \"column\": \"temp_rata-rata\",\n      \"properties\": {\n        \"dtype\": \"number\",\n        \"std\": null,\n        \"min\": null,\n        \"max\": null,\n        \"num_unique_values\": 0,\n        \"samples\": [],\n        \"semantic_type\": \"\",\n        \"description\": \"\"\n      }\n    },\n    {\n      \"column\": \"lembab_rata-rata\",\n      \"properties\": {\n        \"dtype\": \"number\",\n        \"std\": null,\n        \"min\": null,\n        \"max\": null,\n        \"num_unique_values\": 0,\n        \"samples\": [],\n        \"semantic_type\": \"\",\n        \"description\": \"\"\n      }\n    },\n    {\n      \"column\": \"ch\",\n      \"properties\": {\n        \"dtype\": \"number\",\n        \"std\": null,\n        \"min\": null,\n        \"max\": null,\n        \"num_unique_values\": 0,\n        \"samples\": [],\n        \"semantic_type\": \"\",\n        \"description\": \"\"\n      }\n    },\n    {\n      \"column\": \"cahaya_jam\",\n      \"properties\": {\n        \"dtype\": \"number\",\n        \"std\": null,\n        \"min\": null,\n        \"max\": null,\n        \"num_unique_values\": 0,\n        \"samples\": [],\n        \"semantic_type\": \"\",\n        \"description\": \"\"\n      }\n    }\n  ]\n}"
            }
          },
          "metadata": {},
          "execution_count": 100
        }
      ]
    },
    {
      "cell_type": "markdown",
      "source": [
        "Berdasarkan output tersebut dapat dilihat pada masing-masing kolom kosong yang artinya tidak terdapat nilai yang duplikat"
      ],
      "metadata": {
        "id": "U0BYzS5sQDMS"
      }
    },
    {
      "cell_type": "markdown",
      "source": [
        "#####**Hapus Nilai Duplikat**"
      ],
      "metadata": {
        "id": "OtxD_-u4N-fd"
      }
    },
    {
      "cell_type": "code",
      "source": [
        "df = df.drop_duplicates()"
      ],
      "metadata": {
        "id": "yJZfio9dN-4C"
      },
      "execution_count": 101,
      "outputs": []
    },
    {
      "cell_type": "markdown",
      "source": [
        "Kode tersebut untuk menghapus nilai duplikat tapi dikarenakan data saya tidak terdapat nilai duplikat maka tidak terjadi apa apa :)"
      ],
      "metadata": {
        "id": "B0xEhEghQd4_"
      }
    },
    {
      "cell_type": "markdown",
      "source": [
        "###**Penanganan Outliers**"
      ],
      "metadata": {
        "id": "RbvT9gA3OKDv"
      }
    },
    {
      "cell_type": "markdown",
      "source": [
        "#####**Pengecekkan Outliers**"
      ],
      "metadata": {
        "id": "FuV5Y4iWOPVX"
      }
    },
    {
      "cell_type": "code",
      "source": [
        "results = []\n",
        "\n",
        "cols = df.select_dtypes(include=['float64', 'int64'])\n",
        "\n",
        "for col in cols:\n",
        "  q1 = df[col].quantile(0.25)\n",
        "  q3 = df[col].quantile(0.75)\n",
        "  iqr = q3 - q1\n",
        "  lower_bound = q1 - 1.5*iqr\n",
        "  upper_bound = q3 + 1.5*iqr\n",
        "  outliers = df[(df[col] < lower_bound) | (df[col] > upper_bound)]\n",
        "  percent_outliers = (len(outliers)/len(df))*100\n",
        "  results.append({'Kolom': col, 'Persentase Outliers': percent_outliers})\n",
        "\n",
        "# Dataframe dari list hasil\n",
        "results_df = pd.DataFrame(results)\n",
        "results_df.set_index('Kolom', inplace=True)\n",
        "results_df = results_df.rename_axis(None, axis=0).rename_axis('Kolom', axis=1)\n",
        "\n",
        "# Tampilkan dataframe\n",
        "display(results_df)"
      ],
      "metadata": {
        "colab": {
          "base_uri": "https://localhost:8080/",
          "height": 331
        },
        "id": "jPrXABcSORF4",
        "outputId": "d2ec2c22-5ce2-4704-823d-5bf0eab754dc"
      },
      "execution_count": 102,
      "outputs": [
        {
          "output_type": "display_data",
          "data": {
            "text/plain": [
              "Kolom             Persentase Outliers\n",
              "Thn                          0.000000\n",
              "bln                          0.000000\n",
              "tgl                          0.000000\n",
              "temp_min                     8.484006\n",
              "temp_max                     3.894298\n",
              "temp_rata-rata               5.285118\n",
              "lembab_rata-rata             2.920723\n",
              "ch                          15.716273\n",
              "cahaya_jam                   0.556328"
            ],
            "text/html": [
              "\n",
              "  <div id=\"df-05405f1c-513a-4a7b-a17c-663ef45268a8\" class=\"colab-df-container\">\n",
              "    <div>\n",
              "<style scoped>\n",
              "    .dataframe tbody tr th:only-of-type {\n",
              "        vertical-align: middle;\n",
              "    }\n",
              "\n",
              "    .dataframe tbody tr th {\n",
              "        vertical-align: top;\n",
              "    }\n",
              "\n",
              "    .dataframe thead th {\n",
              "        text-align: right;\n",
              "    }\n",
              "</style>\n",
              "<table border=\"1\" class=\"dataframe\">\n",
              "  <thead>\n",
              "    <tr style=\"text-align: right;\">\n",
              "      <th>Kolom</th>\n",
              "      <th>Persentase Outliers</th>\n",
              "    </tr>\n",
              "  </thead>\n",
              "  <tbody>\n",
              "    <tr>\n",
              "      <th>Thn</th>\n",
              "      <td>0.000000</td>\n",
              "    </tr>\n",
              "    <tr>\n",
              "      <th>bln</th>\n",
              "      <td>0.000000</td>\n",
              "    </tr>\n",
              "    <tr>\n",
              "      <th>tgl</th>\n",
              "      <td>0.000000</td>\n",
              "    </tr>\n",
              "    <tr>\n",
              "      <th>temp_min</th>\n",
              "      <td>8.484006</td>\n",
              "    </tr>\n",
              "    <tr>\n",
              "      <th>temp_max</th>\n",
              "      <td>3.894298</td>\n",
              "    </tr>\n",
              "    <tr>\n",
              "      <th>temp_rata-rata</th>\n",
              "      <td>5.285118</td>\n",
              "    </tr>\n",
              "    <tr>\n",
              "      <th>lembab_rata-rata</th>\n",
              "      <td>2.920723</td>\n",
              "    </tr>\n",
              "    <tr>\n",
              "      <th>ch</th>\n",
              "      <td>15.716273</td>\n",
              "    </tr>\n",
              "    <tr>\n",
              "      <th>cahaya_jam</th>\n",
              "      <td>0.556328</td>\n",
              "    </tr>\n",
              "  </tbody>\n",
              "</table>\n",
              "</div>\n",
              "    <div class=\"colab-df-buttons\">\n",
              "\n",
              "  <div class=\"colab-df-container\">\n",
              "    <button class=\"colab-df-convert\" onclick=\"convertToInteractive('df-05405f1c-513a-4a7b-a17c-663ef45268a8')\"\n",
              "            title=\"Convert this dataframe to an interactive table.\"\n",
              "            style=\"display:none;\">\n",
              "\n",
              "  <svg xmlns=\"http://www.w3.org/2000/svg\" height=\"24px\" viewBox=\"0 -960 960 960\">\n",
              "    <path d=\"M120-120v-720h720v720H120Zm60-500h600v-160H180v160Zm220 220h160v-160H400v160Zm0 220h160v-160H400v160ZM180-400h160v-160H180v160Zm440 0h160v-160H620v160ZM180-180h160v-160H180v160Zm440 0h160v-160H620v160Z\"/>\n",
              "  </svg>\n",
              "    </button>\n",
              "\n",
              "  <style>\n",
              "    .colab-df-container {\n",
              "      display:flex;\n",
              "      gap: 12px;\n",
              "    }\n",
              "\n",
              "    .colab-df-convert {\n",
              "      background-color: #E8F0FE;\n",
              "      border: none;\n",
              "      border-radius: 50%;\n",
              "      cursor: pointer;\n",
              "      display: none;\n",
              "      fill: #1967D2;\n",
              "      height: 32px;\n",
              "      padding: 0 0 0 0;\n",
              "      width: 32px;\n",
              "    }\n",
              "\n",
              "    .colab-df-convert:hover {\n",
              "      background-color: #E2EBFA;\n",
              "      box-shadow: 0px 1px 2px rgba(60, 64, 67, 0.3), 0px 1px 3px 1px rgba(60, 64, 67, 0.15);\n",
              "      fill: #174EA6;\n",
              "    }\n",
              "\n",
              "    .colab-df-buttons div {\n",
              "      margin-bottom: 4px;\n",
              "    }\n",
              "\n",
              "    [theme=dark] .colab-df-convert {\n",
              "      background-color: #3B4455;\n",
              "      fill: #D2E3FC;\n",
              "    }\n",
              "\n",
              "    [theme=dark] .colab-df-convert:hover {\n",
              "      background-color: #434B5C;\n",
              "      box-shadow: 0px 1px 3px 1px rgba(0, 0, 0, 0.15);\n",
              "      filter: drop-shadow(0px 1px 2px rgba(0, 0, 0, 0.3));\n",
              "      fill: #FFFFFF;\n",
              "    }\n",
              "  </style>\n",
              "\n",
              "    <script>\n",
              "      const buttonEl =\n",
              "        document.querySelector('#df-05405f1c-513a-4a7b-a17c-663ef45268a8 button.colab-df-convert');\n",
              "      buttonEl.style.display =\n",
              "        google.colab.kernel.accessAllowed ? 'block' : 'none';\n",
              "\n",
              "      async function convertToInteractive(key) {\n",
              "        const element = document.querySelector('#df-05405f1c-513a-4a7b-a17c-663ef45268a8');\n",
              "        const dataTable =\n",
              "          await google.colab.kernel.invokeFunction('convertToInteractive',\n",
              "                                                    [key], {});\n",
              "        if (!dataTable) return;\n",
              "\n",
              "        const docLinkHtml = 'Like what you see? Visit the ' +\n",
              "          '<a target=\"_blank\" href=https://colab.research.google.com/notebooks/data_table.ipynb>data table notebook</a>'\n",
              "          + ' to learn more about interactive tables.';\n",
              "        element.innerHTML = '';\n",
              "        dataTable['output_type'] = 'display_data';\n",
              "        await google.colab.output.renderOutput(dataTable, element);\n",
              "        const docLink = document.createElement('div');\n",
              "        docLink.innerHTML = docLinkHtml;\n",
              "        element.appendChild(docLink);\n",
              "      }\n",
              "    </script>\n",
              "  </div>\n",
              "\n",
              "\n",
              "<div id=\"df-c85d324d-e2e7-46a5-a481-ffbc1f159711\">\n",
              "  <button class=\"colab-df-quickchart\" onclick=\"quickchart('df-c85d324d-e2e7-46a5-a481-ffbc1f159711')\"\n",
              "            title=\"Suggest charts\"\n",
              "            style=\"display:none;\">\n",
              "\n",
              "<svg xmlns=\"http://www.w3.org/2000/svg\" height=\"24px\"viewBox=\"0 0 24 24\"\n",
              "     width=\"24px\">\n",
              "    <g>\n",
              "        <path d=\"M19 3H5c-1.1 0-2 .9-2 2v14c0 1.1.9 2 2 2h14c1.1 0 2-.9 2-2V5c0-1.1-.9-2-2-2zM9 17H7v-7h2v7zm4 0h-2V7h2v10zm4 0h-2v-4h2v4z\"/>\n",
              "    </g>\n",
              "</svg>\n",
              "  </button>\n",
              "\n",
              "<style>\n",
              "  .colab-df-quickchart {\n",
              "      --bg-color: #E8F0FE;\n",
              "      --fill-color: #1967D2;\n",
              "      --hover-bg-color: #E2EBFA;\n",
              "      --hover-fill-color: #174EA6;\n",
              "      --disabled-fill-color: #AAA;\n",
              "      --disabled-bg-color: #DDD;\n",
              "  }\n",
              "\n",
              "  [theme=dark] .colab-df-quickchart {\n",
              "      --bg-color: #3B4455;\n",
              "      --fill-color: #D2E3FC;\n",
              "      --hover-bg-color: #434B5C;\n",
              "      --hover-fill-color: #FFFFFF;\n",
              "      --disabled-bg-color: #3B4455;\n",
              "      --disabled-fill-color: #666;\n",
              "  }\n",
              "\n",
              "  .colab-df-quickchart {\n",
              "    background-color: var(--bg-color);\n",
              "    border: none;\n",
              "    border-radius: 50%;\n",
              "    cursor: pointer;\n",
              "    display: none;\n",
              "    fill: var(--fill-color);\n",
              "    height: 32px;\n",
              "    padding: 0;\n",
              "    width: 32px;\n",
              "  }\n",
              "\n",
              "  .colab-df-quickchart:hover {\n",
              "    background-color: var(--hover-bg-color);\n",
              "    box-shadow: 0 1px 2px rgba(60, 64, 67, 0.3), 0 1px 3px 1px rgba(60, 64, 67, 0.15);\n",
              "    fill: var(--button-hover-fill-color);\n",
              "  }\n",
              "\n",
              "  .colab-df-quickchart-complete:disabled,\n",
              "  .colab-df-quickchart-complete:disabled:hover {\n",
              "    background-color: var(--disabled-bg-color);\n",
              "    fill: var(--disabled-fill-color);\n",
              "    box-shadow: none;\n",
              "  }\n",
              "\n",
              "  .colab-df-spinner {\n",
              "    border: 2px solid var(--fill-color);\n",
              "    border-color: transparent;\n",
              "    border-bottom-color: var(--fill-color);\n",
              "    animation:\n",
              "      spin 1s steps(1) infinite;\n",
              "  }\n",
              "\n",
              "  @keyframes spin {\n",
              "    0% {\n",
              "      border-color: transparent;\n",
              "      border-bottom-color: var(--fill-color);\n",
              "      border-left-color: var(--fill-color);\n",
              "    }\n",
              "    20% {\n",
              "      border-color: transparent;\n",
              "      border-left-color: var(--fill-color);\n",
              "      border-top-color: var(--fill-color);\n",
              "    }\n",
              "    30% {\n",
              "      border-color: transparent;\n",
              "      border-left-color: var(--fill-color);\n",
              "      border-top-color: var(--fill-color);\n",
              "      border-right-color: var(--fill-color);\n",
              "    }\n",
              "    40% {\n",
              "      border-color: transparent;\n",
              "      border-right-color: var(--fill-color);\n",
              "      border-top-color: var(--fill-color);\n",
              "    }\n",
              "    60% {\n",
              "      border-color: transparent;\n",
              "      border-right-color: var(--fill-color);\n",
              "    }\n",
              "    80% {\n",
              "      border-color: transparent;\n",
              "      border-right-color: var(--fill-color);\n",
              "      border-bottom-color: var(--fill-color);\n",
              "    }\n",
              "    90% {\n",
              "      border-color: transparent;\n",
              "      border-bottom-color: var(--fill-color);\n",
              "    }\n",
              "  }\n",
              "</style>\n",
              "\n",
              "  <script>\n",
              "    async function quickchart(key) {\n",
              "      const quickchartButtonEl =\n",
              "        document.querySelector('#' + key + ' button');\n",
              "      quickchartButtonEl.disabled = true;  // To prevent multiple clicks.\n",
              "      quickchartButtonEl.classList.add('colab-df-spinner');\n",
              "      try {\n",
              "        const charts = await google.colab.kernel.invokeFunction(\n",
              "            'suggestCharts', [key], {});\n",
              "      } catch (error) {\n",
              "        console.error('Error during call to suggestCharts:', error);\n",
              "      }\n",
              "      quickchartButtonEl.classList.remove('colab-df-spinner');\n",
              "      quickchartButtonEl.classList.add('colab-df-quickchart-complete');\n",
              "    }\n",
              "    (() => {\n",
              "      let quickchartButtonEl =\n",
              "        document.querySelector('#df-c85d324d-e2e7-46a5-a481-ffbc1f159711 button');\n",
              "      quickchartButtonEl.style.display =\n",
              "        google.colab.kernel.accessAllowed ? 'block' : 'none';\n",
              "    })();\n",
              "  </script>\n",
              "</div>\n",
              "    </div>\n",
              "  </div>\n"
            ],
            "application/vnd.google.colaboratory.intrinsic+json": {
              "type": "dataframe",
              "variable_name": "results_df",
              "summary": "{\n  \"name\": \"results_df\",\n  \"rows\": 9,\n  \"fields\": [\n    {\n      \"column\": \"Persentase Outliers\",\n      \"properties\": {\n        \"dtype\": \"number\",\n        \"std\": 5.243832186306731,\n        \"min\": 0.0,\n        \"max\": 15.716272600834492,\n        \"num_unique_values\": 7,\n        \"samples\": [\n          0.0,\n          8.484005563282336,\n          15.716272600834492\n        ],\n        \"semantic_type\": \"\",\n        \"description\": \"\"\n      }\n    }\n  ]\n}"
            }
          },
          "metadata": {}
        }
      ]
    },
    {
      "cell_type": "markdown",
      "source": [
        "Berasarkan output tersebut dapat dilihat\n",
        "- Thn, bln, tgl: Tidak ada nilai outlier dalam kolom-kolom ini, karena persentase outlier adalah 0%. Ini menunjukkan bahwa data pada kolom tersebut berada dalam kisaran yang diharapkan dan tidak memiliki nilai ekstrim yang signifikan.\n",
        "\n",
        "- temp_min: Sekitar 8.48% dari data dalam kolom ini dianggap sebagai outlier. Ini berarti sebagian kecil dari data dalam kolom temp_min memiliki nilai yang jauh dari kisaran nilai tipikal. Kemungkinan terdapat beberapa nilai ekstrim yang signifikan dalam data suhu minimal ini.\n",
        "\n",
        "- temp_max: Sekitar 3.89% dari data dalam kolom ini dianggap sebagai outlier. Meskipun persentasenya lebih rendah dari temp_min, tetapi masih menunjukkan adanya beberapa nilai ekstrim dalam data suhu maksimal ini.\n",
        "\n",
        "- temp_rata-rata: Sekitar 5.29% dari data dalam kolom ini dianggap sebagai outlier. Ini menunjukkan bahwa ada sejumlah kecil data dalam kolom temp_rata-rata yang jauh dari nilai-nilai tipikal atau ekspektasi.\n",
        "\n",
        "- lembab_rata-rata: Sekitar 2.92% dari data dalam kolom ini dianggap sebagai outlier. Persentase ini menunjukkan bahwa data kelembaban rata-rata cenderung lebih terkonsentrasi di sekitar nilai-nilai tipikal, meskipun ada beberapa nilai yang masih dianggap sebagai outlier.\n",
        "\n",
        "- ch: Sekitar 15.72% dari data dalam kolom ini dianggap sebagai outlier. Persentase outlier yang tinggi dalam kolom ini menunjukkan bahwa terdapat variasi yang signifikan dalam data cahaya, dengan sejumlah besar nilai yang jauh dari kisaran nilai tipikal.\n",
        "\n",
        "- cahaya_jam: Sekitar 0.56% dari data dalam kolom ini dianggap sebagai outlier. Persentase outlier yang relatif rendah menunjukkan bahwa data cahaya pada jam tertentu cenderung stabil, dengan sebagian kecil nilai yang mungkin di luar kisaran nilai tipikal."
      ],
      "metadata": {
        "id": "gr23RnKfR-XD"
      }
    },
    {
      "cell_type": "code",
      "source": [
        "boxplot = df.drop('Thn', axis=1).boxplot(grid=False, rot=45,  figsize=(8,6))"
      ],
      "metadata": {
        "id": "E14kO5qGdZn9",
        "colab": {
          "base_uri": "https://localhost:8080/",
          "height": 604
        },
        "outputId": "d0d325c5-170a-4e6d-c355-e2c33cf7c6d6"
      },
      "execution_count": 103,
      "outputs": [
        {
          "output_type": "display_data",
          "data": {
            "text/plain": [
              "<Figure size 800x600 with 1 Axes>"
            ],
            "image/png": "[encoded data removed]"
          },
          "metadata": {}
        }
      ]
    },
    {
      "cell_type": "markdown",
      "source": [
        "Berdasarkan grafik diatas, terlihat pola persebaran data atau nilai outliers. dapat dilihat pada kolom 'ch' menunjukkan adanya outliers"
      ],
      "metadata": {
        "id": "Xx3YxTCASucn"
      }
    },
    {
      "cell_type": "markdown",
      "source": [
        "#####**Imputasi Outliers**"
      ],
      "metadata": {
        "id": "2Icv6xJA2yV9"
      }
    },
    {
      "cell_type": "markdown",
      "source": [
        "Melakukan flooring (mengisi dengan nilai q1) dan capping (mengisi dengan nilai q3) pada kolom \"ch\" untuk menangani outliers"
      ],
      "metadata": {
        "id": "IariywI9TTNI"
      }
    },
    {
      "cell_type": "code",
      "source": [
        "Q1 = df['ch'].quantile(0.25)\n",
        "Q3 = df['ch'].quantile(0.75)\n",
        "IQR = Q3 - Q1\n",
        "whisker_width = 1.5\n",
        "lower_whisker = Q1 -(whisker_width * IQR)\n",
        "upper_whisker = Q3 + (whisker_width * IQR)\n",
        "df['ch']=np.where(df['ch']>upper_whisker,upper_whisker,np.where(df['ch']<lower_whisker,lower_whisker,df['ch']))"
      ],
      "metadata": {
        "id": "dKGBNc4W20Lr"
      },
      "execution_count": 104,
      "outputs": []
    },
    {
      "cell_type": "markdown",
      "source": [
        "#####**Pengecekkan Ulang**"
      ],
      "metadata": {
        "id": "I7yQ4DT5HJlw"
      }
    },
    {
      "cell_type": "code",
      "source": [
        "results = []\n",
        "\n",
        "cols = df.select_dtypes(include=['float64', 'int64'])\n",
        "\n",
        "for col in cols:\n",
        "  q1 = df[col].quantile(0.25)\n",
        "  q3 = df[col].quantile(0.75)\n",
        "  iqr = q3 - q1\n",
        "  lower_bound = q1 - 1.5*iqr\n",
        "  upper_bound = q3 + 1.5*iqr\n",
        "  outliers = df[(df[col] < lower_bound) | (df[col] > upper_bound)]\n",
        "  percent_outliers = (len(outliers)/len(df))*100\n",
        "  results.append({'Kolom': col, 'Persentase Outliers': percent_outliers})\n",
        "\n",
        "results_df = pd.DataFrame(results)\n",
        "results_df.set_index('Kolom', inplace=True)\n",
        "results_df = results_df.rename_axis(None, axis=0).rename_axis('Kolom', axis=1)\n",
        "\n",
        "display(results_df)"
      ],
      "metadata": {
        "colab": {
          "base_uri": "https://localhost:8080/",
          "height": 331
        },
        "id": "PJ38CxcK8eRN",
        "outputId": "121d046b-ff9d-4a85-bdaf-4815796846f1"
      },
      "execution_count": 105,
      "outputs": [
        {
          "output_type": "display_data",
          "data": {
            "text/plain": [
              "Kolom             Persentase Outliers\n",
              "Thn                          0.000000\n",
              "bln                          0.000000\n",
              "tgl                          0.000000\n",
              "temp_min                     8.484006\n",
              "temp_max                     3.894298\n",
              "temp_rata-rata               5.285118\n",
              "lembab_rata-rata             2.920723\n",
              "ch                           0.000000\n",
              "cahaya_jam                   0.556328"
            ],
            "text/html": [
              "\n",
              "  <div id=\"df-65165754-b56d-4f4c-9b47-7ab8b50ba6d7\" class=\"colab-df-container\">\n",
              "    <div>\n",
              "<style scoped>\n",
              "    .dataframe tbody tr th:only-of-type {\n",
              "        vertical-align: middle;\n",
              "    }\n",
              "\n",
              "    .dataframe tbody tr th {\n",
              "        vertical-align: top;\n",
              "    }\n",
              "\n",
              "    .dataframe thead th {\n",
              "        text-align: right;\n",
              "    }\n",
              "</style>\n",
              "<table border=\"1\" class=\"dataframe\">\n",
              "  <thead>\n",
              "    <tr style=\"text-align: right;\">\n",
              "      <th>Kolom</th>\n",
              "      <th>Persentase Outliers</th>\n",
              "    </tr>\n",
              "  </thead>\n",
              "  <tbody>\n",
              "    <tr>\n",
              "      <th>Thn</th>\n",
              "      <td>0.000000</td>\n",
              "    </tr>\n",
              "    <tr>\n",
              "      <th>bln</th>\n",
              "      <td>0.000000</td>\n",
              "    </tr>\n",
              "    <tr>\n",
              "      <th>tgl</th>\n",
              "      <td>0.000000</td>\n",
              "    </tr>\n",
              "    <tr>\n",
              "      <th>temp_min</th>\n",
              "      <td>8.484006</td>\n",
              "    </tr>\n",
              "    <tr>\n",
              "      <th>temp_max</th>\n",
              "      <td>3.894298</td>\n",
              "    </tr>\n",
              "    <tr>\n",
              "      <th>temp_rata-rata</th>\n",
              "      <td>5.285118</td>\n",
              "    </tr>\n",
              "    <tr>\n",
              "      <th>lembab_rata-rata</th>\n",
              "      <td>2.920723</td>\n",
              "    </tr>\n",
              "    <tr>\n",
              "      <th>ch</th>\n",
              "      <td>0.000000</td>\n",
              "    </tr>\n",
              "    <tr>\n",
              "      <th>cahaya_jam</th>\n",
              "      <td>0.556328</td>\n",
              "    </tr>\n",
              "  </tbody>\n",
              "</table>\n",
              "</div>\n",
              "    <div class=\"colab-df-buttons\">\n",
              "\n",
              "  <div class=\"colab-df-container\">\n",
              "    <button class=\"colab-df-convert\" onclick=\"convertToInteractive('df-65165754-b56d-4f4c-9b47-7ab8b50ba6d7')\"\n",
              "            title=\"Convert this dataframe to an interactive table.\"\n",
              "            style=\"display:none;\">\n",
              "\n",
              "  <svg xmlns=\"http://www.w3.org/2000/svg\" height=\"24px\" viewBox=\"0 -960 960 960\">\n",
              "    <path d=\"M120-120v-720h720v720H120Zm60-500h600v-160H180v160Zm220 220h160v-160H400v160Zm0 220h160v-160H400v160ZM180-400h160v-160H180v160Zm440 0h160v-160H620v160ZM180-180h160v-160H180v160Zm440 0h160v-160H620v160Z\"/>\n",
              "  </svg>\n",
              "    </button>\n",
              "\n",
              "  <style>\n",
              "    .colab-df-container {\n",
              "      display:flex;\n",
              "      gap: 12px;\n",
              "    }\n",
              "\n",
              "    .colab-df-convert {\n",
              "      background-color: #E8F0FE;\n",
              "      border: none;\n",
              "      border-radius: 50%;\n",
              "      cursor: pointer;\n",
              "      display: none;\n",
              "      fill: #1967D2;\n",
              "      height: 32px;\n",
              "      padding: 0 0 0 0;\n",
              "      width: 32px;\n",
              "    }\n",
              "\n",
              "    .colab-df-convert:hover {\n",
              "      background-color: #E2EBFA;\n",
              "      box-shadow: 0px 1px 2px rgba(60, 64, 67, 0.3), 0px 1px 3px 1px rgba(60, 64, 67, 0.15);\n",
              "      fill: #174EA6;\n",
              "    }\n",
              "\n",
              "    .colab-df-buttons div {\n",
              "      margin-bottom: 4px;\n",
              "    }\n",
              "\n",
              "    [theme=dark] .colab-df-convert {\n",
              "      background-color: #3B4455;\n",
              "      fill: #D2E3FC;\n",
              "    }\n",
              "\n",
              "    [theme=dark] .colab-df-convert:hover {\n",
              "      background-color: #434B5C;\n",
              "      box-shadow: 0px 1px 3px 1px rgba(0, 0, 0, 0.15);\n",
              "      filter: drop-shadow(0px 1px 2px rgba(0, 0, 0, 0.3));\n",
              "      fill: #FFFFFF;\n",
              "    }\n",
              "  </style>\n",
              "\n",
              "    <script>\n",
              "      const buttonEl =\n",
              "        document.querySelector('#df-65165754-b56d-4f4c-9b47-7ab8b50ba6d7 button.colab-df-convert');\n",
              "      buttonEl.style.display =\n",
              "        google.colab.kernel.accessAllowed ? 'block' : 'none';\n",
              "\n",
              "      async function convertToInteractive(key) {\n",
              "        const element = document.querySelector('#df-65165754-b56d-4f4c-9b47-7ab8b50ba6d7');\n",
              "        const dataTable =\n",
              "          await google.colab.kernel.invokeFunction('convertToInteractive',\n",
              "                                                    [key], {});\n",
              "        if (!dataTable) return;\n",
              "\n",
              "        const docLinkHtml = 'Like what you see? Visit the ' +\n",
              "          '<a target=\"_blank\" href=https://colab.research.google.com/notebooks/data_table.ipynb>data table notebook</a>'\n",
              "          + ' to learn more about interactive tables.';\n",
              "        element.innerHTML = '';\n",
              "        dataTable['output_type'] = 'display_data';\n",
              "        await google.colab.output.renderOutput(dataTable, element);\n",
              "        const docLink = document.createElement('div');\n",
              "        docLink.innerHTML = docLinkHtml;\n",
              "        element.appendChild(docLink);\n",
              "      }\n",
              "    </script>\n",
              "  </div>\n",
              "\n",
              "\n",
              "<div id=\"df-41978843-45b8-4025-98b2-4d8583ccf5e2\">\n",
              "  <button class=\"colab-df-quickchart\" onclick=\"quickchart('df-41978843-45b8-4025-98b2-4d8583ccf5e2')\"\n",
              "            title=\"Suggest charts\"\n",
              "            style=\"display:none;\">\n",
              "\n",
              "<svg xmlns=\"http://www.w3.org/2000/svg\" height=\"24px\"viewBox=\"0 0 24 24\"\n",
              "     width=\"24px\">\n",
              "    <g>\n",
              "        <path d=\"M19 3H5c-1.1 0-2 .9-2 2v14c0 1.1.9 2 2 2h14c1.1 0 2-.9 2-2V5c0-1.1-.9-2-2-2zM9 17H7v-7h2v7zm4 0h-2V7h2v10zm4 0h-2v-4h2v4z\"/>\n",
              "    </g>\n",
              "</svg>\n",
              "  </button>\n",
              "\n",
              "<style>\n",
              "  .colab-df-quickchart {\n",
              "      --bg-color: #E8F0FE;\n",
              "      --fill-color: #1967D2;\n",
              "      --hover-bg-color: #E2EBFA;\n",
              "      --hover-fill-color: #174EA6;\n",
              "      --disabled-fill-color: #AAA;\n",
              "      --disabled-bg-color: #DDD;\n",
              "  }\n",
              "\n",
              "  [theme=dark] .colab-df-quickchart {\n",
              "      --bg-color: #3B4455;\n",
              "      --fill-color: #D2E3FC;\n",
              "      --hover-bg-color: #434B5C;\n",
              "      --hover-fill-color: #FFFFFF;\n",
              "      --disabled-bg-color: #3B4455;\n",
              "      --disabled-fill-color: #666;\n",
              "  }\n",
              "\n",
              "  .colab-df-quickchart {\n",
              "    background-color: var(--bg-color);\n",
              "    border: none;\n",
              "    border-radius: 50%;\n",
              "    cursor: pointer;\n",
              "    display: none;\n",
              "    fill: var(--fill-color);\n",
              "    height: 32px;\n",
              "    padding: 0;\n",
              "    width: 32px;\n",
              "  }\n",
              "\n",
              "  .colab-df-quickchart:hover {\n",
              "    background-color: var(--hover-bg-color);\n",
              "    box-shadow: 0 1px 2px rgba(60, 64, 67, 0.3), 0 1px 3px 1px rgba(60, 64, 67, 0.15);\n",
              "    fill: var(--button-hover-fill-color);\n",
              "  }\n",
              "\n",
              "  .colab-df-quickchart-complete:disabled,\n",
              "  .colab-df-quickchart-complete:disabled:hover {\n",
              "    background-color: var(--disabled-bg-color);\n",
              "    fill: var(--disabled-fill-color);\n",
              "    box-shadow: none;\n",
              "  }\n",
              "\n",
              "  .colab-df-spinner {\n",
              "    border: 2px solid var(--fill-color);\n",
              "    border-color: transparent;\n",
              "    border-bottom-color: var(--fill-color);\n",
              "    animation:\n",
              "      spin 1s steps(1) infinite;\n",
              "  }\n",
              "\n",
              "  @keyframes spin {\n",
              "    0% {\n",
              "      border-color: transparent;\n",
              "      border-bottom-color: var(--fill-color);\n",
              "      border-left-color: var(--fill-color);\n",
              "    }\n",
              "    20% {\n",
              "      border-color: transparent;\n",
              "      border-left-color: var(--fill-color);\n",
              "      border-top-color: var(--fill-color);\n",
              "    }\n",
              "    30% {\n",
              "      border-color: transparent;\n",
              "      border-left-color: var(--fill-color);\n",
              "      border-top-color: var(--fill-color);\n",
              "      border-right-color: var(--fill-color);\n",
              "    }\n",
              "    40% {\n",
              "      border-color: transparent;\n",
              "      border-right-color: var(--fill-color);\n",
              "      border-top-color: var(--fill-color);\n",
              "    }\n",
              "    60% {\n",
              "      border-color: transparent;\n",
              "      border-right-color: var(--fill-color);\n",
              "    }\n",
              "    80% {\n",
              "      border-color: transparent;\n",
              "      border-right-color: var(--fill-color);\n",
              "      border-bottom-color: var(--fill-color);\n",
              "    }\n",
              "    90% {\n",
              "      border-color: transparent;\n",
              "      border-bottom-color: var(--fill-color);\n",
              "    }\n",
              "  }\n",
              "</style>\n",
              "\n",
              "  <script>\n",
              "    async function quickchart(key) {\n",
              "      const quickchartButtonEl =\n",
              "        document.querySelector('#' + key + ' button');\n",
              "      quickchartButtonEl.disabled = true;  // To prevent multiple clicks.\n",
              "      quickchartButtonEl.classList.add('colab-df-spinner');\n",
              "      try {\n",
              "        const charts = await google.colab.kernel.invokeFunction(\n",
              "            'suggestCharts', [key], {});\n",
              "      } catch (error) {\n",
              "        console.error('Error during call to suggestCharts:', error);\n",
              "      }\n",
              "      quickchartButtonEl.classList.remove('colab-df-spinner');\n",
              "      quickchartButtonEl.classList.add('colab-df-quickchart-complete');\n",
              "    }\n",
              "    (() => {\n",
              "      let quickchartButtonEl =\n",
              "        document.querySelector('#df-41978843-45b8-4025-98b2-4d8583ccf5e2 button');\n",
              "      quickchartButtonEl.style.display =\n",
              "        google.colab.kernel.accessAllowed ? 'block' : 'none';\n",
              "    })();\n",
              "  </script>\n",
              "</div>\n",
              "    </div>\n",
              "  </div>\n"
            ],
            "application/vnd.google.colaboratory.intrinsic+json": {
              "type": "dataframe",
              "variable_name": "results_df",
              "summary": "{\n  \"name\": \"results_df\",\n  \"rows\": 9,\n  \"fields\": [\n    {\n      \"column\": \"Persentase Outliers\",\n      \"properties\": {\n        \"dtype\": \"number\",\n        \"std\": 3.0466943505087887,\n        \"min\": 0.0,\n        \"max\": 8.484005563282336,\n        \"num_unique_values\": 6,\n        \"samples\": [\n          0.0,\n          8.484005563282336,\n          0.5563282336578581\n        ],\n        \"semantic_type\": \"\",\n        \"description\": \"\"\n      }\n    }\n  ]\n}"
            }
          },
          "metadata": {}
        }
      ]
    },
    {
      "cell_type": "markdown",
      "source": [
        "Output di atas menunjukkan bahwa nilai-nilai outliers dalam kolom 'ch' telah diubah menjadi 0. Setelah dilakukan pengecekan ulang, tidak ditemukan lagi nilai outliers dalam kolom 'ch'. Kemungkinan hal ini disebabkan oleh proses flooring dan capping yang sebelumnya dilakukan untuk menangani outliers dalam kolom tersebut. Dengan demikian, dapat disimpulkan bahwa kolom 'ch' tidak lagi memiliki nilai outliers setelah proses tersebut diterapkan."
      ],
      "metadata": {
        "id": "DKSPaVdGTzpo"
      }
    },
    {
      "cell_type": "code",
      "source": [
        "boxplot = df.drop('Thn', axis=1).boxplot(grid=False, rot=45,  figsize=(8,6))"
      ],
      "metadata": {
        "colab": {
          "base_uri": "https://localhost:8080/",
          "height": 604
        },
        "id": "K8Do47Ac9OBC",
        "outputId": "a6cf87a1-4d15-49c3-ed3d-5067329e743f"
      },
      "execution_count": 106,
      "outputs": [
        {
          "output_type": "display_data",
          "data": {
            "text/plain": [
              "<Figure size 800x600 with 1 Axes>"
            ],
            "image/png": "[encoded data removed]"
          },
          "metadata": {}
        }
      ]
    },
    {
      "cell_type": "markdown",
      "source": [
        "Output di atas mengilustrasikan penyebaran data atau nilai outliers dalam dataset, dengan fokus khusus pada kolom 'ch'. Terlihat bahwa setelah dilakukan penanganan terhadap outliers, penyebaran data telah teratasi dengan baik, terutama pada kolom 'ch'. Grafik menunjukkan bahwa tidak ada lagi nilai yang signifikan jauh dari nilai-nilai lainnya, menunjukkan bahwa tidak ada outliers yang mencolok dalam kolom 'ch'. Ini menunjukkan bahwa proses penanganan outliers, seperti flooring dan capping, berhasil mengatasi nilai-nilai ekstrim dalam kolom 'absences', sehingga distribusi data menjadi lebih merata dan dapat diinterpretasikan dengan lebih baik."
      ],
      "metadata": {
        "id": "r6sThLAkUFI4"
      }
    },
    {
      "cell_type": "markdown",
      "source": [
        "#**Construct Data**"
      ],
      "metadata": {
        "id": "-B2DYzk-9d6y"
      }
    },
    {
      "cell_type": "markdown",
      "source": [
        "###**Melakukan Rekayasa Fitur (Feature Engineering)**"
      ],
      "metadata": {
        "id": "tAhM3q819qVv"
      }
    },
    {
      "cell_type": "code",
      "source": [
        "# Mengelompokkan nilai curah hujan menjadi kategori rendah, sedang, dan tinggi\n",
        "bins = [0, 20, 50, float('inf')]\n",
        "labels = ['rendah', 'sedang', 'tinggi']\n",
        "df['curah_hujan_kategori'] = pd.cut(df['ch'], bins=bins, labels=labels)"
      ],
      "metadata": {
        "id": "W-GsacE69r6Q"
      },
      "execution_count": 107,
      "outputs": []
    },
    {
      "cell_type": "markdown",
      "source": [
        "Jadi saya menambahkan fitur kategori curah hujan yang mengambil dari kolom 'ch', jadi kategori ini mengelompokkan curah hujan menjadi rendah, sedang, dan tinggi. yang diharapkan dapat memudahkan kita dalam memahami data."
      ],
      "metadata": {
        "id": "g-PKVM3KU3mT"
      }
    },
    {
      "cell_type": "code",
      "source": [
        "df.head()"
      ],
      "metadata": {
        "colab": {
          "base_uri": "https://localhost:8080/",
          "height": 206
        },
        "id": "tZusVUL6_buD",
        "outputId": "3f797cd6-3582-484f-bed8-00e51753cbe9"
      },
      "execution_count": 108,
      "outputs": [
        {
          "output_type": "execute_result",
          "data": {
            "text/plain": [
              "    Thn  bln  tgl  temp_min  temp_max  temp_rata-rata  lembab_rata-rata    ch  \\\n",
              "0  2022    1    1      24.0      32.2            27.0              84.0   1.0   \n",
              "1  2022    1    2      24.0      31.2            25.8              91.0   8.1   \n",
              "2  2022    1    3      22.4      32.0            26.3              86.0  29.3   \n",
              "3  2022    1    4      24.0      29.8            26.7              87.0   0.5   \n",
              "4  2022    1    5      23.4      32.2            26.9              85.0  22.3   \n",
              "\n",
              "   cahaya_jam curah_hujan_kategori  \n",
              "0         3.5               rendah  \n",
              "1         2.5               rendah  \n",
              "2         2.0               sedang  \n",
              "3         5.5               rendah  \n",
              "4         0.0               sedang  "
            ],
            "text/html": [
              "\n",
              "  <div id=\"df-b510779e-00ce-4000-86d1-493a94c3aa78\" class=\"colab-df-container\">\n",
              "    <div>\n",
              "<style scoped>\n",
              "    .dataframe tbody tr th:only-of-type {\n",
              "        vertical-align: middle;\n",
              "    }\n",
              "\n",
              "    .dataframe tbody tr th {\n",
              "        vertical-align: top;\n",
              "    }\n",
              "\n",
              "    .dataframe thead th {\n",
              "        text-align: right;\n",
              "    }\n",
              "</style>\n",
              "<table border=\"1\" class=\"dataframe\">\n",
              "  <thead>\n",
              "    <tr style=\"text-align: right;\">\n",
              "      <th></th>\n",
              "      <th>Thn</th>\n",
              "      <th>bln</th>\n",
              "      <th>tgl</th>\n",
              "      <th>temp_min</th>\n",
              "      <th>temp_max</th>\n",
              "      <th>temp_rata-rata</th>\n",
              "      <th>lembab_rata-rata</th>\n",
              "      <th>ch</th>\n",
              "      <th>cahaya_jam</th>\n",
              "      <th>curah_hujan_kategori</th>\n",
              "    </tr>\n",
              "  </thead>\n",
              "  <tbody>\n",
              "    <tr>\n",
              "      <th>0</th>\n",
              "      <td>2022</td>\n",
              "      <td>1</td>\n",
              "      <td>1</td>\n",
              "      <td>24.0</td>\n",
              "      <td>32.2</td>\n",
              "      <td>27.0</td>\n",
              "      <td>84.0</td>\n",
              "      <td>1.0</td>\n",
              "      <td>3.5</td>\n",
              "      <td>rendah</td>\n",
              "    </tr>\n",
              "    <tr>\n",
              "      <th>1</th>\n",
              "      <td>2022</td>\n",
              "      <td>1</td>\n",
              "      <td>2</td>\n",
              "      <td>24.0</td>\n",
              "      <td>31.2</td>\n",
              "      <td>25.8</td>\n",
              "      <td>91.0</td>\n",
              "      <td>8.1</td>\n",
              "      <td>2.5</td>\n",
              "      <td>rendah</td>\n",
              "    </tr>\n",
              "    <tr>\n",
              "      <th>2</th>\n",
              "      <td>2022</td>\n",
              "      <td>1</td>\n",
              "      <td>3</td>\n",
              "      <td>22.4</td>\n",
              "      <td>32.0</td>\n",
              "      <td>26.3</td>\n",
              "      <td>86.0</td>\n",
              "      <td>29.3</td>\n",
              "      <td>2.0</td>\n",
              "      <td>sedang</td>\n",
              "    </tr>\n",
              "    <tr>\n",
              "      <th>3</th>\n",
              "      <td>2022</td>\n",
              "      <td>1</td>\n",
              "      <td>4</td>\n",
              "      <td>24.0</td>\n",
              "      <td>29.8</td>\n",
              "      <td>26.7</td>\n",
              "      <td>87.0</td>\n",
              "      <td>0.5</td>\n",
              "      <td>5.5</td>\n",
              "      <td>rendah</td>\n",
              "    </tr>\n",
              "    <tr>\n",
              "      <th>4</th>\n",
              "      <td>2022</td>\n",
              "      <td>1</td>\n",
              "      <td>5</td>\n",
              "      <td>23.4</td>\n",
              "      <td>32.2</td>\n",
              "      <td>26.9</td>\n",
              "      <td>85.0</td>\n",
              "      <td>22.3</td>\n",
              "      <td>0.0</td>\n",
              "      <td>sedang</td>\n",
              "    </tr>\n",
              "  </tbody>\n",
              "</table>\n",
              "</div>\n",
              "    <div class=\"colab-df-buttons\">\n",
              "\n",
              "  <div class=\"colab-df-container\">\n",
              "    <button class=\"colab-df-convert\" onclick=\"convertToInteractive('df-b510779e-00ce-4000-86d1-493a94c3aa78')\"\n",
              "            title=\"Convert this dataframe to an interactive table.\"\n",
              "            style=\"display:none;\">\n",
              "\n",
              "  <svg xmlns=\"http://www.w3.org/2000/svg\" height=\"24px\" viewBox=\"0 -960 960 960\">\n",
              "    <path d=\"M120-120v-720h720v720H120Zm60-500h600v-160H180v160Zm220 220h160v-160H400v160Zm0 220h160v-160H400v160ZM180-400h160v-160H180v160Zm440 0h160v-160H620v160ZM180-180h160v-160H180v160Zm440 0h160v-160H620v160Z\"/>\n",
              "  </svg>\n",
              "    </button>\n",
              "\n",
              "  <style>\n",
              "    .colab-df-container {\n",
              "      display:flex;\n",
              "      gap: 12px;\n",
              "    }\n",
              "\n",
              "    .colab-df-convert {\n",
              "      background-color: #E8F0FE;\n",
              "      border: none;\n",
              "      border-radius: 50%;\n",
              "      cursor: pointer;\n",
              "      display: none;\n",
              "      fill: #1967D2;\n",
              "      height: 32px;\n",
              "      padding: 0 0 0 0;\n",
              "      width: 32px;\n",
              "    }\n",
              "\n",
              "    .colab-df-convert:hover {\n",
              "      background-color: #E2EBFA;\n",
              "      box-shadow: 0px 1px 2px rgba(60, 64, 67, 0.3), 0px 1px 3px 1px rgba(60, 64, 67, 0.15);\n",
              "      fill: #174EA6;\n",
              "    }\n",
              "\n",
              "    .colab-df-buttons div {\n",
              "      margin-bottom: 4px;\n",
              "    }\n",
              "\n",
              "    [theme=dark] .colab-df-convert {\n",
              "      background-color: #3B4455;\n",
              "      fill: #D2E3FC;\n",
              "    }\n",
              "\n",
              "    [theme=dark] .colab-df-convert:hover {\n",
              "      background-color: #434B5C;\n",
              "      box-shadow: 0px 1px 3px 1px rgba(0, 0, 0, 0.15);\n",
              "      filter: drop-shadow(0px 1px 2px rgba(0, 0, 0, 0.3));\n",
              "      fill: #FFFFFF;\n",
              "    }\n",
              "  </style>\n",
              "\n",
              "    <script>\n",
              "      const buttonEl =\n",
              "        document.querySelector('#df-b510779e-00ce-4000-86d1-493a94c3aa78 button.colab-df-convert');\n",
              "      buttonEl.style.display =\n",
              "        google.colab.kernel.accessAllowed ? 'block' : 'none';\n",
              "\n",
              "      async function convertToInteractive(key) {\n",
              "        const element = document.querySelector('#df-b510779e-00ce-4000-86d1-493a94c3aa78');\n",
              "        const dataTable =\n",
              "          await google.colab.kernel.invokeFunction('convertToInteractive',\n",
              "                                                    [key], {});\n",
              "        if (!dataTable) return;\n",
              "\n",
              "        const docLinkHtml = 'Like what you see? Visit the ' +\n",
              "          '<a target=\"_blank\" href=https://colab.research.google.com/notebooks/data_table.ipynb>data table notebook</a>'\n",
              "          + ' to learn more about interactive tables.';\n",
              "        element.innerHTML = '';\n",
              "        dataTable['output_type'] = 'display_data';\n",
              "        await google.colab.output.renderOutput(dataTable, element);\n",
              "        const docLink = document.createElement('div');\n",
              "        docLink.innerHTML = docLinkHtml;\n",
              "        element.appendChild(docLink);\n",
              "      }\n",
              "    </script>\n",
              "  </div>\n",
              "\n",
              "\n",
              "<div id=\"df-58e2f75f-a260-4d97-8802-24f916bbfebe\">\n",
              "  <button class=\"colab-df-quickchart\" onclick=\"quickchart('df-58e2f75f-a260-4d97-8802-24f916bbfebe')\"\n",
              "            title=\"Suggest charts\"\n",
              "            style=\"display:none;\">\n",
              "\n",
              "<svg xmlns=\"http://www.w3.org/2000/svg\" height=\"24px\"viewBox=\"0 0 24 24\"\n",
              "     width=\"24px\">\n",
              "    <g>\n",
              "        <path d=\"M19 3H5c-1.1 0-2 .9-2 2v14c0 1.1.9 2 2 2h14c1.1 0 2-.9 2-2V5c0-1.1-.9-2-2-2zM9 17H7v-7h2v7zm4 0h-2V7h2v10zm4 0h-2v-4h2v4z\"/>\n",
              "    </g>\n",
              "</svg>\n",
              "  </button>\n",
              "\n",
              "<style>\n",
              "  .colab-df-quickchart {\n",
              "      --bg-color: #E8F0FE;\n",
              "      --fill-color: #1967D2;\n",
              "      --hover-bg-color: #E2EBFA;\n",
              "      --hover-fill-color: #174EA6;\n",
              "      --disabled-fill-color: #AAA;\n",
              "      --disabled-bg-color: #DDD;\n",
              "  }\n",
              "\n",
              "  [theme=dark] .colab-df-quickchart {\n",
              "      --bg-color: #3B4455;\n",
              "      --fill-color: #D2E3FC;\n",
              "      --hover-bg-color: #434B5C;\n",
              "      --hover-fill-color: #FFFFFF;\n",
              "      --disabled-bg-color: #3B4455;\n",
              "      --disabled-fill-color: #666;\n",
              "  }\n",
              "\n",
              "  .colab-df-quickchart {\n",
              "    background-color: var(--bg-color);\n",
              "    border: none;\n",
              "    border-radius: 50%;\n",
              "    cursor: pointer;\n",
              "    display: none;\n",
              "    fill: var(--fill-color);\n",
              "    height: 32px;\n",
              "    padding: 0;\n",
              "    width: 32px;\n",
              "  }\n",
              "\n",
              "  .colab-df-quickchart:hover {\n",
              "    background-color: var(--hover-bg-color);\n",
              "    box-shadow: 0 1px 2px rgba(60, 64, 67, 0.3), 0 1px 3px 1px rgba(60, 64, 67, 0.15);\n",
              "    fill: var(--button-hover-fill-color);\n",
              "  }\n",
              "\n",
              "  .colab-df-quickchart-complete:disabled,\n",
              "  .colab-df-quickchart-complete:disabled:hover {\n",
              "    background-color: var(--disabled-bg-color);\n",
              "    fill: var(--disabled-fill-color);\n",
              "    box-shadow: none;\n",
              "  }\n",
              "\n",
              "  .colab-df-spinner {\n",
              "    border: 2px solid var(--fill-color);\n",
              "    border-color: transparent;\n",
              "    border-bottom-color: var(--fill-color);\n",
              "    animation:\n",
              "      spin 1s steps(1) infinite;\n",
              "  }\n",
              "\n",
              "  @keyframes spin {\n",
              "    0% {\n",
              "      border-color: transparent;\n",
              "      border-bottom-color: var(--fill-color);\n",
              "      border-left-color: var(--fill-color);\n",
              "    }\n",
              "    20% {\n",
              "      border-color: transparent;\n",
              "      border-left-color: var(--fill-color);\n",
              "      border-top-color: var(--fill-color);\n",
              "    }\n",
              "    30% {\n",
              "      border-color: transparent;\n",
              "      border-left-color: var(--fill-color);\n",
              "      border-top-color: var(--fill-color);\n",
              "      border-right-color: var(--fill-color);\n",
              "    }\n",
              "    40% {\n",
              "      border-color: transparent;\n",
              "      border-right-color: var(--fill-color);\n",
              "      border-top-color: var(--fill-color);\n",
              "    }\n",
              "    60% {\n",
              "      border-color: transparent;\n",
              "      border-right-color: var(--fill-color);\n",
              "    }\n",
              "    80% {\n",
              "      border-color: transparent;\n",
              "      border-right-color: var(--fill-color);\n",
              "      border-bottom-color: var(--fill-color);\n",
              "    }\n",
              "    90% {\n",
              "      border-color: transparent;\n",
              "      border-bottom-color: var(--fill-color);\n",
              "    }\n",
              "  }\n",
              "</style>\n",
              "\n",
              "  <script>\n",
              "    async function quickchart(key) {\n",
              "      const quickchartButtonEl =\n",
              "        document.querySelector('#' + key + ' button');\n",
              "      quickchartButtonEl.disabled = true;  // To prevent multiple clicks.\n",
              "      quickchartButtonEl.classList.add('colab-df-spinner');\n",
              "      try {\n",
              "        const charts = await google.colab.kernel.invokeFunction(\n",
              "            'suggestCharts', [key], {});\n",
              "      } catch (error) {\n",
              "        console.error('Error during call to suggestCharts:', error);\n",
              "      }\n",
              "      quickchartButtonEl.classList.remove('colab-df-spinner');\n",
              "      quickchartButtonEl.classList.add('colab-df-quickchart-complete');\n",
              "    }\n",
              "    (() => {\n",
              "      let quickchartButtonEl =\n",
              "        document.querySelector('#df-58e2f75f-a260-4d97-8802-24f916bbfebe button');\n",
              "      quickchartButtonEl.style.display =\n",
              "        google.colab.kernel.accessAllowed ? 'block' : 'none';\n",
              "    })();\n",
              "  </script>\n",
              "</div>\n",
              "    </div>\n",
              "  </div>\n"
            ],
            "application/vnd.google.colaboratory.intrinsic+json": {
              "type": "dataframe",
              "variable_name": "df",
              "summary": "{\n  \"name\": \"df\",\n  \"rows\": 719,\n  \"fields\": [\n    {\n      \"column\": \"Thn\",\n      \"properties\": {\n        \"dtype\": \"number\",\n        \"std\": 0,\n        \"min\": 2022,\n        \"max\": 2023,\n        \"num_unique_values\": 2,\n        \"samples\": [\n          2023,\n          2022\n        ],\n        \"semantic_type\": \"\",\n        \"description\": \"\"\n      }\n    },\n    {\n      \"column\": \"bln\",\n      \"properties\": {\n        \"dtype\": \"number\",\n        \"std\": 3,\n        \"min\": 1,\n        \"max\": 12,\n        \"num_unique_values\": 12,\n        \"samples\": [\n          11,\n          10\n        ],\n        \"semantic_type\": \"\",\n        \"description\": \"\"\n      }\n    },\n    {\n      \"column\": \"tgl\",\n      \"properties\": {\n        \"dtype\": \"number\",\n        \"std\": 8,\n        \"min\": 1,\n        \"max\": 31,\n        \"num_unique_values\": 31,\n        \"samples\": [\n          28,\n          16\n        ],\n        \"semantic_type\": \"\",\n        \"description\": \"\"\n      }\n    },\n    {\n      \"column\": \"temp_min\",\n      \"properties\": {\n        \"dtype\": \"number\",\n        \"std\": 372.0251521232859,\n        \"min\": 18.2,\n        \"max\": 9999.0,\n        \"num_unique_values\": 63,\n        \"samples\": [\n          19.4,\n          20.4\n        ],\n        \"semantic_type\": \"\",\n        \"description\": \"\"\n      }\n    },\n    {\n      \"column\": \"temp_max\",\n      \"properties\": {\n        \"dtype\": \"number\",\n        \"std\": 371.7013761755813,\n        \"min\": 20.0,\n        \"max\": 9999.0,\n        \"num_unique_values\": 88,\n        \"samples\": [\n          35.3,\n          32.2\n        ],\n        \"semantic_type\": \"\",\n        \"description\": \"\"\n      }\n    },\n    {\n      \"column\": \"temp_rata-rata\",\n      \"properties\": {\n        \"dtype\": \"number\",\n        \"std\": 1.4560323649355076,\n        \"min\": 23.7,\n        \"max\": 32.8,\n        \"num_unique_values\": 82,\n        \"samples\": [\n          28.6,\n          27.0\n        ],\n        \"semantic_type\": \"\",\n        \"description\": \"\"\n      }\n    },\n    {\n      \"column\": \"lembab_rata-rata\",\n      \"properties\": {\n        \"dtype\": \"number\",\n        \"std\": 6.622469206844636,\n        \"min\": 57.0,\n        \"max\": 99.0,\n        \"num_unique_values\": 42,\n        \"samples\": [\n          76.0,\n          69.0\n        ],\n        \"semantic_type\": \"\",\n        \"description\": \"\"\n      }\n    },\n    {\n      \"column\": \"ch\",\n      \"properties\": {\n        \"dtype\": \"number\",\n        \"std\": 11.958008142027005,\n        \"min\": 0.0,\n        \"max\": 32.0,\n        \"num_unique_values\": 148,\n        \"samples\": [\n          11.2,\n          3.8\n        ],\n        \"semantic_type\": \"\",\n        \"description\": \"\"\n      }\n    },\n    {\n      \"column\": \"cahaya_jam\",\n      \"properties\": {\n        \"dtype\": \"number\",\n        \"std\": 526.7599800847087,\n        \"min\": 0.0,\n        \"max\": 9999.0,\n        \"num_unique_values\": 100,\n        \"samples\": [\n          9.1,\n          5.3\n        ],\n        \"semantic_type\": \"\",\n        \"description\": \"\"\n      }\n    },\n    {\n      \"column\": \"curah_hujan_kategori\",\n      \"properties\": {\n        \"dtype\": \"category\",\n        \"num_unique_values\": 2,\n        \"samples\": [\n          \"sedang\",\n          \"rendah\"\n        ],\n        \"semantic_type\": \"\",\n        \"description\": \"\"\n      }\n    }\n  ]\n}"
            }
          },
          "metadata": {},
          "execution_count": 108
        }
      ]
    },
    {
      "cell_type": "markdown",
      "source": [
        "Pada output di atas, terdapat penambahan kolom baru yang disebut \"curah_hujan_kategori\" di mana setiap entri kategori curah hujan telah ditentukan berdasarkan kolom ch."
      ],
      "metadata": {
        "id": "TGFIc88kV2n8"
      }
    },
    {
      "cell_type": "markdown",
      "source": [
        "#**Data Reduction**"
      ],
      "metadata": {
        "id": "PaQbPPkDB_4V"
      }
    },
    {
      "cell_type": "markdown",
      "source": [
        "###**Mengurangi Fitur - Fitur Yang Kurang Relevan**"
      ],
      "metadata": {
        "id": "m6ExqpEVCCO0"
      }
    },
    {
      "cell_type": "code",
      "source": [
        "df_corr = df.corr(numeric_only=True)\n",
        "px.imshow(df_corr)"
      ],
      "metadata": {
        "colab": {
          "base_uri": "https://localhost:8080/",
          "height": 542
        },
        "id": "H4Wh9v3fCF6A",
        "outputId": "79295db0-53be-41f0-d31c-223def71b6ef"
      },
      "execution_count": 109,
      "outputs": [
        {
          "output_type": "display_data",
          "data": {
            "text/html": [
              "<html>\n",
              "<head><meta charset=\"utf-8\" /></head>\n",
              "<body>\n",
              "    <div>            <script src=\"https://cdnjs.cloudflare.com/ajax/libs/mathjax/2.7.5/MathJax.js?config=TeX-AMS-MML_SVG\"></script><script type=\"text/javascript\">if (window.MathJax && window.MathJax.Hub && window.MathJax.Hub.Config) {window.MathJax.Hub.Config({SVG: {font: \"STIX-Web\"}});}</script>                <script type=\"text/javascript\">window.PlotlyConfig = {MathJaxConfig: 'local'};</script>\n",
              "        <script charset=\"utf-8\" src=\"https://cdn.plot.ly/plotly-2.24.1.min.js\"></script>                <div id=\"291e8ef3-6b5f-4e78-a052-d6eed74188a2\" class=\"plotly-graph-div\" style=\"height:525px; width:100%;\"></div>            <script type=\"text/javascript\">                                    window.PLOTLYENV=window.PLOTLYENV || {};                                    if (document.getElementById(\"291e8ef3-6b5f-4e78-a052-d6eed74188a2\")) {                    Plotly.newPlot(                        \"291e8ef3-6b5f-4e78-a052-d6eed74188a2\",                        [{\"coloraxis\":\"coloraxis\",\"name\":\"0\",\"x\":[\"Thn\",\"bln\",\"tgl\",\"temp_min\",\"temp_max\",\"temp_rata-rata\",\"lembab_rata-rata\",\"ch\",\"cahaya_jam\"],\"y\":[\"Thn\",\"bln\",\"tgl\",\"temp_min\",\"temp_max\",\"temp_rata-rata\",\"lembab_rata-rata\",\"ch\",\"cahaya_jam\"],\"z\":[[1.0,-0.024963490384388606,-0.01822642592951423,0.03694866830581242,0.039543918814097426,0.23076438977478544,-0.33008863410823125,-0.08529597230184684,0.0543044825299703],[-0.024963490384388606,1.0,-0.017014856024203048,-0.016750287593733107,0.03973231412025131,0.210323137443055,-0.2772143803434105,-0.0410398296722478,-0.06778964567138884],[-0.01822642592951423,-0.017014856024203048,1.0,0.005949775747890363,0.03591556243017797,-0.03346864303916351,-0.004290192842860093,-0.04676073441351793,-0.015177850548937315],[0.03694866830581242,-0.016750287593733107,0.005949775747890363,1.0,-0.0015573945737430298,0.013479345641871983,0.019672270279381746,-0.01618722215336465,-0.001919403087002282],[0.039543918814097426,0.03973231412025131,0.03591556243017797,-0.0015573945737430298,1.0,0.06479448946590737,-0.05813935912086121,-0.027018816757802874,-0.0015545002588788024],[0.23076438977478544,0.210323137443055,-0.03346864303916351,0.013479345641871983,0.06479448946590737,1.0,-0.7925755582434132,-0.11787886667682503,0.022744584918017615],[-0.33008863410823125,-0.2772143803434105,-0.004290192842860093,0.019672270279381746,-0.05813935912086121,-0.7925755582434132,1.0,0.21728236037936355,-0.0313521953453698],[-0.08529597230184684,-0.0410398296722478,-0.04676073441351793,-0.01618722215336465,-0.027018816757802874,-0.11787886667682503,0.21728236037936355,1.0,0.032574317087894225],[0.0543044825299703,-0.06778964567138884,-0.015177850548937315,-0.001919403087002282,-0.0015545002588788024,0.022744584918017615,-0.0313521953453698,0.032574317087894225,1.0]],\"type\":\"heatmap\",\"xaxis\":\"x\",\"yaxis\":\"y\",\"hovertemplate\":\"x: %{x}\\u003cbr\\u003ey: %{y}\\u003cbr\\u003ecolor: %{z}\\u003cextra\\u003e\\u003c\\u002fextra\\u003e\"}],                        {\"template\":{\"data\":{\"histogram2dcontour\":[{\"type\":\"histogram2dcontour\",\"colorbar\":{\"outlinewidth\":0,\"ticks\":\"\"},\"colorscale\":[[0.0,\"#0d0887\"],[0.1111111111111111,\"#46039f\"],[0.2222222222222222,\"#7201a8\"],[0.3333333333333333,\"#9c179e\"],[0.4444444444444444,\"#bd3786\"],[0.5555555555555556,\"#d8576b\"],[0.6666666666666666,\"#ed7953\"],[0.7777777777777778,\"#fb9f3a\"],[0.8888888888888888,\"#fdca26\"],[1.0,\"#f0f921\"]]}],\"choropleth\":[{\"type\":\"choropleth\",\"colorbar\":{\"outlinewidth\":0,\"ticks\":\"\"}}],\"histogram2d\":[{\"type\":\"histogram2d\",\"colorbar\":{\"outlinewidth\":0,\"ticks\":\"\"},\"colorscale\":[[0.0,\"#0d0887\"],[0.1111111111111111,\"#46039f\"],[0.2222222222222222,\"#7201a8\"],[0.3333333333333333,\"#9c179e\"],[0.4444444444444444,\"#bd3786\"],[0.5555555555555556,\"#d8576b\"],[0.6666666666666666,\"#ed7953\"],[0.7777777777777778,\"#fb9f3a\"],[0.8888888888888888,\"#fdca26\"],[1.0,\"#f0f921\"]]}],\"heatmap\":[{\"type\":\"heatmap\",\"colorbar\":{\"outlinewidth\":0,\"ticks\":\"\"},\"colorscale\":[[0.0,\"#0d0887\"],[0.1111111111111111,\"#46039f\"],[0.2222222222222222,\"#7201a8\"],[0.3333333333333333,\"#9c179e\"],[0.4444444444444444,\"#bd3786\"],[0.5555555555555556,\"#d8576b\"],[0.6666666666666666,\"#ed7953\"],[0.7777777777777778,\"#fb9f3a\"],[0.8888888888888888,\"#fdca26\"],[1.0,\"#f0f921\"]]}],\"heatmapgl\":[{\"type\":\"heatmapgl\",\"colorbar\":{\"outlinewidth\":0,\"ticks\":\"\"},\"colorscale\":[[0.0,\"#0d0887\"],[0.1111111111111111,\"#46039f\"],[0.2222222222222222,\"#7201a8\"],[0.3333333333333333,\"#9c179e\"],[0.4444444444444444,\"#bd3786\"],[0.5555555555555556,\"#d8576b\"],[0.6666666666666666,\"#ed7953\"],[0.7777777777777778,\"#fb9f3a\"],[0.8888888888888888,\"#fdca26\"],[1.0,\"#f0f921\"]]}],\"contourcarpet\":[{\"type\":\"contourcarpet\",\"colorbar\":{\"outlinewidth\":0,\"ticks\":\"\"}}],\"contour\":[{\"type\":\"contour\",\"colorbar\":{\"outlinewidth\":0,\"ticks\":\"\"},\"colorscale\":[[0.0,\"#0d0887\"],[0.1111111111111111,\"#46039f\"],[0.2222222222222222,\"#7201a8\"],[0.3333333333333333,\"#9c179e\"],[0.4444444444444444,\"#bd3786\"],[0.5555555555555556,\"#d8576b\"],[0.6666666666666666,\"#ed7953\"],[0.7777777777777778,\"#fb9f3a\"],[0.8888888888888888,\"#fdca26\"],[1.0,\"#f0f921\"]]}],\"surface\":[{\"type\":\"surface\",\"colorbar\":{\"outlinewidth\":0,\"ticks\":\"\"},\"colorscale\":[[0.0,\"#0d0887\"],[0.1111111111111111,\"#46039f\"],[0.2222222222222222,\"#7201a8\"],[0.3333333333333333,\"#9c179e\"],[0.4444444444444444,\"#bd3786\"],[0.5555555555555556,\"#d8576b\"],[0.6666666666666666,\"#ed7953\"],[0.7777777777777778,\"#fb9f3a\"],[0.8888888888888888,\"#fdca26\"],[1.0,\"#f0f921\"]]}],\"mesh3d\":[{\"type\":\"mesh3d\",\"colorbar\":{\"outlinewidth\":0,\"ticks\":\"\"}}],\"scatter\":[{\"fillpattern\":{\"fillmode\":\"overlay\",\"size\":10,\"solidity\":0.2},\"type\":\"scatter\"}],\"parcoords\":[{\"type\":\"parcoords\",\"line\":{\"colorbar\":{\"outlinewidth\":0,\"ticks\":\"\"}}}],\"scatterpolargl\":[{\"type\":\"scatterpolargl\",\"marker\":{\"colorbar\":{\"outlinewidth\":0,\"ticks\":\"\"}}}],\"bar\":[{\"error_x\":{\"color\":\"#2a3f5f\"},\"error_y\":{\"color\":\"#2a3f5f\"},\"marker\":{\"line\":{\"color\":\"#E5ECF6\",\"width\":0.5},\"pattern\":{\"fillmode\":\"overlay\",\"size\":10,\"solidity\":0.2}},\"type\":\"bar\"}],\"scattergeo\":[{\"type\":\"scattergeo\",\"marker\":{\"colorbar\":{\"outlinewidth\":0,\"ticks\":\"\"}}}],\"scatterpolar\":[{\"type\":\"scatterpolar\",\"marker\":{\"colorbar\":{\"outlinewidth\":0,\"ticks\":\"\"}}}],\"histogram\":[{\"marker\":{\"pattern\":{\"fillmode\":\"overlay\",\"size\":10,\"solidity\":0.2}},\"type\":\"histogram\"}],\"scattergl\":[{\"type\":\"scattergl\",\"marker\":{\"colorbar\":{\"outlinewidth\":0,\"ticks\":\"\"}}}],\"scatter3d\":[{\"type\":\"scatter3d\",\"line\":{\"colorbar\":{\"outlinewidth\":0,\"ticks\":\"\"}},\"marker\":{\"colorbar\":{\"outlinewidth\":0,\"ticks\":\"\"}}}],\"scattermapbox\":[{\"type\":\"scattermapbox\",\"marker\":{\"colorbar\":{\"outlinewidth\":0,\"ticks\":\"\"}}}],\"scatterternary\":[{\"type\":\"scatterternary\",\"marker\":{\"colorbar\":{\"outlinewidth\":0,\"ticks\":\"\"}}}],\"scattercarpet\":[{\"type\":\"scattercarpet\",\"marker\":{\"colorbar\":{\"outlinewidth\":0,\"ticks\":\"\"}}}],\"carpet\":[{\"aaxis\":{\"endlinecolor\":\"#2a3f5f\",\"gridcolor\":\"white\",\"linecolor\":\"white\",\"minorgridcolor\":\"white\",\"startlinecolor\":\"#2a3f5f\"},\"baxis\":{\"endlinecolor\":\"#2a3f5f\",\"gridcolor\":\"white\",\"linecolor\":\"white\",\"minorgridcolor\":\"white\",\"startlinecolor\":\"#2a3f5f\"},\"type\":\"carpet\"}],\"table\":[{\"cells\":{\"fill\":{\"color\":\"#EBF0F8\"},\"line\":{\"color\":\"white\"}},\"header\":{\"fill\":{\"color\":\"#C8D4E3\"},\"line\":{\"color\":\"white\"}},\"type\":\"table\"}],\"barpolar\":[{\"marker\":{\"line\":{\"color\":\"#E5ECF6\",\"width\":0.5},\"pattern\":{\"fillmode\":\"overlay\",\"size\":10,\"solidity\":0.2}},\"type\":\"barpolar\"}],\"pie\":[{\"automargin\":true,\"type\":\"pie\"}]},\"layout\":{\"autotypenumbers\":\"strict\",\"colorway\":[\"#636efa\",\"#EF553B\",\"#00cc96\",\"#ab63fa\",\"#FFA15A\",\"#19d3f3\",\"#FF6692\",\"#B6E880\",\"#FF97FF\",\"#FECB52\"],\"font\":{\"color\":\"#2a3f5f\"},\"hovermode\":\"closest\",\"hoverlabel\":{\"align\":\"left\"},\"paper_bgcolor\":\"white\",\"plot_bgcolor\":\"#E5ECF6\",\"polar\":{\"bgcolor\":\"#E5ECF6\",\"angularaxis\":{\"gridcolor\":\"white\",\"linecolor\":\"white\",\"ticks\":\"\"},\"radialaxis\":{\"gridcolor\":\"white\",\"linecolor\":\"white\",\"ticks\":\"\"}},\"ternary\":{\"bgcolor\":\"#E5ECF6\",\"aaxis\":{\"gridcolor\":\"white\",\"linecolor\":\"white\",\"ticks\":\"\"},\"baxis\":{\"gridcolor\":\"white\",\"linecolor\":\"white\",\"ticks\":\"\"},\"caxis\":{\"gridcolor\":\"white\",\"linecolor\":\"white\",\"ticks\":\"\"}},\"coloraxis\":{\"colorbar\":{\"outlinewidth\":0,\"ticks\":\"\"}},\"colorscale\":{\"sequential\":[[0.0,\"#0d0887\"],[0.1111111111111111,\"#46039f\"],[0.2222222222222222,\"#7201a8\"],[0.3333333333333333,\"#9c179e\"],[0.4444444444444444,\"#bd3786\"],[0.5555555555555556,\"#d8576b\"],[0.6666666666666666,\"#ed7953\"],[0.7777777777777778,\"#fb9f3a\"],[0.8888888888888888,\"#fdca26\"],[1.0,\"#f0f921\"]],\"sequentialminus\":[[0.0,\"#0d0887\"],[0.1111111111111111,\"#46039f\"],[0.2222222222222222,\"#7201a8\"],[0.3333333333333333,\"#9c179e\"],[0.4444444444444444,\"#bd3786\"],[0.5555555555555556,\"#d8576b\"],[0.6666666666666666,\"#ed7953\"],[0.7777777777777778,\"#fb9f3a\"],[0.8888888888888888,\"#fdca26\"],[1.0,\"#f0f921\"]],\"diverging\":[[0,\"#8e0152\"],[0.1,\"#c51b7d\"],[0.2,\"#de77ae\"],[0.3,\"#f1b6da\"],[0.4,\"#fde0ef\"],[0.5,\"#f7f7f7\"],[0.6,\"#e6f5d0\"],[0.7,\"#b8e186\"],[0.8,\"#7fbc41\"],[0.9,\"#4d9221\"],[1,\"#276419\"]]},\"xaxis\":{\"gridcolor\":\"white\",\"linecolor\":\"white\",\"ticks\":\"\",\"title\":{\"standoff\":15},\"zerolinecolor\":\"white\",\"automargin\":true,\"zerolinewidth\":2},\"yaxis\":{\"gridcolor\":\"white\",\"linecolor\":\"white\",\"ticks\":\"\",\"title\":{\"standoff\":15},\"zerolinecolor\":\"white\",\"automargin\":true,\"zerolinewidth\":2},\"scene\":{\"xaxis\":{\"backgroundcolor\":\"#E5ECF6\",\"gridcolor\":\"white\",\"linecolor\":\"white\",\"showbackground\":true,\"ticks\":\"\",\"zerolinecolor\":\"white\",\"gridwidth\":2},\"yaxis\":{\"backgroundcolor\":\"#E5ECF6\",\"gridcolor\":\"white\",\"linecolor\":\"white\",\"showbackground\":true,\"ticks\":\"\",\"zerolinecolor\":\"white\",\"gridwidth\":2},\"zaxis\":{\"backgroundcolor\":\"#E5ECF6\",\"gridcolor\":\"white\",\"linecolor\":\"white\",\"showbackground\":true,\"ticks\":\"\",\"zerolinecolor\":\"white\",\"gridwidth\":2}},\"shapedefaults\":{\"line\":{\"color\":\"#2a3f5f\"}},\"annotationdefaults\":{\"arrowcolor\":\"#2a3f5f\",\"arrowhead\":0,\"arrowwidth\":1},\"geo\":{\"bgcolor\":\"white\",\"landcolor\":\"#E5ECF6\",\"subunitcolor\":\"white\",\"showland\":true,\"showlakes\":true,\"lakecolor\":\"white\"},\"title\":{\"x\":0.05},\"mapbox\":{\"style\":\"light\"}}},\"xaxis\":{\"anchor\":\"y\",\"domain\":[0.0,1.0],\"scaleanchor\":\"y\",\"constrain\":\"domain\"},\"yaxis\":{\"anchor\":\"x\",\"domain\":[0.0,1.0],\"autorange\":\"reversed\",\"constrain\":\"domain\"},\"coloraxis\":{\"colorscale\":[[0.0,\"#0d0887\"],[0.1111111111111111,\"#46039f\"],[0.2222222222222222,\"#7201a8\"],[0.3333333333333333,\"#9c179e\"],[0.4444444444444444,\"#bd3786\"],[0.5555555555555556,\"#d8576b\"],[0.6666666666666666,\"#ed7953\"],[0.7777777777777778,\"#fb9f3a\"],[0.8888888888888888,\"#fdca26\"],[1.0,\"#f0f921\"]]},\"margin\":{\"t\":60}},                        {\"responsive\": true}                    ).then(function(){\n",
              "                            \n",
              "var gd = document.getElementById('291e8ef3-6b5f-4e78-a052-d6eed74188a2');\n",
              "var x = new MutationObserver(function (mutations, observer) {{\n",
              "        var display = window.getComputedStyle(gd).display;\n",
              "        if (!display || display === 'none') {{\n",
              "            console.log([gd, 'removed!']);\n",
              "            Plotly.purge(gd);\n",
              "            observer.disconnect();\n",
              "        }}\n",
              "}});\n",
              "\n",
              "// Listen for the removal of the full notebook cells\n",
              "var notebookContainer = gd.closest('#notebook-container');\n",
              "if (notebookContainer) {{\n",
              "    x.observe(notebookContainer, {childList: true});\n",
              "}}\n",
              "\n",
              "// Listen for the clearing of the current output cell\n",
              "var outputEl = gd.closest('.output');\n",
              "if (outputEl) {{\n",
              "    x.observe(outputEl, {childList: true});\n",
              "}}\n",
              "\n",
              "                        })                };                            </script>        </div>\n",
              "</body>\n",
              "</html>"
            ]
          },
          "metadata": {}
        }
      ]
    },
    {
      "cell_type": "code",
      "source": [
        "df = df.drop(['temp_min','temp_max'], axis=1)"
      ],
      "metadata": {
        "id": "0nnyjSzIHMv6"
      },
      "execution_count": 110,
      "outputs": []
    },
    {
      "cell_type": "markdown",
      "source": [
        "Jadi kode diatas berfungsi untuk mengurangi kolom yang dirasa kurang relevan.\n",
        "\n",
        "saya mengurangi kolom 'temp_min' dan 'temp_max' karena menurut saya kurang relevan karena sudah memiliki informasi tentang temperatur yang terdapat kolom data 'temp_rata-rata'."
      ],
      "metadata": {
        "id": "n3b_6JZjWZnh"
      }
    },
    {
      "cell_type": "code",
      "source": [
        "df.head()"
      ],
      "metadata": {
        "colab": {
          "base_uri": "https://localhost:8080/",
          "height": 206
        },
        "id": "LZ20GRwuHWJn",
        "outputId": "5bca3851-af35-4602-ae37-fd5bfcf5f24d"
      },
      "execution_count": 111,
      "outputs": [
        {
          "output_type": "execute_result",
          "data": {
            "text/plain": [
              "    Thn  bln  tgl  temp_rata-rata  lembab_rata-rata    ch  cahaya_jam  \\\n",
              "0  2022    1    1            27.0              84.0   1.0         3.5   \n",
              "1  2022    1    2            25.8              91.0   8.1         2.5   \n",
              "2  2022    1    3            26.3              86.0  29.3         2.0   \n",
              "3  2022    1    4            26.7              87.0   0.5         5.5   \n",
              "4  2022    1    5            26.9              85.0  22.3         0.0   \n",
              "\n",
              "  curah_hujan_kategori  \n",
              "0               rendah  \n",
              "1               rendah  \n",
              "2               sedang  \n",
              "3               rendah  \n",
              "4               sedang  "
            ],
            "text/html": [
              "\n",
              "  <div id=\"df-60e76f6f-7fd5-4e93-a3a9-459d69ca091c\" class=\"colab-df-container\">\n",
              "    <div>\n",
              "<style scoped>\n",
              "    .dataframe tbody tr th:only-of-type {\n",
              "        vertical-align: middle;\n",
              "    }\n",
              "\n",
              "    .dataframe tbody tr th {\n",
              "        vertical-align: top;\n",
              "    }\n",
              "\n",
              "    .dataframe thead th {\n",
              "        text-align: right;\n",
              "    }\n",
              "</style>\n",
              "<table border=\"1\" class=\"dataframe\">\n",
              "  <thead>\n",
              "    <tr style=\"text-align: right;\">\n",
              "      <th></th>\n",
              "      <th>Thn</th>\n",
              "      <th>bln</th>\n",
              "      <th>tgl</th>\n",
              "      <th>temp_rata-rata</th>\n",
              "      <th>lembab_rata-rata</th>\n",
              "      <th>ch</th>\n",
              "      <th>cahaya_jam</th>\n",
              "      <th>curah_hujan_kategori</th>\n",
              "    </tr>\n",
              "  </thead>\n",
              "  <tbody>\n",
              "    <tr>\n",
              "      <th>0</th>\n",
              "      <td>2022</td>\n",
              "      <td>1</td>\n",
              "      <td>1</td>\n",
              "      <td>27.0</td>\n",
              "      <td>84.0</td>\n",
              "      <td>1.0</td>\n",
              "      <td>3.5</td>\n",
              "      <td>rendah</td>\n",
              "    </tr>\n",
              "    <tr>\n",
              "      <th>1</th>\n",
              "      <td>2022</td>\n",
              "      <td>1</td>\n",
              "      <td>2</td>\n",
              "      <td>25.8</td>\n",
              "      <td>91.0</td>\n",
              "      <td>8.1</td>\n",
              "      <td>2.5</td>\n",
              "      <td>rendah</td>\n",
              "    </tr>\n",
              "    <tr>\n",
              "      <th>2</th>\n",
              "      <td>2022</td>\n",
              "      <td>1</td>\n",
              "      <td>3</td>\n",
              "      <td>26.3</td>\n",
              "      <td>86.0</td>\n",
              "      <td>29.3</td>\n",
              "      <td>2.0</td>\n",
              "      <td>sedang</td>\n",
              "    </tr>\n",
              "    <tr>\n",
              "      <th>3</th>\n",
              "      <td>2022</td>\n",
              "      <td>1</td>\n",
              "      <td>4</td>\n",
              "      <td>26.7</td>\n",
              "      <td>87.0</td>\n",
              "      <td>0.5</td>\n",
              "      <td>5.5</td>\n",
              "      <td>rendah</td>\n",
              "    </tr>\n",
              "    <tr>\n",
              "      <th>4</th>\n",
              "      <td>2022</td>\n",
              "      <td>1</td>\n",
              "      <td>5</td>\n",
              "      <td>26.9</td>\n",
              "      <td>85.0</td>\n",
              "      <td>22.3</td>\n",
              "      <td>0.0</td>\n",
              "      <td>sedang</td>\n",
              "    </tr>\n",
              "  </tbody>\n",
              "</table>\n",
              "</div>\n",
              "    <div class=\"colab-df-buttons\">\n",
              "\n",
              "  <div class=\"colab-df-container\">\n",
              "    <button class=\"colab-df-convert\" onclick=\"convertToInteractive('df-60e76f6f-7fd5-4e93-a3a9-459d69ca091c')\"\n",
              "            title=\"Convert this dataframe to an interactive table.\"\n",
              "            style=\"display:none;\">\n",
              "\n",
              "  <svg xmlns=\"http://www.w3.org/2000/svg\" height=\"24px\" viewBox=\"0 -960 960 960\">\n",
              "    <path d=\"M120-120v-720h720v720H120Zm60-500h600v-160H180v160Zm220 220h160v-160H400v160Zm0 220h160v-160H400v160ZM180-400h160v-160H180v160Zm440 0h160v-160H620v160ZM180-180h160v-160H180v160Zm440 0h160v-160H620v160Z\"/>\n",
              "  </svg>\n",
              "    </button>\n",
              "\n",
              "  <style>\n",
              "    .colab-df-container {\n",
              "      display:flex;\n",
              "      gap: 12px;\n",
              "    }\n",
              "\n",
              "    .colab-df-convert {\n",
              "      background-color: #E8F0FE;\n",
              "      border: none;\n",
              "      border-radius: 50%;\n",
              "      cursor: pointer;\n",
              "      display: none;\n",
              "      fill: #1967D2;\n",
              "      height: 32px;\n",
              "      padding: 0 0 0 0;\n",
              "      width: 32px;\n",
              "    }\n",
              "\n",
              "    .colab-df-convert:hover {\n",
              "      background-color: #E2EBFA;\n",
              "      box-shadow: 0px 1px 2px rgba(60, 64, 67, 0.3), 0px 1px 3px 1px rgba(60, 64, 67, 0.15);\n",
              "      fill: #174EA6;\n",
              "    }\n",
              "\n",
              "    .colab-df-buttons div {\n",
              "      margin-bottom: 4px;\n",
              "    }\n",
              "\n",
              "    [theme=dark] .colab-df-convert {\n",
              "      background-color: #3B4455;\n",
              "      fill: #D2E3FC;\n",
              "    }\n",
              "\n",
              "    [theme=dark] .colab-df-convert:hover {\n",
              "      background-color: #434B5C;\n",
              "      box-shadow: 0px 1px 3px 1px rgba(0, 0, 0, 0.15);\n",
              "      filter: drop-shadow(0px 1px 2px rgba(0, 0, 0, 0.3));\n",
              "      fill: #FFFFFF;\n",
              "    }\n",
              "  </style>\n",
              "\n",
              "    <script>\n",
              "      const buttonEl =\n",
              "        document.querySelector('#df-60e76f6f-7fd5-4e93-a3a9-459d69ca091c button.colab-df-convert');\n",
              "      buttonEl.style.display =\n",
              "        google.colab.kernel.accessAllowed ? 'block' : 'none';\n",
              "\n",
              "      async function convertToInteractive(key) {\n",
              "        const element = document.querySelector('#df-60e76f6f-7fd5-4e93-a3a9-459d69ca091c');\n",
              "        const dataTable =\n",
              "          await google.colab.kernel.invokeFunction('convertToInteractive',\n",
              "                                                    [key], {});\n",
              "        if (!dataTable) return;\n",
              "\n",
              "        const docLinkHtml = 'Like what you see? Visit the ' +\n",
              "          '<a target=\"_blank\" href=https://colab.research.google.com/notebooks/data_table.ipynb>data table notebook</a>'\n",
              "          + ' to learn more about interactive tables.';\n",
              "        element.innerHTML = '';\n",
              "        dataTable['output_type'] = 'display_data';\n",
              "        await google.colab.output.renderOutput(dataTable, element);\n",
              "        const docLink = document.createElement('div');\n",
              "        docLink.innerHTML = docLinkHtml;\n",
              "        element.appendChild(docLink);\n",
              "      }\n",
              "    </script>\n",
              "  </div>\n",
              "\n",
              "\n",
              "<div id=\"df-f2a73fcc-0666-4955-93fb-a9221af85b19\">\n",
              "  <button class=\"colab-df-quickchart\" onclick=\"quickchart('df-f2a73fcc-0666-4955-93fb-a9221af85b19')\"\n",
              "            title=\"Suggest charts\"\n",
              "            style=\"display:none;\">\n",
              "\n",
              "<svg xmlns=\"http://www.w3.org/2000/svg\" height=\"24px\"viewBox=\"0 0 24 24\"\n",
              "     width=\"24px\">\n",
              "    <g>\n",
              "        <path d=\"M19 3H5c-1.1 0-2 .9-2 2v14c0 1.1.9 2 2 2h14c1.1 0 2-.9 2-2V5c0-1.1-.9-2-2-2zM9 17H7v-7h2v7zm4 0h-2V7h2v10zm4 0h-2v-4h2v4z\"/>\n",
              "    </g>\n",
              "</svg>\n",
              "  </button>\n",
              "\n",
              "<style>\n",
              "  .colab-df-quickchart {\n",
              "      --bg-color: #E8F0FE;\n",
              "      --fill-color: #1967D2;\n",
              "      --hover-bg-color: #E2EBFA;\n",
              "      --hover-fill-color: #174EA6;\n",
              "      --disabled-fill-color: #AAA;\n",
              "      --disabled-bg-color: #DDD;\n",
              "  }\n",
              "\n",
              "  [theme=dark] .colab-df-quickchart {\n",
              "      --bg-color: #3B4455;\n",
              "      --fill-color: #D2E3FC;\n",
              "      --hover-bg-color: #434B5C;\n",
              "      --hover-fill-color: #FFFFFF;\n",
              "      --disabled-bg-color: #3B4455;\n",
              "      --disabled-fill-color: #666;\n",
              "  }\n",
              "\n",
              "  .colab-df-quickchart {\n",
              "    background-color: var(--bg-color);\n",
              "    border: none;\n",
              "    border-radius: 50%;\n",
              "    cursor: pointer;\n",
              "    display: none;\n",
              "    fill: var(--fill-color);\n",
              "    height: 32px;\n",
              "    padding: 0;\n",
              "    width: 32px;\n",
              "  }\n",
              "\n",
              "  .colab-df-quickchart:hover {\n",
              "    background-color: var(--hover-bg-color);\n",
              "    box-shadow: 0 1px 2px rgba(60, 64, 67, 0.3), 0 1px 3px 1px rgba(60, 64, 67, 0.15);\n",
              "    fill: var(--button-hover-fill-color);\n",
              "  }\n",
              "\n",
              "  .colab-df-quickchart-complete:disabled,\n",
              "  .colab-df-quickchart-complete:disabled:hover {\n",
              "    background-color: var(--disabled-bg-color);\n",
              "    fill: var(--disabled-fill-color);\n",
              "    box-shadow: none;\n",
              "  }\n",
              "\n",
              "  .colab-df-spinner {\n",
              "    border: 2px solid var(--fill-color);\n",
              "    border-color: transparent;\n",
              "    border-bottom-color: var(--fill-color);\n",
              "    animation:\n",
              "      spin 1s steps(1) infinite;\n",
              "  }\n",
              "\n",
              "  @keyframes spin {\n",
              "    0% {\n",
              "      border-color: transparent;\n",
              "      border-bottom-color: var(--fill-color);\n",
              "      border-left-color: var(--fill-color);\n",
              "    }\n",
              "    20% {\n",
              "      border-color: transparent;\n",
              "      border-left-color: var(--fill-color);\n",
              "      border-top-color: var(--fill-color);\n",
              "    }\n",
              "    30% {\n",
              "      border-color: transparent;\n",
              "      border-left-color: var(--fill-color);\n",
              "      border-top-color: var(--fill-color);\n",
              "      border-right-color: var(--fill-color);\n",
              "    }\n",
              "    40% {\n",
              "      border-color: transparent;\n",
              "      border-right-color: var(--fill-color);\n",
              "      border-top-color: var(--fill-color);\n",
              "    }\n",
              "    60% {\n",
              "      border-color: transparent;\n",
              "      border-right-color: var(--fill-color);\n",
              "    }\n",
              "    80% {\n",
              "      border-color: transparent;\n",
              "      border-right-color: var(--fill-color);\n",
              "      border-bottom-color: var(--fill-color);\n",
              "    }\n",
              "    90% {\n",
              "      border-color: transparent;\n",
              "      border-bottom-color: var(--fill-color);\n",
              "    }\n",
              "  }\n",
              "</style>\n",
              "\n",
              "  <script>\n",
              "    async function quickchart(key) {\n",
              "      const quickchartButtonEl =\n",
              "        document.querySelector('#' + key + ' button');\n",
              "      quickchartButtonEl.disabled = true;  // To prevent multiple clicks.\n",
              "      quickchartButtonEl.classList.add('colab-df-spinner');\n",
              "      try {\n",
              "        const charts = await google.colab.kernel.invokeFunction(\n",
              "            'suggestCharts', [key], {});\n",
              "      } catch (error) {\n",
              "        console.error('Error during call to suggestCharts:', error);\n",
              "      }\n",
              "      quickchartButtonEl.classList.remove('colab-df-spinner');\n",
              "      quickchartButtonEl.classList.add('colab-df-quickchart-complete');\n",
              "    }\n",
              "    (() => {\n",
              "      let quickchartButtonEl =\n",
              "        document.querySelector('#df-f2a73fcc-0666-4955-93fb-a9221af85b19 button');\n",
              "      quickchartButtonEl.style.display =\n",
              "        google.colab.kernel.accessAllowed ? 'block' : 'none';\n",
              "    })();\n",
              "  </script>\n",
              "</div>\n",
              "    </div>\n",
              "  </div>\n"
            ],
            "application/vnd.google.colaboratory.intrinsic+json": {
              "type": "dataframe",
              "variable_name": "df",
              "summary": "{\n  \"name\": \"df\",\n  \"rows\": 719,\n  \"fields\": [\n    {\n      \"column\": \"Thn\",\n      \"properties\": {\n        \"dtype\": \"number\",\n        \"std\": 0,\n        \"min\": 2022,\n        \"max\": 2023,\n        \"num_unique_values\": 2,\n        \"samples\": [\n          2023,\n          2022\n        ],\n        \"semantic_type\": \"\",\n        \"description\": \"\"\n      }\n    },\n    {\n      \"column\": \"bln\",\n      \"properties\": {\n        \"dtype\": \"number\",\n        \"std\": 3,\n        \"min\": 1,\n        \"max\": 12,\n        \"num_unique_values\": 12,\n        \"samples\": [\n          11,\n          10\n        ],\n        \"semantic_type\": \"\",\n        \"description\": \"\"\n      }\n    },\n    {\n      \"column\": \"tgl\",\n      \"properties\": {\n        \"dtype\": \"number\",\n        \"std\": 8,\n        \"min\": 1,\n        \"max\": 31,\n        \"num_unique_values\": 31,\n        \"samples\": [\n          28,\n          16\n        ],\n        \"semantic_type\": \"\",\n        \"description\": \"\"\n      }\n    },\n    {\n      \"column\": \"temp_rata-rata\",\n      \"properties\": {\n        \"dtype\": \"number\",\n        \"std\": 1.4560323649355076,\n        \"min\": 23.7,\n        \"max\": 32.8,\n        \"num_unique_values\": 82,\n        \"samples\": [\n          28.6,\n          27.0\n        ],\n        \"semantic_type\": \"\",\n        \"description\": \"\"\n      }\n    },\n    {\n      \"column\": \"lembab_rata-rata\",\n      \"properties\": {\n        \"dtype\": \"number\",\n        \"std\": 6.622469206844636,\n        \"min\": 57.0,\n        \"max\": 99.0,\n        \"num_unique_values\": 42,\n        \"samples\": [\n          76.0,\n          69.0\n        ],\n        \"semantic_type\": \"\",\n        \"description\": \"\"\n      }\n    },\n    {\n      \"column\": \"ch\",\n      \"properties\": {\n        \"dtype\": \"number\",\n        \"std\": 11.958008142027005,\n        \"min\": 0.0,\n        \"max\": 32.0,\n        \"num_unique_values\": 148,\n        \"samples\": [\n          11.2,\n          3.8\n        ],\n        \"semantic_type\": \"\",\n        \"description\": \"\"\n      }\n    },\n    {\n      \"column\": \"cahaya_jam\",\n      \"properties\": {\n        \"dtype\": \"number\",\n        \"std\": 526.7599800847087,\n        \"min\": 0.0,\n        \"max\": 9999.0,\n        \"num_unique_values\": 100,\n        \"samples\": [\n          9.1,\n          5.3\n        ],\n        \"semantic_type\": \"\",\n        \"description\": \"\"\n      }\n    },\n    {\n      \"column\": \"curah_hujan_kategori\",\n      \"properties\": {\n        \"dtype\": \"category\",\n        \"num_unique_values\": 2,\n        \"samples\": [\n          \"sedang\",\n          \"rendah\"\n        ],\n        \"semantic_type\": \"\",\n        \"description\": \"\"\n      }\n    }\n  ]\n}"
            }
          },
          "metadata": {},
          "execution_count": 111
        }
      ]
    },
    {
      "cell_type": "markdown",
      "source": [
        "Pada output diatas dapat dilihat tidak terdapat kolom 'temp_min' dan 'temp_max' karena sebelumnya saya sudah mengurangi kolom yang kurang relevan"
      ],
      "metadata": {
        "id": "XIe-x4dCXXk9"
      }
    },
    {
      "cell_type": "markdown",
      "source": [
        "#**Data Transformation**"
      ],
      "metadata": {
        "id": "8NFWlRQvHcdE"
      }
    },
    {
      "cell_type": "markdown",
      "source": [
        "###**Mapping**"
      ],
      "metadata": {
        "id": "YDrvXza8IAU_"
      }
    },
    {
      "cell_type": "markdown",
      "source": [
        "Dikarenakan data saya berupa numerik semua jadi dalam hal ini tidak dapat dilakukan"
      ],
      "metadata": {
        "id": "sPQ0d6E8H2W4"
      }
    },
    {
      "cell_type": "markdown",
      "source": [
        "###**Encoding**"
      ],
      "metadata": {
        "id": "Gw5JJWNZIYqL"
      }
    },
    {
      "cell_type": "code",
      "source": [
        "df = pd.get_dummies(df)"
      ],
      "metadata": {
        "id": "fCpbQMX_Ib_A"
      },
      "execution_count": 112,
      "outputs": []
    },
    {
      "cell_type": "markdown",
      "source": [
        "\n",
        "Kode tersebut bertujuan untuk mengubah variabel kategorikal dalam DataFrame menjadi bentuk biner. Artinya, setiap nilai kategorikal dalam kolom-kolom tertentu akan menjadi kolom baru dengan nilai biner, yaitu 0 atau 1. Hal ini berguna dalam analisis dan pemodelan data karena membantu dalam mengkodekan informasi kategori ke dalam format yang dapat dimengerti oleh algoritma machine learning."
      ],
      "metadata": {
        "id": "uAsOmk9sX_X3"
      }
    },
    {
      "cell_type": "markdown",
      "source": [
        "###**Pengecekkan Hasil**"
      ],
      "metadata": {
        "id": "h2EPzLVTIeI3"
      }
    },
    {
      "cell_type": "code",
      "source": [
        "df.head()"
      ],
      "metadata": {
        "colab": {
          "base_uri": "https://localhost:8080/",
          "height": 206
        },
        "id": "48A3n6cRIgMm",
        "outputId": "2aa1eb8b-5c1c-4d33-cafd-945dae62ccd1"
      },
      "execution_count": 113,
      "outputs": [
        {
          "output_type": "execute_result",
          "data": {
            "text/plain": [
              "    Thn  bln  tgl  temp_rata-rata  lembab_rata-rata    ch  cahaya_jam  \\\n",
              "0  2022    1    1            27.0              84.0   1.0         3.5   \n",
              "1  2022    1    2            25.8              91.0   8.1         2.5   \n",
              "2  2022    1    3            26.3              86.0  29.3         2.0   \n",
              "3  2022    1    4            26.7              87.0   0.5         5.5   \n",
              "4  2022    1    5            26.9              85.0  22.3         0.0   \n",
              "\n",
              "   curah_hujan_kategori_rendah  curah_hujan_kategori_sedang  \\\n",
              "0                            1                            0   \n",
              "1                            1                            0   \n",
              "2                            0                            1   \n",
              "3                            1                            0   \n",
              "4                            0                            1   \n",
              "\n",
              "   curah_hujan_kategori_tinggi  \n",
              "0                            0  \n",
              "1                            0  \n",
              "2                            0  \n",
              "3                            0  \n",
              "4                            0  "
            ],
            "text/html": [
              "\n",
              "  <div id=\"df-0497f551-0cff-4397-8d47-72fca8047ca4\" class=\"colab-df-container\">\n",
              "    <div>\n",
              "<style scoped>\n",
              "    .dataframe tbody tr th:only-of-type {\n",
              "        vertical-align: middle;\n",
              "    }\n",
              "\n",
              "    .dataframe tbody tr th {\n",
              "        vertical-align: top;\n",
              "    }\n",
              "\n",
              "    .dataframe thead th {\n",
              "        text-align: right;\n",
              "    }\n",
              "</style>\n",
              "<table border=\"1\" class=\"dataframe\">\n",
              "  <thead>\n",
              "    <tr style=\"text-align: right;\">\n",
              "      <th></th>\n",
              "      <th>Thn</th>\n",
              "      <th>bln</th>\n",
              "      <th>tgl</th>\n",
              "      <th>temp_rata-rata</th>\n",
              "      <th>lembab_rata-rata</th>\n",
              "      <th>ch</th>\n",
              "      <th>cahaya_jam</th>\n",
              "      <th>curah_hujan_kategori_rendah</th>\n",
              "      <th>curah_hujan_kategori_sedang</th>\n",
              "      <th>curah_hujan_kategori_tinggi</th>\n",
              "    </tr>\n",
              "  </thead>\n",
              "  <tbody>\n",
              "    <tr>\n",
              "      <th>0</th>\n",
              "      <td>2022</td>\n",
              "      <td>1</td>\n",
              "      <td>1</td>\n",
              "      <td>27.0</td>\n",
              "      <td>84.0</td>\n",
              "      <td>1.0</td>\n",
              "      <td>3.5</td>\n",
              "      <td>1</td>\n",
              "      <td>0</td>\n",
              "      <td>0</td>\n",
              "    </tr>\n",
              "    <tr>\n",
              "      <th>1</th>\n",
              "      <td>2022</td>\n",
              "      <td>1</td>\n",
              "      <td>2</td>\n",
              "      <td>25.8</td>\n",
              "      <td>91.0</td>\n",
              "      <td>8.1</td>\n",
              "      <td>2.5</td>\n",
              "      <td>1</td>\n",
              "      <td>0</td>\n",
              "      <td>0</td>\n",
              "    </tr>\n",
              "    <tr>\n",
              "      <th>2</th>\n",
              "      <td>2022</td>\n",
              "      <td>1</td>\n",
              "      <td>3</td>\n",
              "      <td>26.3</td>\n",
              "      <td>86.0</td>\n",
              "      <td>29.3</td>\n",
              "      <td>2.0</td>\n",
              "      <td>0</td>\n",
              "      <td>1</td>\n",
              "      <td>0</td>\n",
              "    </tr>\n",
              "    <tr>\n",
              "      <th>3</th>\n",
              "      <td>2022</td>\n",
              "      <td>1</td>\n",
              "      <td>4</td>\n",
              "      <td>26.7</td>\n",
              "      <td>87.0</td>\n",
              "      <td>0.5</td>\n",
              "      <td>5.5</td>\n",
              "      <td>1</td>\n",
              "      <td>0</td>\n",
              "      <td>0</td>\n",
              "    </tr>\n",
              "    <tr>\n",
              "      <th>4</th>\n",
              "      <td>2022</td>\n",
              "      <td>1</td>\n",
              "      <td>5</td>\n",
              "      <td>26.9</td>\n",
              "      <td>85.0</td>\n",
              "      <td>22.3</td>\n",
              "      <td>0.0</td>\n",
              "      <td>0</td>\n",
              "      <td>1</td>\n",
              "      <td>0</td>\n",
              "    </tr>\n",
              "  </tbody>\n",
              "</table>\n",
              "</div>\n",
              "    <div class=\"colab-df-buttons\">\n",
              "\n",
              "  <div class=\"colab-df-container\">\n",
              "    <button class=\"colab-df-convert\" onclick=\"convertToInteractive('df-0497f551-0cff-4397-8d47-72fca8047ca4')\"\n",
              "            title=\"Convert this dataframe to an interactive table.\"\n",
              "            style=\"display:none;\">\n",
              "\n",
              "  <svg xmlns=\"http://www.w3.org/2000/svg\" height=\"24px\" viewBox=\"0 -960 960 960\">\n",
              "    <path d=\"M120-120v-720h720v720H120Zm60-500h600v-160H180v160Zm220 220h160v-160H400v160Zm0 220h160v-160H400v160ZM180-400h160v-160H180v160Zm440 0h160v-160H620v160ZM180-180h160v-160H180v160Zm440 0h160v-160H620v160Z\"/>\n",
              "  </svg>\n",
              "    </button>\n",
              "\n",
              "  <style>\n",
              "    .colab-df-container {\n",
              "      display:flex;\n",
              "      gap: 12px;\n",
              "    }\n",
              "\n",
              "    .colab-df-convert {\n",
              "      background-color: #E8F0FE;\n",
              "      border: none;\n",
              "      border-radius: 50%;\n",
              "      cursor: pointer;\n",
              "      display: none;\n",
              "      fill: #1967D2;\n",
              "      height: 32px;\n",
              "      padding: 0 0 0 0;\n",
              "      width: 32px;\n",
              "    }\n",
              "\n",
              "    .colab-df-convert:hover {\n",
              "      background-color: #E2EBFA;\n",
              "      box-shadow: 0px 1px 2px rgba(60, 64, 67, 0.3), 0px 1px 3px 1px rgba(60, 64, 67, 0.15);\n",
              "      fill: #174EA6;\n",
              "    }\n",
              "\n",
              "    .colab-df-buttons div {\n",
              "      margin-bottom: 4px;\n",
              "    }\n",
              "\n",
              "    [theme=dark] .colab-df-convert {\n",
              "      background-color: #3B4455;\n",
              "      fill: #D2E3FC;\n",
              "    }\n",
              "\n",
              "    [theme=dark] .colab-df-convert:hover {\n",
              "      background-color: #434B5C;\n",
              "      box-shadow: 0px 1px 3px 1px rgba(0, 0, 0, 0.15);\n",
              "      filter: drop-shadow(0px 1px 2px rgba(0, 0, 0, 0.3));\n",
              "      fill: #FFFFFF;\n",
              "    }\n",
              "  </style>\n",
              "\n",
              "    <script>\n",
              "      const buttonEl =\n",
              "        document.querySelector('#df-0497f551-0cff-4397-8d47-72fca8047ca4 button.colab-df-convert');\n",
              "      buttonEl.style.display =\n",
              "        google.colab.kernel.accessAllowed ? 'block' : 'none';\n",
              "\n",
              "      async function convertToInteractive(key) {\n",
              "        const element = document.querySelector('#df-0497f551-0cff-4397-8d47-72fca8047ca4');\n",
              "        const dataTable =\n",
              "          await google.colab.kernel.invokeFunction('convertToInteractive',\n",
              "                                                    [key], {});\n",
              "        if (!dataTable) return;\n",
              "\n",
              "        const docLinkHtml = 'Like what you see? Visit the ' +\n",
              "          '<a target=\"_blank\" href=https://colab.research.google.com/notebooks/data_table.ipynb>data table notebook</a>'\n",
              "          + ' to learn more about interactive tables.';\n",
              "        element.innerHTML = '';\n",
              "        dataTable['output_type'] = 'display_data';\n",
              "        await google.colab.output.renderOutput(dataTable, element);\n",
              "        const docLink = document.createElement('div');\n",
              "        docLink.innerHTML = docLinkHtml;\n",
              "        element.appendChild(docLink);\n",
              "      }\n",
              "    </script>\n",
              "  </div>\n",
              "\n",
              "\n",
              "<div id=\"df-090d5d11-9daf-425c-b8c8-08783d61e8f9\">\n",
              "  <button class=\"colab-df-quickchart\" onclick=\"quickchart('df-090d5d11-9daf-425c-b8c8-08783d61e8f9')\"\n",
              "            title=\"Suggest charts\"\n",
              "            style=\"display:none;\">\n",
              "\n",
              "<svg xmlns=\"http://www.w3.org/2000/svg\" height=\"24px\"viewBox=\"0 0 24 24\"\n",
              "     width=\"24px\">\n",
              "    <g>\n",
              "        <path d=\"M19 3H5c-1.1 0-2 .9-2 2v14c0 1.1.9 2 2 2h14c1.1 0 2-.9 2-2V5c0-1.1-.9-2-2-2zM9 17H7v-7h2v7zm4 0h-2V7h2v10zm4 0h-2v-4h2v4z\"/>\n",
              "    </g>\n",
              "</svg>\n",
              "  </button>\n",
              "\n",
              "<style>\n",
              "  .colab-df-quickchart {\n",
              "      --bg-color: #E8F0FE;\n",
              "      --fill-color: #1967D2;\n",
              "      --hover-bg-color: #E2EBFA;\n",
              "      --hover-fill-color: #174EA6;\n",
              "      --disabled-fill-color: #AAA;\n",
              "      --disabled-bg-color: #DDD;\n",
              "  }\n",
              "\n",
              "  [theme=dark] .colab-df-quickchart {\n",
              "      --bg-color: #3B4455;\n",
              "      --fill-color: #D2E3FC;\n",
              "      --hover-bg-color: #434B5C;\n",
              "      --hover-fill-color: #FFFFFF;\n",
              "      --disabled-bg-color: #3B4455;\n",
              "      --disabled-fill-color: #666;\n",
              "  }\n",
              "\n",
              "  .colab-df-quickchart {\n",
              "    background-color: var(--bg-color);\n",
              "    border: none;\n",
              "    border-radius: 50%;\n",
              "    cursor: pointer;\n",
              "    display: none;\n",
              "    fill: var(--fill-color);\n",
              "    height: 32px;\n",
              "    padding: 0;\n",
              "    width: 32px;\n",
              "  }\n",
              "\n",
              "  .colab-df-quickchart:hover {\n",
              "    background-color: var(--hover-bg-color);\n",
              "    box-shadow: 0 1px 2px rgba(60, 64, 67, 0.3), 0 1px 3px 1px rgba(60, 64, 67, 0.15);\n",
              "    fill: var(--button-hover-fill-color);\n",
              "  }\n",
              "\n",
              "  .colab-df-quickchart-complete:disabled,\n",
              "  .colab-df-quickchart-complete:disabled:hover {\n",
              "    background-color: var(--disabled-bg-color);\n",
              "    fill: var(--disabled-fill-color);\n",
              "    box-shadow: none;\n",
              "  }\n",
              "\n",
              "  .colab-df-spinner {\n",
              "    border: 2px solid var(--fill-color);\n",
              "    border-color: transparent;\n",
              "    border-bottom-color: var(--fill-color);\n",
              "    animation:\n",
              "      spin 1s steps(1) infinite;\n",
              "  }\n",
              "\n",
              "  @keyframes spin {\n",
              "    0% {\n",
              "      border-color: transparent;\n",
              "      border-bottom-color: var(--fill-color);\n",
              "      border-left-color: var(--fill-color);\n",
              "    }\n",
              "    20% {\n",
              "      border-color: transparent;\n",
              "      border-left-color: var(--fill-color);\n",
              "      border-top-color: var(--fill-color);\n",
              "    }\n",
              "    30% {\n",
              "      border-color: transparent;\n",
              "      border-left-color: var(--fill-color);\n",
              "      border-top-color: var(--fill-color);\n",
              "      border-right-color: var(--fill-color);\n",
              "    }\n",
              "    40% {\n",
              "      border-color: transparent;\n",
              "      border-right-color: var(--fill-color);\n",
              "      border-top-color: var(--fill-color);\n",
              "    }\n",
              "    60% {\n",
              "      border-color: transparent;\n",
              "      border-right-color: var(--fill-color);\n",
              "    }\n",
              "    80% {\n",
              "      border-color: transparent;\n",
              "      border-right-color: var(--fill-color);\n",
              "      border-bottom-color: var(--fill-color);\n",
              "    }\n",
              "    90% {\n",
              "      border-color: transparent;\n",
              "      border-bottom-color: var(--fill-color);\n",
              "    }\n",
              "  }\n",
              "</style>\n",
              "\n",
              "  <script>\n",
              "    async function quickchart(key) {\n",
              "      const quickchartButtonEl =\n",
              "        document.querySelector('#' + key + ' button');\n",
              "      quickchartButtonEl.disabled = true;  // To prevent multiple clicks.\n",
              "      quickchartButtonEl.classList.add('colab-df-spinner');\n",
              "      try {\n",
              "        const charts = await google.colab.kernel.invokeFunction(\n",
              "            'suggestCharts', [key], {});\n",
              "      } catch (error) {\n",
              "        console.error('Error during call to suggestCharts:', error);\n",
              "      }\n",
              "      quickchartButtonEl.classList.remove('colab-df-spinner');\n",
              "      quickchartButtonEl.classList.add('colab-df-quickchart-complete');\n",
              "    }\n",
              "    (() => {\n",
              "      let quickchartButtonEl =\n",
              "        document.querySelector('#df-090d5d11-9daf-425c-b8c8-08783d61e8f9 button');\n",
              "      quickchartButtonEl.style.display =\n",
              "        google.colab.kernel.accessAllowed ? 'block' : 'none';\n",
              "    })();\n",
              "  </script>\n",
              "</div>\n",
              "    </div>\n",
              "  </div>\n"
            ],
            "application/vnd.google.colaboratory.intrinsic+json": {
              "type": "dataframe",
              "variable_name": "df",
              "summary": "{\n  \"name\": \"df\",\n  \"rows\": 719,\n  \"fields\": [\n    {\n      \"column\": \"Thn\",\n      \"properties\": {\n        \"dtype\": \"number\",\n        \"std\": 0,\n        \"min\": 2022,\n        \"max\": 2023,\n        \"num_unique_values\": 2,\n        \"samples\": [\n          2023,\n          2022\n        ],\n        \"semantic_type\": \"\",\n        \"description\": \"\"\n      }\n    },\n    {\n      \"column\": \"bln\",\n      \"properties\": {\n        \"dtype\": \"number\",\n        \"std\": 3,\n        \"min\": 1,\n        \"max\": 12,\n        \"num_unique_values\": 12,\n        \"samples\": [\n          11,\n          10\n        ],\n        \"semantic_type\": \"\",\n        \"description\": \"\"\n      }\n    },\n    {\n      \"column\": \"tgl\",\n      \"properties\": {\n        \"dtype\": \"number\",\n        \"std\": 8,\n        \"min\": 1,\n        \"max\": 31,\n        \"num_unique_values\": 31,\n        \"samples\": [\n          28,\n          16\n        ],\n        \"semantic_type\": \"\",\n        \"description\": \"\"\n      }\n    },\n    {\n      \"column\": \"temp_rata-rata\",\n      \"properties\": {\n        \"dtype\": \"number\",\n        \"std\": 1.4560323649355076,\n        \"min\": 23.7,\n        \"max\": 32.8,\n        \"num_unique_values\": 82,\n        \"samples\": [\n          28.6,\n          27.0\n        ],\n        \"semantic_type\": \"\",\n        \"description\": \"\"\n      }\n    },\n    {\n      \"column\": \"lembab_rata-rata\",\n      \"properties\": {\n        \"dtype\": \"number\",\n        \"std\": 6.622469206844636,\n        \"min\": 57.0,\n        \"max\": 99.0,\n        \"num_unique_values\": 42,\n        \"samples\": [\n          76.0,\n          69.0\n        ],\n        \"semantic_type\": \"\",\n        \"description\": \"\"\n      }\n    },\n    {\n      \"column\": \"ch\",\n      \"properties\": {\n        \"dtype\": \"number\",\n        \"std\": 11.958008142027005,\n        \"min\": 0.0,\n        \"max\": 32.0,\n        \"num_unique_values\": 148,\n        \"samples\": [\n          11.2,\n          3.8\n        ],\n        \"semantic_type\": \"\",\n        \"description\": \"\"\n      }\n    },\n    {\n      \"column\": \"cahaya_jam\",\n      \"properties\": {\n        \"dtype\": \"number\",\n        \"std\": 526.7599800847087,\n        \"min\": 0.0,\n        \"max\": 9999.0,\n        \"num_unique_values\": 100,\n        \"samples\": [\n          9.1,\n          5.3\n        ],\n        \"semantic_type\": \"\",\n        \"description\": \"\"\n      }\n    },\n    {\n      \"column\": \"curah_hujan_kategori_rendah\",\n      \"properties\": {\n        \"dtype\": \"uint8\",\n        \"num_unique_values\": 2,\n        \"samples\": [\n          0,\n          1\n        ],\n        \"semantic_type\": \"\",\n        \"description\": \"\"\n      }\n    },\n    {\n      \"column\": \"curah_hujan_kategori_sedang\",\n      \"properties\": {\n        \"dtype\": \"uint8\",\n        \"num_unique_values\": 2,\n        \"samples\": [\n          1,\n          0\n        ],\n        \"semantic_type\": \"\",\n        \"description\": \"\"\n      }\n    },\n    {\n      \"column\": \"curah_hujan_kategori_tinggi\",\n      \"properties\": {\n        \"dtype\": \"uint8\",\n        \"num_unique_values\": 1,\n        \"samples\": [\n          0\n        ],\n        \"semantic_type\": \"\",\n        \"description\": \"\"\n      }\n    }\n  ]\n}"
            }
          },
          "metadata": {},
          "execution_count": 113
        }
      ]
    },
    {
      "cell_type": "markdown",
      "source": [
        "Output diatas merupakan hasil akhir dari dataset saya"
      ],
      "metadata": {
        "id": "AsDG7hVuYXrz"
      }
    },
    {
      "cell_type": "code",
      "source": [
        "df.to_csv('Data Cleaned.csv', index=False)"
      ],
      "metadata": {
        "id": "z5OiomOiJgFb"
      },
      "execution_count": 114,
      "outputs": []
    },
    {
      "cell_type": "markdown",
      "source": [
        "Kode tersebut bertujuan untuk menyimpan DataFrame df ke dalam file CSV dengan nama 'Data Cleaned.csv'. Parameter index=False digunakan untuk menonaktifkan penulisan indeks DataFrame ke dalam file CSV. Dengan demikian, indeks DataFrame tidak akan disertakan sebagai kolom tambahan di file CSV yang dihasilkan."
      ],
      "metadata": {
        "id": "yRf8Z3pNYhsX"
      }
    },
    {
      "cell_type": "markdown",
      "source": [
        "#**Import Library dan Resource yang akan digunakan**"
      ],
      "metadata": {
        "id": "ed1j0-NfSs2E"
      }
    },
    {
      "cell_type": "markdown",
      "source": [
        "#**Modelling Predict**"
      ],
      "metadata": {
        "id": "pg2Dj-iupVIP"
      }
    },
    {
      "cell_type": "markdown",
      "source": [
        "**Core Library**"
      ],
      "metadata": {
        "id": "qGgVNY-zSvyQ"
      }
    },
    {
      "cell_type": "code",
      "source": [
        "import numpy as np\n",
        "import pandas as pd\n",
        "import matplotlib.pyplot as plt"
      ],
      "metadata": {
        "id": "pN_XQx9rS3xQ"
      },
      "execution_count": 115,
      "outputs": []
    },
    {
      "cell_type": "markdown",
      "source": [
        "**Library untuk Splitting Data**"
      ],
      "metadata": {
        "id": "plxma9TZS06i"
      }
    },
    {
      "cell_type": "code",
      "source": [
        "from sklearn.model_selection import train_test_split"
      ],
      "metadata": {
        "id": "8VEpX9pcS9QX"
      },
      "execution_count": 116,
      "outputs": []
    },
    {
      "cell_type": "markdown",
      "source": [
        "**Library untuk Normalisasi Data**"
      ],
      "metadata": {
        "id": "EyQyBf0QT39M"
      }
    },
    {
      "cell_type": "code",
      "source": [
        "from sklearn.preprocessing import MinMaxScaler"
      ],
      "metadata": {
        "id": "U9uWDtPAUCyT"
      },
      "execution_count": 117,
      "outputs": []
    },
    {
      "cell_type": "markdown",
      "source": [
        "**Library Untuk Build Model**"
      ],
      "metadata": {
        "id": "40y-oFEWUFLQ"
      }
    },
    {
      "cell_type": "code",
      "source": [
        "from sklearn.naive_bayes import GaussianNB\n",
        "from sklearn.neighbors import KNeighborsClassifier\n",
        "from sklearn.tree import DecisionTreeClassifier\n",
        "from sklearn.cluster import KMeans\n",
        "from sklearn.cluster import AgglomerativeClustering\n",
        "\n",
        "from sklearn.metrics import accuracy_score"
      ],
      "metadata": {
        "id": "JXSO8vB7UIZG"
      },
      "execution_count": 118,
      "outputs": []
    },
    {
      "cell_type": "markdown",
      "source": [
        "###**Pre-Processing**"
      ],
      "metadata": {
        "id": "iF87LsIOpifr"
      }
    },
    {
      "cell_type": "markdown",
      "source": [
        "#####**Split Data**"
      ],
      "metadata": {
        "id": "L7lEzPqFpu0z"
      }
    },
    {
      "cell_type": "code",
      "source": [
        "x = df.drop('temp_rata-rata', axis=1)\n",
        "y = df['temp_rata-rata']\n",
        "\n",
        "x_train, x_test, y_train, y_test = train_test_split(x, y, test_size=0.3, random_state=42)"
      ],
      "metadata": {
        "id": "z7iyppf9pwlj"
      },
      "execution_count": 119,
      "outputs": []
    },
    {
      "cell_type": "markdown",
      "source": [
        "Kode tersebut adalah untuk membagi dataset menjadi fitur (x) dan target (y), kemudian membagi dataset tersebut menjadi data latih (train) dan data uji (test) menggunakan metode train_test_split dari library tertentu (yang harus diimport terlebih dahulu). Data uji akan memiliki proporsi sebesar 30% dari keseluruhan dataset, sedangkan data latih akan memiliki proporsi sebesar 70%. Parameter random_state=42 digunakan untuk memastikan reproduktibilitas hasil pembagian data."
      ],
      "metadata": {
        "id": "Y8VMrpvVSll_"
      }
    },
    {
      "cell_type": "markdown",
      "source": [
        "#####**Normalisasi Data**"
      ],
      "metadata": {
        "id": "Ig5yHNcBvZf6"
      }
    },
    {
      "cell_type": "code",
      "source": [
        "scaler = MinMaxScaler()\n",
        "\n",
        "x_train_norm = scaler.fit_transform(x_train)\n",
        "\n",
        "x_test_norm = scaler.transform(x_test)"
      ],
      "metadata": {
        "id": "T4gkIhKEvaWY"
      },
      "execution_count": 120,
      "outputs": []
    },
    {
      "cell_type": "markdown",
      "source": [
        "Kode tersebut digunakan untuk melakukan normalisasi data pada fitur-fitur dalam dataset. Pertama, sebuah objek scaler dari kelas MinMaxScaler dibuat. Kemudian, metode fit_transform() dari scaler tersebut digunakan untuk melakukan normalisasi terhadap data latih (x_train), yaitu mengubah nilai-nilai fitur-fitur sehingga rentang nilainya menjadi antara 0 dan 1. Setelah itu, metode transform() digunakan untuk menerapkan normalisasi yang sama pada data uji (x_test), menggunakan parameter normalisasi yang telah dipelajari dari data latih. Dengan demikian, kedua dataset akan memiliki rentang nilai yang seragam, sehingga lebih mudah untuk diproses oleh model machine learning."
      ],
      "metadata": {
        "id": "M0PXTb1UfgSa"
      }
    },
    {
      "cell_type": "markdown",
      "source": [
        "####**Gaussian Naive Bayes**"
      ],
      "metadata": {
        "id": "IxuT4loTxBav"
      }
    },
    {
      "cell_type": "code",
      "source": [
        "gnb = GaussianNB()\n",
        "# Membagi data menjadi kategori berdasarkan interval\n",
        "y_train_categorical = pd.cut(y_train, bins=3, labels=False)\n",
        "\n",
        "# Sekarang variabel `y_train_categorical` berisi label kategori yang sesuai untuk model GNB\n",
        "gnb.fit(x_train_norm, y_train_categorical)"
      ],
      "metadata": {
        "colab": {
          "base_uri": "https://localhost:8080/",
          "height": 74
        },
        "id": "PrO53neMxMOg",
        "outputId": "9401789a-e938-4f96-fcaa-0cee804a35ce"
      },
      "execution_count": 121,
      "outputs": [
        {
          "output_type": "execute_result",
          "data": {
            "text/plain": [
              "GaussianNB()"
            ],
            "text/html": [
              "<style>#sk-container-id-7 {color: black;background-color: white;}#sk-container-id-7 pre{padding: 0;}#sk-container-id-7 div.sk-toggleable {background-color: white;}#sk-container-id-7 label.sk-toggleable__label {cursor: pointer;display: block;width: 100%;margin-bottom: 0;padding: 0.3em;box-sizing: border-box;text-align: center;}#sk-container-id-7 label.sk-toggleable__label-arrow:before {content: \"▸\";float: left;margin-right: 0.25em;color: #696969;}#sk-container-id-7 label.sk-toggleable__label-arrow:hover:before {color: black;}#sk-container-id-7 div.sk-estimator:hover label.sk-toggleable__label-arrow:before {color: black;}#sk-container-id-7 div.sk-toggleable__content {max-height: 0;max-width: 0;overflow: hidden;text-align: left;background-color: #f0f8ff;}#sk-container-id-7 div.sk-toggleable__content pre {margin: 0.2em;color: black;border-radius: 0.25em;background-color: #f0f8ff;}#sk-container-id-7 input.sk-toggleable__control:checked~div.sk-toggleable__content {max-height: 200px;max-width: 100%;overflow: auto;}#sk-container-id-7 input.sk-toggleable__control:checked~label.sk-toggleable__label-arrow:before {content: \"▾\";}#sk-container-id-7 div.sk-estimator input.sk-toggleable__control:checked~label.sk-toggleable__label {background-color: #d4ebff;}#sk-container-id-7 div.sk-label input.sk-toggleable__control:checked~label.sk-toggleable__label {background-color: #d4ebff;}#sk-container-id-7 input.sk-hidden--visually {border: 0;clip: rect(1px 1px 1px 1px);clip: rect(1px, 1px, 1px, 1px);height: 1px;margin: -1px;overflow: hidden;padding: 0;position: absolute;width: 1px;}#sk-container-id-7 div.sk-estimator {font-family: monospace;background-color: #f0f8ff;border: 1px dotted black;border-radius: 0.25em;box-sizing: border-box;margin-bottom: 0.5em;}#sk-container-id-7 div.sk-estimator:hover {background-color: #d4ebff;}#sk-container-id-7 div.sk-parallel-item::after {content: \"\";width: 100%;border-bottom: 1px solid gray;flex-grow: 1;}#sk-container-id-7 div.sk-label:hover label.sk-toggleable__label {background-color: #d4ebff;}#sk-container-id-7 div.sk-serial::before {content: \"\";position: absolute;border-left: 1px solid gray;box-sizing: border-box;top: 0;bottom: 0;left: 50%;z-index: 0;}#sk-container-id-7 div.sk-serial {display: flex;flex-direction: column;align-items: center;background-color: white;padding-right: 0.2em;padding-left: 0.2em;position: relative;}#sk-container-id-7 div.sk-item {position: relative;z-index: 1;}#sk-container-id-7 div.sk-parallel {display: flex;align-items: stretch;justify-content: center;background-color: white;position: relative;}#sk-container-id-7 div.sk-item::before, #sk-container-id-7 div.sk-parallel-item::before {content: \"\";position: absolute;border-left: 1px solid gray;box-sizing: border-box;top: 0;bottom: 0;left: 50%;z-index: -1;}#sk-container-id-7 div.sk-parallel-item {display: flex;flex-direction: column;z-index: 1;position: relative;background-color: white;}#sk-container-id-7 div.sk-parallel-item:first-child::after {align-self: flex-end;width: 50%;}#sk-container-id-7 div.sk-parallel-item:last-child::after {align-self: flex-start;width: 50%;}#sk-container-id-7 div.sk-parallel-item:only-child::after {width: 0;}#sk-container-id-7 div.sk-dashed-wrapped {border: 1px dashed gray;margin: 0 0.4em 0.5em 0.4em;box-sizing: border-box;padding-bottom: 0.4em;background-color: white;}#sk-container-id-7 div.sk-label label {font-family: monospace;font-weight: bold;display: inline-block;line-height: 1.2em;}#sk-container-id-7 div.sk-label-container {text-align: center;}#sk-container-id-7 div.sk-container {/* jupyter's `normalize.less` sets `[hidden] { display: none; }` but bootstrap.min.css set `[hidden] { display: none !important; }` so we also need the `!important` here to be able to override the default hidden behavior on the sphinx rendered scikit-learn.org. See: https://github.com/scikit-learn/scikit-learn/issues/21755 */display: inline-block !important;position: relative;}#sk-container-id-7 div.sk-text-repr-fallback {display: none;}</style><div id=\"sk-container-id-7\" class=\"sk-top-container\"><div class=\"sk-text-repr-fallback\"><pre>GaussianNB()</pre><b>In a Jupyter environment, please rerun this cell to show the HTML representation or trust the notebook. <br />On GitHub, the HTML representation is unable to render, please try loading this page with nbviewer.org.</b></div><div class=\"sk-container\" hidden><div class=\"sk-item\"><div class=\"sk-estimator sk-toggleable\"><input class=\"sk-toggleable__control sk-hidden--visually\" id=\"sk-estimator-id-7\" type=\"checkbox\" checked><label for=\"sk-estimator-id-7\" class=\"sk-toggleable__label sk-toggleable__label-arrow\">GaussianNB</label><div class=\"sk-toggleable__content\"><pre>GaussianNB()</pre></div></div></div></div></div>"
            ]
          },
          "metadata": {},
          "execution_count": 121
        }
      ]
    },
    {
      "cell_type": "markdown",
      "source": [
        "Kode tersebut melatih model Gaussian Naive Bayes (GNB) dengan data yang telah dinormalisasi. Pertama, model GNB didefinisikan menggunakan kelas GaussianNB(). Selanjutnya, target (y_train) dibagi menjadi tiga kategori menggunakan metode pd.cut(), lalu model GNB dilatih dengan data latih yang telah dinormalisasi (x_train_norm) dan target yang telah dikategorikan (y_train_categorical) menggunakan metode fit(). Dengan demikian, model GNB siap digunakan untuk prediksi berdasarkan data uji yang telah dinormalisasi."
      ],
      "metadata": {
        "id": "T88g2gl2g1Ov"
      }
    },
    {
      "cell_type": "markdown",
      "source": [
        "####**K-Nearest Neighbor**"
      ],
      "metadata": {
        "id": "SraEhERuyTnI"
      }
    },
    {
      "cell_type": "code",
      "source": [
        "knn = KNeighborsClassifier()\n",
        "\n",
        "# Membagi data menjadi kategori berdasarkan interval\n",
        "y_train_categorical = pd.cut(y_train, bins=3, labels=False)\n",
        "\n",
        "# Sekarang variabel `y_train_categorical` berisi label kategori yang sesuai untuk model KNeighborsClassifier\n",
        "knn.fit(x_train_norm, y_train_categorical)"
      ],
      "metadata": {
        "colab": {
          "base_uri": "https://localhost:8080/",
          "height": 74
        },
        "id": "3ThI2n8hyYwZ",
        "outputId": "bc114c3f-e42a-4b0d-8c1c-0cb1bd9cf1a0"
      },
      "execution_count": 122,
      "outputs": [
        {
          "output_type": "execute_result",
          "data": {
            "text/plain": [
              "KNeighborsClassifier()"
            ],
            "text/html": [
              "<style>#sk-container-id-8 {color: black;background-color: white;}#sk-container-id-8 pre{padding: 0;}#sk-container-id-8 div.sk-toggleable {background-color: white;}#sk-container-id-8 label.sk-toggleable__label {cursor: pointer;display: block;width: 100%;margin-bottom: 0;padding: 0.3em;box-sizing: border-box;text-align: center;}#sk-container-id-8 label.sk-toggleable__label-arrow:before {content: \"▸\";float: left;margin-right: 0.25em;color: #696969;}#sk-container-id-8 label.sk-toggleable__label-arrow:hover:before {color: black;}#sk-container-id-8 div.sk-estimator:hover label.sk-toggleable__label-arrow:before {color: black;}#sk-container-id-8 div.sk-toggleable__content {max-height: 0;max-width: 0;overflow: hidden;text-align: left;background-color: #f0f8ff;}#sk-container-id-8 div.sk-toggleable__content pre {margin: 0.2em;color: black;border-radius: 0.25em;background-color: #f0f8ff;}#sk-container-id-8 input.sk-toggleable__control:checked~div.sk-toggleable__content {max-height: 200px;max-width: 100%;overflow: auto;}#sk-container-id-8 input.sk-toggleable__control:checked~label.sk-toggleable__label-arrow:before {content: \"▾\";}#sk-container-id-8 div.sk-estimator input.sk-toggleable__control:checked~label.sk-toggleable__label {background-color: #d4ebff;}#sk-container-id-8 div.sk-label input.sk-toggleable__control:checked~label.sk-toggleable__label {background-color: #d4ebff;}#sk-container-id-8 input.sk-hidden--visually {border: 0;clip: rect(1px 1px 1px 1px);clip: rect(1px, 1px, 1px, 1px);height: 1px;margin: -1px;overflow: hidden;padding: 0;position: absolute;width: 1px;}#sk-container-id-8 div.sk-estimator {font-family: monospace;background-color: #f0f8ff;border: 1px dotted black;border-radius: 0.25em;box-sizing: border-box;margin-bottom: 0.5em;}#sk-container-id-8 div.sk-estimator:hover {background-color: #d4ebff;}#sk-container-id-8 div.sk-parallel-item::after {content: \"\";width: 100%;border-bottom: 1px solid gray;flex-grow: 1;}#sk-container-id-8 div.sk-label:hover label.sk-toggleable__label {background-color: #d4ebff;}#sk-container-id-8 div.sk-serial::before {content: \"\";position: absolute;border-left: 1px solid gray;box-sizing: border-box;top: 0;bottom: 0;left: 50%;z-index: 0;}#sk-container-id-8 div.sk-serial {display: flex;flex-direction: column;align-items: center;background-color: white;padding-right: 0.2em;padding-left: 0.2em;position: relative;}#sk-container-id-8 div.sk-item {position: relative;z-index: 1;}#sk-container-id-8 div.sk-parallel {display: flex;align-items: stretch;justify-content: center;background-color: white;position: relative;}#sk-container-id-8 div.sk-item::before, #sk-container-id-8 div.sk-parallel-item::before {content: \"\";position: absolute;border-left: 1px solid gray;box-sizing: border-box;top: 0;bottom: 0;left: 50%;z-index: -1;}#sk-container-id-8 div.sk-parallel-item {display: flex;flex-direction: column;z-index: 1;position: relative;background-color: white;}#sk-container-id-8 div.sk-parallel-item:first-child::after {align-self: flex-end;width: 50%;}#sk-container-id-8 div.sk-parallel-item:last-child::after {align-self: flex-start;width: 50%;}#sk-container-id-8 div.sk-parallel-item:only-child::after {width: 0;}#sk-container-id-8 div.sk-dashed-wrapped {border: 1px dashed gray;margin: 0 0.4em 0.5em 0.4em;box-sizing: border-box;padding-bottom: 0.4em;background-color: white;}#sk-container-id-8 div.sk-label label {font-family: monospace;font-weight: bold;display: inline-block;line-height: 1.2em;}#sk-container-id-8 div.sk-label-container {text-align: center;}#sk-container-id-8 div.sk-container {/* jupyter's `normalize.less` sets `[hidden] { display: none; }` but bootstrap.min.css set `[hidden] { display: none !important; }` so we also need the `!important` here to be able to override the default hidden behavior on the sphinx rendered scikit-learn.org. See: https://github.com/scikit-learn/scikit-learn/issues/21755 */display: inline-block !important;position: relative;}#sk-container-id-8 div.sk-text-repr-fallback {display: none;}</style><div id=\"sk-container-id-8\" class=\"sk-top-container\"><div class=\"sk-text-repr-fallback\"><pre>KNeighborsClassifier()</pre><b>In a Jupyter environment, please rerun this cell to show the HTML representation or trust the notebook. <br />On GitHub, the HTML representation is unable to render, please try loading this page with nbviewer.org.</b></div><div class=\"sk-container\" hidden><div class=\"sk-item\"><div class=\"sk-estimator sk-toggleable\"><input class=\"sk-toggleable__control sk-hidden--visually\" id=\"sk-estimator-id-8\" type=\"checkbox\" checked><label for=\"sk-estimator-id-8\" class=\"sk-toggleable__label sk-toggleable__label-arrow\">KNeighborsClassifier</label><div class=\"sk-toggleable__content\"><pre>KNeighborsClassifier()</pre></div></div></div></div></div>"
            ]
          },
          "metadata": {},
          "execution_count": 122
        }
      ]
    },
    {
      "cell_type": "markdown",
      "source": [
        "Kode tersebut digunakan untuk melatih model K-Nearest Neighbors (KNN) dengan data yang telah dinormalisasi sebelumnya. Pertama, model KNN didefinisikan menggunakan kelas KNeighborsClassifier(). Selanjutnya, target (y_train) dibagi menjadi kategori menggunakan metode pd.cut(), dengan membagi data ke dalam tiga interval (bins=3) dan menghapus label (labels=False). Setelah itu, model KNN dilatih dengan menggunakan data latih yang telah dinormalisasi (x_train_norm) dan target yang telah dikategorikan (y_train_categorical) menggunakan metode fit(). Dengan demikian, model KNN siap digunakan untuk melakukan prediksi berdasarkan data uji yang telah dinormalisasi."
      ],
      "metadata": {
        "id": "1RAM4_3EheNO"
      }
    },
    {
      "cell_type": "markdown",
      "source": [
        "####**Decision Tree**"
      ],
      "metadata": {
        "id": "KCYzs5WCy6cb"
      }
    },
    {
      "cell_type": "code",
      "source": [
        "dtc = DecisionTreeClassifier()\n",
        "\n",
        "# Membagi data menjadi kategori berdasarkan interval\n",
        "y_train_categorical = pd.cut(y_train, bins=3, labels=False)\n",
        "\n",
        "# Sekarang variabel `y_train_categorical` berisi label kategori yang sesuai untuk model DecisionTreeClassifier\n",
        "dtc.fit(x_train_norm, y_train_categorical)"
      ],
      "metadata": {
        "colab": {
          "base_uri": "https://localhost:8080/",
          "height": 74
        },
        "id": "vlOghvhXy-IZ",
        "outputId": "79559868-9853-4e5c-810e-34ed7f9b64a7"
      },
      "execution_count": 123,
      "outputs": [
        {
          "output_type": "execute_result",
          "data": {
            "text/plain": [
              "DecisionTreeClassifier()"
            ],
            "text/html": [
              "<style>#sk-container-id-9 {color: black;background-color: white;}#sk-container-id-9 pre{padding: 0;}#sk-container-id-9 div.sk-toggleable {background-color: white;}#sk-container-id-9 label.sk-toggleable__label {cursor: pointer;display: block;width: 100%;margin-bottom: 0;padding: 0.3em;box-sizing: border-box;text-align: center;}#sk-container-id-9 label.sk-toggleable__label-arrow:before {content: \"▸\";float: left;margin-right: 0.25em;color: #696969;}#sk-container-id-9 label.sk-toggleable__label-arrow:hover:before {color: black;}#sk-container-id-9 div.sk-estimator:hover label.sk-toggleable__label-arrow:before {color: black;}#sk-container-id-9 div.sk-toggleable__content {max-height: 0;max-width: 0;overflow: hidden;text-align: left;background-color: #f0f8ff;}#sk-container-id-9 div.sk-toggleable__content pre {margin: 0.2em;color: black;border-radius: 0.25em;background-color: #f0f8ff;}#sk-container-id-9 input.sk-toggleable__control:checked~div.sk-toggleable__content {max-height: 200px;max-width: 100%;overflow: auto;}#sk-container-id-9 input.sk-toggleable__control:checked~label.sk-toggleable__label-arrow:before {content: \"▾\";}#sk-container-id-9 div.sk-estimator input.sk-toggleable__control:checked~label.sk-toggleable__label {background-color: #d4ebff;}#sk-container-id-9 div.sk-label input.sk-toggleable__control:checked~label.sk-toggleable__label {background-color: #d4ebff;}#sk-container-id-9 input.sk-hidden--visually {border: 0;clip: rect(1px 1px 1px 1px);clip: rect(1px, 1px, 1px, 1px);height: 1px;margin: -1px;overflow: hidden;padding: 0;position: absolute;width: 1px;}#sk-container-id-9 div.sk-estimator {font-family: monospace;background-color: #f0f8ff;border: 1px dotted black;border-radius: 0.25em;box-sizing: border-box;margin-bottom: 0.5em;}#sk-container-id-9 div.sk-estimator:hover {background-color: #d4ebff;}#sk-container-id-9 div.sk-parallel-item::after {content: \"\";width: 100%;border-bottom: 1px solid gray;flex-grow: 1;}#sk-container-id-9 div.sk-label:hover label.sk-toggleable__label {background-color: #d4ebff;}#sk-container-id-9 div.sk-serial::before {content: \"\";position: absolute;border-left: 1px solid gray;box-sizing: border-box;top: 0;bottom: 0;left: 50%;z-index: 0;}#sk-container-id-9 div.sk-serial {display: flex;flex-direction: column;align-items: center;background-color: white;padding-right: 0.2em;padding-left: 0.2em;position: relative;}#sk-container-id-9 div.sk-item {position: relative;z-index: 1;}#sk-container-id-9 div.sk-parallel {display: flex;align-items: stretch;justify-content: center;background-color: white;position: relative;}#sk-container-id-9 div.sk-item::before, #sk-container-id-9 div.sk-parallel-item::before {content: \"\";position: absolute;border-left: 1px solid gray;box-sizing: border-box;top: 0;bottom: 0;left: 50%;z-index: -1;}#sk-container-id-9 div.sk-parallel-item {display: flex;flex-direction: column;z-index: 1;position: relative;background-color: white;}#sk-container-id-9 div.sk-parallel-item:first-child::after {align-self: flex-end;width: 50%;}#sk-container-id-9 div.sk-parallel-item:last-child::after {align-self: flex-start;width: 50%;}#sk-container-id-9 div.sk-parallel-item:only-child::after {width: 0;}#sk-container-id-9 div.sk-dashed-wrapped {border: 1px dashed gray;margin: 0 0.4em 0.5em 0.4em;box-sizing: border-box;padding-bottom: 0.4em;background-color: white;}#sk-container-id-9 div.sk-label label {font-family: monospace;font-weight: bold;display: inline-block;line-height: 1.2em;}#sk-container-id-9 div.sk-label-container {text-align: center;}#sk-container-id-9 div.sk-container {/* jupyter's `normalize.less` sets `[hidden] { display: none; }` but bootstrap.min.css set `[hidden] { display: none !important; }` so we also need the `!important` here to be able to override the default hidden behavior on the sphinx rendered scikit-learn.org. See: https://github.com/scikit-learn/scikit-learn/issues/21755 */display: inline-block !important;position: relative;}#sk-container-id-9 div.sk-text-repr-fallback {display: none;}</style><div id=\"sk-container-id-9\" class=\"sk-top-container\"><div class=\"sk-text-repr-fallback\"><pre>DecisionTreeClassifier()</pre><b>In a Jupyter environment, please rerun this cell to show the HTML representation or trust the notebook. <br />On GitHub, the HTML representation is unable to render, please try loading this page with nbviewer.org.</b></div><div class=\"sk-container\" hidden><div class=\"sk-item\"><div class=\"sk-estimator sk-toggleable\"><input class=\"sk-toggleable__control sk-hidden--visually\" id=\"sk-estimator-id-9\" type=\"checkbox\" checked><label for=\"sk-estimator-id-9\" class=\"sk-toggleable__label sk-toggleable__label-arrow\">DecisionTreeClassifier</label><div class=\"sk-toggleable__content\"><pre>DecisionTreeClassifier()</pre></div></div></div></div></div>"
            ]
          },
          "metadata": {},
          "execution_count": 123
        }
      ]
    },
    {
      "cell_type": "markdown",
      "source": [
        "\n",
        "Kode tersebut digunakan untuk melatih model Decision Tree Classifier (DTC) dengan data yang telah dinormalisasi sebelumnya. Pertama, model DTC didefinisikan menggunakan kelas DecisionTreeClassifier(). Selanjutnya, target (y_train) dibagi menjadi kategori menggunakan metode pd.cut(), dengan membagi data ke dalam tiga interval (bins=3) dan menghapus label (labels=False). Ini dilakukan untuk mengubah target menjadi bentuk kategori yang dapat digunakan oleh model DTC. Setelah itu, model DTC dilatih dengan menggunakan data latih yang telah dinormalisasi (x_train_norm) dan target yang telah dikategorikan (y_train_categorical) menggunakan metode fit(). Dengan demikian, model DTC siap digunakan untuk melakukan prediksi berdasarkan data uji yang telah dinormalisasi."
      ],
      "metadata": {
        "id": "jMjV10PZiOH_"
      }
    },
    {
      "cell_type": "markdown",
      "source": [
        "##**Begins and Compare Predict**"
      ],
      "metadata": {
        "id": "ZV-4U9Szzhdy"
      }
    },
    {
      "cell_type": "code",
      "source": [
        "gnb_pred = gnb.predict(x_test_norm)\n",
        "knn_pred = knn.predict(x_test_norm)\n",
        "dtc_pred = dtc.predict(x_test_norm)"
      ],
      "metadata": {
        "id": "SYSSQDw1zvnI"
      },
      "execution_count": 124,
      "outputs": []
    },
    {
      "cell_type": "markdown",
      "source": [
        "Kode ini akan membuat prediksi terhadap tiga model berbeda yang telah dinormalisasi dengan cara membuat variabel baru pada setiap model dan disimpan dalam test data."
      ],
      "metadata": {
        "id": "FEsdTManihqE"
      }
    },
    {
      "cell_type": "code",
      "source": [
        "x_test = pd.DataFrame(x_test).reset_index(drop=True)\n",
        "\n",
        "y_test = pd.DataFrame(y_test).reset_index(drop=True)\n",
        "\n",
        "gnb_col = pd.DataFrame(gnb_pred.astype(int), columns=[\"gnb_prediction\"])\n",
        "knn_col = pd.DataFrame(knn_pred.astype(int), columns=[\"knn_prediction\"])\n",
        "dtc_col = pd.DataFrame(dtc_pred.astype(int), columns=[\"dtc_prediction\"])\n",
        "\n",
        "combined_data = pd.concat([x_test, y_test, gnb_col, knn_col, dtc_col], axis=1)"
      ],
      "metadata": {
        "id": "8zKvBPVjz7P6"
      },
      "execution_count": 125,
      "outputs": []
    },
    {
      "cell_type": "markdown",
      "source": [
        "mengubah kedua array data test dan target label menjadi Dataframe pandas. Lalu membuat tiga kolom Dataframe terpisah berdasarkan tiga model berbeda, dan memastikannya telah menjadi bilangan numerik. menggabungkan semua dataframe menjadi satu dataframe yang lengkap bernama combined_data."
      ],
      "metadata": {
        "id": "_mptrRhvikrY"
      }
    },
    {
      "cell_type": "code",
      "source": [
        "combined_data.sample(10)"
      ],
      "metadata": {
        "colab": {
          "base_uri": "https://localhost:8080/",
          "height": 400
        },
        "id": "ehHEV6xm0CqF",
        "outputId": "2401d97c-73af-4362-ce84-695950ad65e3"
      },
      "execution_count": 126,
      "outputs": [
        {
          "output_type": "execute_result",
          "data": {
            "text/plain": [
              "      Thn  bln  tgl  lembab_rata-rata    ch  cahaya_jam  \\\n",
              "51   2022   10   20              84.0  32.0         7.7   \n",
              "187  2022    8   24              86.0   2.4         8.3   \n",
              "197  2023   10    1              77.0   0.0         7.8   \n",
              "116  2022    6   15              92.0   0.5         0.0   \n",
              "37   2022    5   29              84.0   0.0         2.9   \n",
              "203  2022    7   28              82.0   1.2         6.2   \n",
              "19   2022   12    7              77.0  32.0         7.2   \n",
              "161  2022   12   27              90.0   0.5         0.0   \n",
              "63   2022    9   17              90.0   1.4         7.0   \n",
              "1    2022    6   14              94.0  12.5         0.9   \n",
              "\n",
              "     curah_hujan_kategori_rendah  curah_hujan_kategori_sedang  \\\n",
              "51                             0                            1   \n",
              "187                            1                            0   \n",
              "197                            0                            0   \n",
              "116                            1                            0   \n",
              "37                             0                            0   \n",
              "203                            1                            0   \n",
              "19                             0                            1   \n",
              "161                            1                            0   \n",
              "63                             1                            0   \n",
              "1                              1                            0   \n",
              "\n",
              "     curah_hujan_kategori_tinggi  temp_rata-rata  gnb_prediction  \\\n",
              "51                             0            28.3               1   \n",
              "187                            0            26.2               1   \n",
              "197                            0            27.0               2   \n",
              "116                            0            26.0               0   \n",
              "37                             0            27.4               1   \n",
              "203                            0            25.8               1   \n",
              "19                             0            28.4               1   \n",
              "161                            0            25.8               0   \n",
              "63                             0            26.0               0   \n",
              "1                              0            25.3               0   \n",
              "\n",
              "     knn_prediction  dtc_prediction  \n",
              "51                1               0  \n",
              "187               1               1  \n",
              "197               1               1  \n",
              "116               0               0  \n",
              "37                0               1  \n",
              "203               1               0  \n",
              "19                1               1  \n",
              "161               1               0  \n",
              "63                0               0  \n",
              "1                 0               0  "
            ],
            "text/html": [
              "\n",
              "  <div id=\"df-7fdfcd20-5449-4202-ad2e-b8f5828d77f5\" class=\"colab-df-container\">\n",
              "    <div>\n",
              "<style scoped>\n",
              "    .dataframe tbody tr th:only-of-type {\n",
              "        vertical-align: middle;\n",
              "    }\n",
              "\n",
              "    .dataframe tbody tr th {\n",
              "        vertical-align: top;\n",
              "    }\n",
              "\n",
              "    .dataframe thead th {\n",
              "        text-align: right;\n",
              "    }\n",
              "</style>\n",
              "<table border=\"1\" class=\"dataframe\">\n",
              "  <thead>\n",
              "    <tr style=\"text-align: right;\">\n",
              "      <th></th>\n",
              "      <th>Thn</th>\n",
              "      <th>bln</th>\n",
              "      <th>tgl</th>\n",
              "      <th>lembab_rata-rata</th>\n",
              "      <th>ch</th>\n",
              "      <th>cahaya_jam</th>\n",
              "      <th>curah_hujan_kategori_rendah</th>\n",
              "      <th>curah_hujan_kategori_sedang</th>\n",
              "      <th>curah_hujan_kategori_tinggi</th>\n",
              "      <th>temp_rata-rata</th>\n",
              "      <th>gnb_prediction</th>\n",
              "      <th>knn_prediction</th>\n",
              "      <th>dtc_prediction</th>\n",
              "    </tr>\n",
              "  </thead>\n",
              "  <tbody>\n",
              "    <tr>\n",
              "      <th>51</th>\n",
              "      <td>2022</td>\n",
              "      <td>10</td>\n",
              "      <td>20</td>\n",
              "      <td>84.0</td>\n",
              "      <td>32.0</td>\n",
              "      <td>7.7</td>\n",
              "      <td>0</td>\n",
              "      <td>1</td>\n",
              "      <td>0</td>\n",
              "      <td>28.3</td>\n",
              "      <td>1</td>\n",
              "      <td>1</td>\n",
              "      <td>0</td>\n",
              "    </tr>\n",
              "    <tr>\n",
              "      <th>187</th>\n",
              "      <td>2022</td>\n",
              "      <td>8</td>\n",
              "      <td>24</td>\n",
              "      <td>86.0</td>\n",
              "      <td>2.4</td>\n",
              "      <td>8.3</td>\n",
              "      <td>1</td>\n",
              "      <td>0</td>\n",
              "      <td>0</td>\n",
              "      <td>26.2</td>\n",
              "      <td>1</td>\n",
              "      <td>1</td>\n",
              "      <td>1</td>\n",
              "    </tr>\n",
              "    <tr>\n",
              "      <th>197</th>\n",
              "      <td>2023</td>\n",
              "      <td>10</td>\n",
              "      <td>1</td>\n",
              "      <td>77.0</td>\n",
              "      <td>0.0</td>\n",
              "      <td>7.8</td>\n",
              "      <td>0</td>\n",
              "      <td>0</td>\n",
              "      <td>0</td>\n",
              "      <td>27.0</td>\n",
              "      <td>2</td>\n",
              "      <td>1</td>\n",
              "      <td>1</td>\n",
              "    </tr>\n",
              "    <tr>\n",
              "      <th>116</th>\n",
              "      <td>2022</td>\n",
              "      <td>6</td>\n",
              "      <td>15</td>\n",
              "      <td>92.0</td>\n",
              "      <td>0.5</td>\n",
              "      <td>0.0</td>\n",
              "      <td>1</td>\n",
              "      <td>0</td>\n",
              "      <td>0</td>\n",
              "      <td>26.0</td>\n",
              "      <td>0</td>\n",
              "      <td>0</td>\n",
              "      <td>0</td>\n",
              "    </tr>\n",
              "    <tr>\n",
              "      <th>37</th>\n",
              "      <td>2022</td>\n",
              "      <td>5</td>\n",
              "      <td>29</td>\n",
              "      <td>84.0</td>\n",
              "      <td>0.0</td>\n",
              "      <td>2.9</td>\n",
              "      <td>0</td>\n",
              "      <td>0</td>\n",
              "      <td>0</td>\n",
              "      <td>27.4</td>\n",
              "      <td>1</td>\n",
              "      <td>0</td>\n",
              "      <td>1</td>\n",
              "    </tr>\n",
              "    <tr>\n",
              "      <th>203</th>\n",
              "      <td>2022</td>\n",
              "      <td>7</td>\n",
              "      <td>28</td>\n",
              "      <td>82.0</td>\n",
              "      <td>1.2</td>\n",
              "      <td>6.2</td>\n",
              "      <td>1</td>\n",
              "      <td>0</td>\n",
              "      <td>0</td>\n",
              "      <td>25.8</td>\n",
              "      <td>1</td>\n",
              "      <td>1</td>\n",
              "      <td>0</td>\n",
              "    </tr>\n",
              "    <tr>\n",
              "      <th>19</th>\n",
              "      <td>2022</td>\n",
              "      <td>12</td>\n",
              "      <td>7</td>\n",
              "      <td>77.0</td>\n",
              "      <td>32.0</td>\n",
              "      <td>7.2</td>\n",
              "      <td>0</td>\n",
              "      <td>1</td>\n",
              "      <td>0</td>\n",
              "      <td>28.4</td>\n",
              "      <td>1</td>\n",
              "      <td>1</td>\n",
              "      <td>1</td>\n",
              "    </tr>\n",
              "    <tr>\n",
              "      <th>161</th>\n",
              "      <td>2022</td>\n",
              "      <td>12</td>\n",
              "      <td>27</td>\n",
              "      <td>90.0</td>\n",
              "      <td>0.5</td>\n",
              "      <td>0.0</td>\n",
              "      <td>1</td>\n",
              "      <td>0</td>\n",
              "      <td>0</td>\n",
              "      <td>25.8</td>\n",
              "      <td>0</td>\n",
              "      <td>1</td>\n",
              "      <td>0</td>\n",
              "    </tr>\n",
              "    <tr>\n",
              "      <th>63</th>\n",
              "      <td>2022</td>\n",
              "      <td>9</td>\n",
              "      <td>17</td>\n",
              "      <td>90.0</td>\n",
              "      <td>1.4</td>\n",
              "      <td>7.0</td>\n",
              "      <td>1</td>\n",
              "      <td>0</td>\n",
              "      <td>0</td>\n",
              "      <td>26.0</td>\n",
              "      <td>0</td>\n",
              "      <td>0</td>\n",
              "      <td>0</td>\n",
              "    </tr>\n",
              "    <tr>\n",
              "      <th>1</th>\n",
              "      <td>2022</td>\n",
              "      <td>6</td>\n",
              "      <td>14</td>\n",
              "      <td>94.0</td>\n",
              "      <td>12.5</td>\n",
              "      <td>0.9</td>\n",
              "      <td>1</td>\n",
              "      <td>0</td>\n",
              "      <td>0</td>\n",
              "      <td>25.3</td>\n",
              "      <td>0</td>\n",
              "      <td>0</td>\n",
              "      <td>0</td>\n",
              "    </tr>\n",
              "  </tbody>\n",
              "</table>\n",
              "</div>\n",
              "    <div class=\"colab-df-buttons\">\n",
              "\n",
              "  <div class=\"colab-df-container\">\n",
              "    <button class=\"colab-df-convert\" onclick=\"convertToInteractive('df-7fdfcd20-5449-4202-ad2e-b8f5828d77f5')\"\n",
              "            title=\"Convert this dataframe to an interactive table.\"\n",
              "            style=\"display:none;\">\n",
              "\n",
              "  <svg xmlns=\"http://www.w3.org/2000/svg\" height=\"24px\" viewBox=\"0 -960 960 960\">\n",
              "    <path d=\"M120-120v-720h720v720H120Zm60-500h600v-160H180v160Zm220 220h160v-160H400v160Zm0 220h160v-160H400v160ZM180-400h160v-160H180v160Zm440 0h160v-160H620v160ZM180-180h160v-160H180v160Zm440 0h160v-160H620v160Z\"/>\n",
              "  </svg>\n",
              "    </button>\n",
              "\n",
              "  <style>\n",
              "    .colab-df-container {\n",
              "      display:flex;\n",
              "      gap: 12px;\n",
              "    }\n",
              "\n",
              "    .colab-df-convert {\n",
              "      background-color: #E8F0FE;\n",
              "      border: none;\n",
              "      border-radius: 50%;\n",
              "      cursor: pointer;\n",
              "      display: none;\n",
              "      fill: #1967D2;\n",
              "      height: 32px;\n",
              "      padding: 0 0 0 0;\n",
              "      width: 32px;\n",
              "    }\n",
              "\n",
              "    .colab-df-convert:hover {\n",
              "      background-color: #E2EBFA;\n",
              "      box-shadow: 0px 1px 2px rgba(60, 64, 67, 0.3), 0px 1px 3px 1px rgba(60, 64, 67, 0.15);\n",
              "      fill: #174EA6;\n",
              "    }\n",
              "\n",
              "    .colab-df-buttons div {\n",
              "      margin-bottom: 4px;\n",
              "    }\n",
              "\n",
              "    [theme=dark] .colab-df-convert {\n",
              "      background-color: #3B4455;\n",
              "      fill: #D2E3FC;\n",
              "    }\n",
              "\n",
              "    [theme=dark] .colab-df-convert:hover {\n",
              "      background-color: #434B5C;\n",
              "      box-shadow: 0px 1px 3px 1px rgba(0, 0, 0, 0.15);\n",
              "      filter: drop-shadow(0px 1px 2px rgba(0, 0, 0, 0.3));\n",
              "      fill: #FFFFFF;\n",
              "    }\n",
              "  </style>\n",
              "\n",
              "    <script>\n",
              "      const buttonEl =\n",
              "        document.querySelector('#df-7fdfcd20-5449-4202-ad2e-b8f5828d77f5 button.colab-df-convert');\n",
              "      buttonEl.style.display =\n",
              "        google.colab.kernel.accessAllowed ? 'block' : 'none';\n",
              "\n",
              "      async function convertToInteractive(key) {\n",
              "        const element = document.querySelector('#df-7fdfcd20-5449-4202-ad2e-b8f5828d77f5');\n",
              "        const dataTable =\n",
              "          await google.colab.kernel.invokeFunction('convertToInteractive',\n",
              "                                                    [key], {});\n",
              "        if (!dataTable) return;\n",
              "\n",
              "        const docLinkHtml = 'Like what you see? Visit the ' +\n",
              "          '<a target=\"_blank\" href=https://colab.research.google.com/notebooks/data_table.ipynb>data table notebook</a>'\n",
              "          + ' to learn more about interactive tables.';\n",
              "        element.innerHTML = '';\n",
              "        dataTable['output_type'] = 'display_data';\n",
              "        await google.colab.output.renderOutput(dataTable, element);\n",
              "        const docLink = document.createElement('div');\n",
              "        docLink.innerHTML = docLinkHtml;\n",
              "        element.appendChild(docLink);\n",
              "      }\n",
              "    </script>\n",
              "  </div>\n",
              "\n",
              "\n",
              "<div id=\"df-86c5db20-be0a-40c3-aee6-9e62a88f3ec9\">\n",
              "  <button class=\"colab-df-quickchart\" onclick=\"quickchart('df-86c5db20-be0a-40c3-aee6-9e62a88f3ec9')\"\n",
              "            title=\"Suggest charts\"\n",
              "            style=\"display:none;\">\n",
              "\n",
              "<svg xmlns=\"http://www.w3.org/2000/svg\" height=\"24px\"viewBox=\"0 0 24 24\"\n",
              "     width=\"24px\">\n",
              "    <g>\n",
              "        <path d=\"M19 3H5c-1.1 0-2 .9-2 2v14c0 1.1.9 2 2 2h14c1.1 0 2-.9 2-2V5c0-1.1-.9-2-2-2zM9 17H7v-7h2v7zm4 0h-2V7h2v10zm4 0h-2v-4h2v4z\"/>\n",
              "    </g>\n",
              "</svg>\n",
              "  </button>\n",
              "\n",
              "<style>\n",
              "  .colab-df-quickchart {\n",
              "      --bg-color: #E8F0FE;\n",
              "      --fill-color: #1967D2;\n",
              "      --hover-bg-color: #E2EBFA;\n",
              "      --hover-fill-color: #174EA6;\n",
              "      --disabled-fill-color: #AAA;\n",
              "      --disabled-bg-color: #DDD;\n",
              "  }\n",
              "\n",
              "  [theme=dark] .colab-df-quickchart {\n",
              "      --bg-color: #3B4455;\n",
              "      --fill-color: #D2E3FC;\n",
              "      --hover-bg-color: #434B5C;\n",
              "      --hover-fill-color: #FFFFFF;\n",
              "      --disabled-bg-color: #3B4455;\n",
              "      --disabled-fill-color: #666;\n",
              "  }\n",
              "\n",
              "  .colab-df-quickchart {\n",
              "    background-color: var(--bg-color);\n",
              "    border: none;\n",
              "    border-radius: 50%;\n",
              "    cursor: pointer;\n",
              "    display: none;\n",
              "    fill: var(--fill-color);\n",
              "    height: 32px;\n",
              "    padding: 0;\n",
              "    width: 32px;\n",
              "  }\n",
              "\n",
              "  .colab-df-quickchart:hover {\n",
              "    background-color: var(--hover-bg-color);\n",
              "    box-shadow: 0 1px 2px rgba(60, 64, 67, 0.3), 0 1px 3px 1px rgba(60, 64, 67, 0.15);\n",
              "    fill: var(--button-hover-fill-color);\n",
              "  }\n",
              "\n",
              "  .colab-df-quickchart-complete:disabled,\n",
              "  .colab-df-quickchart-complete:disabled:hover {\n",
              "    background-color: var(--disabled-bg-color);\n",
              "    fill: var(--disabled-fill-color);\n",
              "    box-shadow: none;\n",
              "  }\n",
              "\n",
              "  .colab-df-spinner {\n",
              "    border: 2px solid var(--fill-color);\n",
              "    border-color: transparent;\n",
              "    border-bottom-color: var(--fill-color);\n",
              "    animation:\n",
              "      spin 1s steps(1) infinite;\n",
              "  }\n",
              "\n",
              "  @keyframes spin {\n",
              "    0% {\n",
              "      border-color: transparent;\n",
              "      border-bottom-color: var(--fill-color);\n",
              "      border-left-color: var(--fill-color);\n",
              "    }\n",
              "    20% {\n",
              "      border-color: transparent;\n",
              "      border-left-color: var(--fill-color);\n",
              "      border-top-color: var(--fill-color);\n",
              "    }\n",
              "    30% {\n",
              "      border-color: transparent;\n",
              "      border-left-color: var(--fill-color);\n",
              "      border-top-color: var(--fill-color);\n",
              "      border-right-color: var(--fill-color);\n",
              "    }\n",
              "    40% {\n",
              "      border-color: transparent;\n",
              "      border-right-color: var(--fill-color);\n",
              "      border-top-color: var(--fill-color);\n",
              "    }\n",
              "    60% {\n",
              "      border-color: transparent;\n",
              "      border-right-color: var(--fill-color);\n",
              "    }\n",
              "    80% {\n",
              "      border-color: transparent;\n",
              "      border-right-color: var(--fill-color);\n",
              "      border-bottom-color: var(--fill-color);\n",
              "    }\n",
              "    90% {\n",
              "      border-color: transparent;\n",
              "      border-bottom-color: var(--fill-color);\n",
              "    }\n",
              "  }\n",
              "</style>\n",
              "\n",
              "  <script>\n",
              "    async function quickchart(key) {\n",
              "      const quickchartButtonEl =\n",
              "        document.querySelector('#' + key + ' button');\n",
              "      quickchartButtonEl.disabled = true;  // To prevent multiple clicks.\n",
              "      quickchartButtonEl.classList.add('colab-df-spinner');\n",
              "      try {\n",
              "        const charts = await google.colab.kernel.invokeFunction(\n",
              "            'suggestCharts', [key], {});\n",
              "      } catch (error) {\n",
              "        console.error('Error during call to suggestCharts:', error);\n",
              "      }\n",
              "      quickchartButtonEl.classList.remove('colab-df-spinner');\n",
              "      quickchartButtonEl.classList.add('colab-df-quickchart-complete');\n",
              "    }\n",
              "    (() => {\n",
              "      let quickchartButtonEl =\n",
              "        document.querySelector('#df-86c5db20-be0a-40c3-aee6-9e62a88f3ec9 button');\n",
              "      quickchartButtonEl.style.display =\n",
              "        google.colab.kernel.accessAllowed ? 'block' : 'none';\n",
              "    })();\n",
              "  </script>\n",
              "</div>\n",
              "    </div>\n",
              "  </div>\n"
            ],
            "application/vnd.google.colaboratory.intrinsic+json": {
              "type": "dataframe",
              "summary": "{\n  \"name\": \"combined_data\",\n  \"rows\": 10,\n  \"fields\": [\n    {\n      \"column\": \"Thn\",\n      \"properties\": {\n        \"dtype\": \"number\",\n        \"std\": 0,\n        \"min\": 2022,\n        \"max\": 2023,\n        \"num_unique_values\": 2,\n        \"samples\": [\n          2023,\n          2022\n        ],\n        \"semantic_type\": \"\",\n        \"description\": \"\"\n      }\n    },\n    {\n      \"column\": \"bln\",\n      \"properties\": {\n        \"dtype\": \"number\",\n        \"std\": 2,\n        \"min\": 5,\n        \"max\": 12,\n        \"num_unique_values\": 7,\n        \"samples\": [\n          10,\n          8\n        ],\n        \"semantic_type\": \"\",\n        \"description\": \"\"\n      }\n    },\n    {\n      \"column\": \"tgl\",\n      \"properties\": {\n        \"dtype\": \"number\",\n        \"std\": 9,\n        \"min\": 1,\n        \"max\": 29,\n        \"num_unique_values\": 10,\n        \"samples\": [\n          17,\n          24\n        ],\n        \"semantic_type\": \"\",\n        \"description\": \"\"\n      }\n    },\n    {\n      \"column\": \"lembab_rata-rata\",\n      \"properties\": {\n        \"dtype\": \"number\",\n        \"std\": 5.92921205182911,\n        \"min\": 77.0,\n        \"max\": 94.0,\n        \"num_unique_values\": 7,\n        \"samples\": [\n          84.0,\n          86.0\n        ],\n        \"semantic_type\": \"\",\n        \"description\": \"\"\n      }\n    },\n    {\n      \"column\": \"ch\",\n      \"properties\": {\n        \"dtype\": \"number\",\n        \"std\": 13.052394416351353,\n        \"min\": 0.0,\n        \"max\": 32.0,\n        \"num_unique_values\": 7,\n        \"samples\": [\n          32.0,\n          2.4\n        ],\n        \"semantic_type\": \"\",\n        \"description\": \"\"\n      }\n    },\n    {\n      \"column\": \"cahaya_jam\",\n      \"properties\": {\n        \"dtype\": \"number\",\n        \"std\": 3.4499597421161634,\n        \"min\": 0.0,\n        \"max\": 8.3,\n        \"num_unique_values\": 9,\n        \"samples\": [\n          7.0,\n          8.3\n        ],\n        \"semantic_type\": \"\",\n        \"description\": \"\"\n      }\n    },\n    {\n      \"column\": \"curah_hujan_kategori_rendah\",\n      \"properties\": {\n        \"dtype\": \"uint8\",\n        \"num_unique_values\": 2,\n        \"samples\": [\n          1,\n          0\n        ],\n        \"semantic_type\": \"\",\n        \"description\": \"\"\n      }\n    },\n    {\n      \"column\": \"curah_hujan_kategori_sedang\",\n      \"properties\": {\n        \"dtype\": \"uint8\",\n        \"num_unique_values\": 2,\n        \"samples\": [\n          0,\n          1\n        ],\n        \"semantic_type\": \"\",\n        \"description\": \"\"\n      }\n    },\n    {\n      \"column\": \"curah_hujan_kategori_tinggi\",\n      \"properties\": {\n        \"dtype\": \"uint8\",\n        \"num_unique_values\": 1,\n        \"samples\": [\n          0\n        ],\n        \"semantic_type\": \"\",\n        \"description\": \"\"\n      }\n    },\n    {\n      \"column\": \"temp_rata-rata\",\n      \"properties\": {\n        \"dtype\": \"number\",\n        \"std\": 1.0942272768183638,\n        \"min\": 25.3,\n        \"max\": 28.4,\n        \"num_unique_values\": 8,\n        \"samples\": [\n          26.2\n        ],\n        \"semantic_type\": \"\",\n        \"description\": \"\"\n      }\n    },\n    {\n      \"column\": \"gnb_prediction\",\n      \"properties\": {\n        \"dtype\": \"number\",\n        \"std\": 0,\n        \"min\": 0,\n        \"max\": 2,\n        \"num_unique_values\": 3,\n        \"samples\": [\n          1\n        ],\n        \"semantic_type\": \"\",\n        \"description\": \"\"\n      }\n    },\n    {\n      \"column\": \"knn_prediction\",\n      \"properties\": {\n        \"dtype\": \"number\",\n        \"std\": 0,\n        \"min\": 0,\n        \"max\": 1,\n        \"num_unique_values\": 2,\n        \"samples\": [\n          0\n        ],\n        \"semantic_type\": \"\",\n        \"description\": \"\"\n      }\n    },\n    {\n      \"column\": \"dtc_prediction\",\n      \"properties\": {\n        \"dtype\": \"number\",\n        \"std\": 0,\n        \"min\": 0,\n        \"max\": 1,\n        \"num_unique_values\": 2,\n        \"samples\": [\n          1\n        ],\n        \"semantic_type\": \"\",\n        \"description\": \"\"\n      }\n    }\n  ]\n}"
            }
          },
          "metadata": {},
          "execution_count": 126
        }
      ]
    },
    {
      "cell_type": "markdown",
      "source": [
        "Kode ini akan menampilkan combined_data yang merepresentasikan dataframe baru yang dibuat"
      ],
      "metadata": {
        "id": "RY_6zou6ioSK"
      }
    },
    {
      "cell_type": "markdown",
      "source": [
        "#**Modelling Associate**"
      ],
      "metadata": {
        "id": "koz10ctG0IqJ"
      }
    },
    {
      "cell_type": "markdown",
      "source": [
        "###**Pre-Processing**"
      ],
      "metadata": {
        "id": "QNT5lfI11oRa"
      }
    },
    {
      "cell_type": "markdown",
      "source": [
        "####**Adjusment**"
      ],
      "metadata": {
        "id": "WeWXTTMa1wAZ"
      }
    },
    {
      "cell_type": "code",
      "source": [
        "x_final = df.drop(\"temp_rata-rata\", axis=1)"
      ],
      "metadata": {
        "id": "UIfBo2Ky1yk2"
      },
      "execution_count": 127,
      "outputs": []
    },
    {
      "cell_type": "markdown",
      "source": [
        "Kode ini adalah langkah pre-processing pada data sebelum melakukan modellling. Fitur-fitur yang tidak termasuk dalam prediksi (dalam kasus ini, fitur \"temp_rata-rata\") dihapus dari dataset menggunakan metode drop(). Sehingga, x_final berisi dataset yang siap digunakan untuk proses modelling, dengan fitur-fitur yang relevan."
      ],
      "metadata": {
        "id": "JbFXdWWri2IJ"
      }
    },
    {
      "cell_type": "markdown",
      "source": [
        "####**Normalisasi Data**"
      ],
      "metadata": {
        "id": "CLAGP66r2Amq"
      }
    },
    {
      "cell_type": "code",
      "source": [
        "scaler = MinMaxScaler()\n",
        "\n",
        "x_final_norm = scaler.fit_transform(x_final)"
      ],
      "metadata": {
        "id": "Hp2X7omn2Fr0"
      },
      "execution_count": 128,
      "outputs": []
    },
    {
      "cell_type": "markdown",
      "source": [
        "Kode ini melakukan normalisasi pada data yang telah diproses sebelumnya. Pertama, objek scaler dari kelas MinMaxScaler() dibuat. Kemudian, metode fit_transform() digunakan untuk melakukan normalisasi pada dataset (x_final), mengubah nilai-nilai fitur-fiturnya sehingga rentang nilainya menjadi antara 0 dan 1. Hasilnya disimpan dalam variabel x_final_norm, yang kemudian dapat digunakan untuk proses modellling. Dengan normalisasi ini, perbedaan skala antar fitur-fitur dapat diatasi, sehingga meningkatkan kinerja model."
      ],
      "metadata": {
        "id": "0ndb-Qtgi8IL"
      }
    },
    {
      "cell_type": "markdown",
      "source": [
        "####**Validasi Silang**"
      ],
      "metadata": {
        "id": "_li-6xZw2JVd"
      }
    },
    {
      "cell_type": "code",
      "source": [
        "inertia_values = []\n",
        "\n",
        "k_range = range(2, 10)\n",
        "\n",
        "for k in k_range:\n",
        "    kmeans = KMeans(n_clusters=k, random_state=42)\n",
        "    kmeans.fit(x_final_norm)\n",
        "    inertia_values.append(kmeans.inertia_)\n",
        "\n",
        "plt.plot(k_range, inertia_values, marker='o')\n",
        "plt.xlabel('Number of clusters (K)')\n",
        "plt.ylabel('Inertia')\n",
        "plt.title('Elbow Method for Optimal K')\n",
        "plt.xticks(k_range)\n",
        "plt.show()"
      ],
      "metadata": {
        "colab": {
          "base_uri": "https://localhost:8080/",
          "height": 1000
        },
        "id": "_9I3UQVR2Mhr",
        "outputId": "43df6a8a-9d5b-4605-ddfc-c3adb84e7d76"
      },
      "execution_count": 129,
      "outputs": [
        {
          "output_type": "stream",
          "name": "stderr",
          "text": [
            "/usr/local/lib/python3.10/dist-packages/sklearn/cluster/_kmeans.py:870: FutureWarning:\n",
            "\n",
            "The default value of `n_init` will change from 10 to 'auto' in 1.4. Set the value of `n_init` explicitly to suppress the warning\n",
            "\n",
            "/usr/local/lib/python3.10/dist-packages/sklearn/cluster/_kmeans.py:870: FutureWarning:\n",
            "\n",
            "The default value of `n_init` will change from 10 to 'auto' in 1.4. Set the value of `n_init` explicitly to suppress the warning\n",
            "\n",
            "/usr/local/lib/python3.10/dist-packages/sklearn/cluster/_kmeans.py:870: FutureWarning:\n",
            "\n",
            "The default value of `n_init` will change from 10 to 'auto' in 1.4. Set the value of `n_init` explicitly to suppress the warning\n",
            "\n",
            "/usr/local/lib/python3.10/dist-packages/sklearn/cluster/_kmeans.py:870: FutureWarning:\n",
            "\n",
            "The default value of `n_init` will change from 10 to 'auto' in 1.4. Set the value of `n_init` explicitly to suppress the warning\n",
            "\n",
            "/usr/local/lib/python3.10/dist-packages/sklearn/cluster/_kmeans.py:870: FutureWarning:\n",
            "\n",
            "The default value of `n_init` will change from 10 to 'auto' in 1.4. Set the value of `n_init` explicitly to suppress the warning\n",
            "\n",
            "/usr/local/lib/python3.10/dist-packages/sklearn/cluster/_kmeans.py:870: FutureWarning:\n",
            "\n",
            "The default value of `n_init` will change from 10 to 'auto' in 1.4. Set the value of `n_init` explicitly to suppress the warning\n",
            "\n",
            "/usr/local/lib/python3.10/dist-packages/sklearn/cluster/_kmeans.py:870: FutureWarning:\n",
            "\n",
            "The default value of `n_init` will change from 10 to 'auto' in 1.4. Set the value of `n_init` explicitly to suppress the warning\n",
            "\n",
            "/usr/local/lib/python3.10/dist-packages/sklearn/cluster/_kmeans.py:870: FutureWarning:\n",
            "\n",
            "The default value of `n_init` will change from 10 to 'auto' in 1.4. Set the value of `n_init` explicitly to suppress the warning\n",
            "\n"
          ]
        },
        {
          "output_type": "display_data",
          "data": {
            "text/plain": [
              "<Figure size 640x480 with 1 Axes>"
            ],
            "image/png": "[encoded data removed]"
          },
          "metadata": {}
        }
      ]
    },
    {
      "cell_type": "markdown",
      "source": [
        "mengimplementasikan metode siku (elbow method) untuk membantu menentukan jumlah cluster yang optimal, yaitu melihat di mana penurunan inertia mulai melambat secara signifikan, membentuk pola yang mirip dengan bentuk siku."
      ],
      "metadata": {
        "id": "J2BErCwkjIdZ"
      }
    },
    {
      "cell_type": "markdown",
      "source": [
        "###**Build Model**"
      ],
      "metadata": {
        "id": "5d9ubcAL2jI_"
      }
    },
    {
      "cell_type": "markdown",
      "source": [
        "####**K-Means**"
      ],
      "metadata": {
        "id": "RtF83tGZ3Oel"
      }
    },
    {
      "cell_type": "code",
      "source": [
        "kmeans = KMeans(n_clusters=4, random_state=42)\n",
        "kmeans.fit(x_final_norm)"
      ],
      "metadata": {
        "colab": {
          "base_uri": "https://localhost:8080/",
          "height": 144
        },
        "id": "bGVh3xvx3QaB",
        "outputId": "291e845e-ed0a-4183-b29f-36a471a835d4"
      },
      "execution_count": 130,
      "outputs": [
        {
          "output_type": "stream",
          "name": "stderr",
          "text": [
            "/usr/local/lib/python3.10/dist-packages/sklearn/cluster/_kmeans.py:870: FutureWarning:\n",
            "\n",
            "The default value of `n_init` will change from 10 to 'auto' in 1.4. Set the value of `n_init` explicitly to suppress the warning\n",
            "\n"
          ]
        },
        {
          "output_type": "execute_result",
          "data": {
            "text/plain": [
              "KMeans(n_clusters=4, random_state=42)"
            ],
            "text/html": [
              "<style>#sk-container-id-10 {color: black;background-color: white;}#sk-container-id-10 pre{padding: 0;}#sk-container-id-10 div.sk-toggleable {background-color: white;}#sk-container-id-10 label.sk-toggleable__label {cursor: pointer;display: block;width: 100%;margin-bottom: 0;padding: 0.3em;box-sizing: border-box;text-align: center;}#sk-container-id-10 label.sk-toggleable__label-arrow:before {content: \"▸\";float: left;margin-right: 0.25em;color: #696969;}#sk-container-id-10 label.sk-toggleable__label-arrow:hover:before {color: black;}#sk-container-id-10 div.sk-estimator:hover label.sk-toggleable__label-arrow:before {color: black;}#sk-container-id-10 div.sk-toggleable__content {max-height: 0;max-width: 0;overflow: hidden;text-align: left;background-color: #f0f8ff;}#sk-container-id-10 div.sk-toggleable__content pre {margin: 0.2em;color: black;border-radius: 0.25em;background-color: #f0f8ff;}#sk-container-id-10 input.sk-toggleable__control:checked~div.sk-toggleable__content {max-height: 200px;max-width: 100%;overflow: auto;}#sk-container-id-10 input.sk-toggleable__control:checked~label.sk-toggleable__label-arrow:before {content: \"▾\";}#sk-container-id-10 div.sk-estimator input.sk-toggleable__control:checked~label.sk-toggleable__label {background-color: #d4ebff;}#sk-container-id-10 div.sk-label input.sk-toggleable__control:checked~label.sk-toggleable__label {background-color: #d4ebff;}#sk-container-id-10 input.sk-hidden--visually {border: 0;clip: rect(1px 1px 1px 1px);clip: rect(1px, 1px, 1px, 1px);height: 1px;margin: -1px;overflow: hidden;padding: 0;position: absolute;width: 1px;}#sk-container-id-10 div.sk-estimator {font-family: monospace;background-color: #f0f8ff;border: 1px dotted black;border-radius: 0.25em;box-sizing: border-box;margin-bottom: 0.5em;}#sk-container-id-10 div.sk-estimator:hover {background-color: #d4ebff;}#sk-container-id-10 div.sk-parallel-item::after {content: \"\";width: 100%;border-bottom: 1px solid gray;flex-grow: 1;}#sk-container-id-10 div.sk-label:hover label.sk-toggleable__label {background-color: #d4ebff;}#sk-container-id-10 div.sk-serial::before {content: \"\";position: absolute;border-left: 1px solid gray;box-sizing: border-box;top: 0;bottom: 0;left: 50%;z-index: 0;}#sk-container-id-10 div.sk-serial {display: flex;flex-direction: column;align-items: center;background-color: white;padding-right: 0.2em;padding-left: 0.2em;position: relative;}#sk-container-id-10 div.sk-item {position: relative;z-index: 1;}#sk-container-id-10 div.sk-parallel {display: flex;align-items: stretch;justify-content: center;background-color: white;position: relative;}#sk-container-id-10 div.sk-item::before, #sk-container-id-10 div.sk-parallel-item::before {content: \"\";position: absolute;border-left: 1px solid gray;box-sizing: border-box;top: 0;bottom: 0;left: 50%;z-index: -1;}#sk-container-id-10 div.sk-parallel-item {display: flex;flex-direction: column;z-index: 1;position: relative;background-color: white;}#sk-container-id-10 div.sk-parallel-item:first-child::after {align-self: flex-end;width: 50%;}#sk-container-id-10 div.sk-parallel-item:last-child::after {align-self: flex-start;width: 50%;}#sk-container-id-10 div.sk-parallel-item:only-child::after {width: 0;}#sk-container-id-10 div.sk-dashed-wrapped {border: 1px dashed gray;margin: 0 0.4em 0.5em 0.4em;box-sizing: border-box;padding-bottom: 0.4em;background-color: white;}#sk-container-id-10 div.sk-label label {font-family: monospace;font-weight: bold;display: inline-block;line-height: 1.2em;}#sk-container-id-10 div.sk-label-container {text-align: center;}#sk-container-id-10 div.sk-container {/* jupyter's `normalize.less` sets `[hidden] { display: none; }` but bootstrap.min.css set `[hidden] { display: none !important; }` so we also need the `!important` here to be able to override the default hidden behavior on the sphinx rendered scikit-learn.org. See: https://github.com/scikit-learn/scikit-learn/issues/21755 */display: inline-block !important;position: relative;}#sk-container-id-10 div.sk-text-repr-fallback {display: none;}</style><div id=\"sk-container-id-10\" class=\"sk-top-container\"><div class=\"sk-text-repr-fallback\"><pre>KMeans(n_clusters=4, random_state=42)</pre><b>In a Jupyter environment, please rerun this cell to show the HTML representation or trust the notebook. <br />On GitHub, the HTML representation is unable to render, please try loading this page with nbviewer.org.</b></div><div class=\"sk-container\" hidden><div class=\"sk-item\"><div class=\"sk-estimator sk-toggleable\"><input class=\"sk-toggleable__control sk-hidden--visually\" id=\"sk-estimator-id-10\" type=\"checkbox\" checked><label for=\"sk-estimator-id-10\" class=\"sk-toggleable__label sk-toggleable__label-arrow\">KMeans</label><div class=\"sk-toggleable__content\"><pre>KMeans(n_clusters=4, random_state=42)</pre></div></div></div></div></div>"
            ]
          },
          "metadata": {},
          "execution_count": 130
        }
      ]
    },
    {
      "cell_type": "markdown",
      "source": [
        "\n",
        "Membuat objek KMeans dengan menentukan jumlah cluster yang diinginkan. lalu tentukan parameter lain seperti random_state untuk mengontrol inisialisasi centroid."
      ],
      "metadata": {
        "id": "Whe0H57OjMG9"
      }
    },
    {
      "cell_type": "code",
      "source": [
        "kmeans.fit(x_final_norm)"
      ],
      "metadata": {
        "colab": {
          "base_uri": "https://localhost:8080/",
          "height": 144
        },
        "id": "Mxyf4aSN4j_v",
        "outputId": "022ffa03-d42c-4d20-bf39-212ffd1e6229"
      },
      "execution_count": 131,
      "outputs": [
        {
          "output_type": "stream",
          "name": "stderr",
          "text": [
            "/usr/local/lib/python3.10/dist-packages/sklearn/cluster/_kmeans.py:870: FutureWarning:\n",
            "\n",
            "The default value of `n_init` will change from 10 to 'auto' in 1.4. Set the value of `n_init` explicitly to suppress the warning\n",
            "\n"
          ]
        },
        {
          "output_type": "execute_result",
          "data": {
            "text/plain": [
              "KMeans(n_clusters=4, random_state=42)"
            ],
            "text/html": [
              "<style>#sk-container-id-11 {color: black;background-color: white;}#sk-container-id-11 pre{padding: 0;}#sk-container-id-11 div.sk-toggleable {background-color: white;}#sk-container-id-11 label.sk-toggleable__label {cursor: pointer;display: block;width: 100%;margin-bottom: 0;padding: 0.3em;box-sizing: border-box;text-align: center;}#sk-container-id-11 label.sk-toggleable__label-arrow:before {content: \"▸\";float: left;margin-right: 0.25em;color: #696969;}#sk-container-id-11 label.sk-toggleable__label-arrow:hover:before {color: black;}#sk-container-id-11 div.sk-estimator:hover label.sk-toggleable__label-arrow:before {color: black;}#sk-container-id-11 div.sk-toggleable__content {max-height: 0;max-width: 0;overflow: hidden;text-align: left;background-color: #f0f8ff;}#sk-container-id-11 div.sk-toggleable__content pre {margin: 0.2em;color: black;border-radius: 0.25em;background-color: #f0f8ff;}#sk-container-id-11 input.sk-toggleable__control:checked~div.sk-toggleable__content {max-height: 200px;max-width: 100%;overflow: auto;}#sk-container-id-11 input.sk-toggleable__control:checked~label.sk-toggleable__label-arrow:before {content: \"▾\";}#sk-container-id-11 div.sk-estimator input.sk-toggleable__control:checked~label.sk-toggleable__label {background-color: #d4ebff;}#sk-container-id-11 div.sk-label input.sk-toggleable__control:checked~label.sk-toggleable__label {background-color: #d4ebff;}#sk-container-id-11 input.sk-hidden--visually {border: 0;clip: rect(1px 1px 1px 1px);clip: rect(1px, 1px, 1px, 1px);height: 1px;margin: -1px;overflow: hidden;padding: 0;position: absolute;width: 1px;}#sk-container-id-11 div.sk-estimator {font-family: monospace;background-color: #f0f8ff;border: 1px dotted black;border-radius: 0.25em;box-sizing: border-box;margin-bottom: 0.5em;}#sk-container-id-11 div.sk-estimator:hover {background-color: #d4ebff;}#sk-container-id-11 div.sk-parallel-item::after {content: \"\";width: 100%;border-bottom: 1px solid gray;flex-grow: 1;}#sk-container-id-11 div.sk-label:hover label.sk-toggleable__label {background-color: #d4ebff;}#sk-container-id-11 div.sk-serial::before {content: \"\";position: absolute;border-left: 1px solid gray;box-sizing: border-box;top: 0;bottom: 0;left: 50%;z-index: 0;}#sk-container-id-11 div.sk-serial {display: flex;flex-direction: column;align-items: center;background-color: white;padding-right: 0.2em;padding-left: 0.2em;position: relative;}#sk-container-id-11 div.sk-item {position: relative;z-index: 1;}#sk-container-id-11 div.sk-parallel {display: flex;align-items: stretch;justify-content: center;background-color: white;position: relative;}#sk-container-id-11 div.sk-item::before, #sk-container-id-11 div.sk-parallel-item::before {content: \"\";position: absolute;border-left: 1px solid gray;box-sizing: border-box;top: 0;bottom: 0;left: 50%;z-index: -1;}#sk-container-id-11 div.sk-parallel-item {display: flex;flex-direction: column;z-index: 1;position: relative;background-color: white;}#sk-container-id-11 div.sk-parallel-item:first-child::after {align-self: flex-end;width: 50%;}#sk-container-id-11 div.sk-parallel-item:last-child::after {align-self: flex-start;width: 50%;}#sk-container-id-11 div.sk-parallel-item:only-child::after {width: 0;}#sk-container-id-11 div.sk-dashed-wrapped {border: 1px dashed gray;margin: 0 0.4em 0.5em 0.4em;box-sizing: border-box;padding-bottom: 0.4em;background-color: white;}#sk-container-id-11 div.sk-label label {font-family: monospace;font-weight: bold;display: inline-block;line-height: 1.2em;}#sk-container-id-11 div.sk-label-container {text-align: center;}#sk-container-id-11 div.sk-container {/* jupyter's `normalize.less` sets `[hidden] { display: none; }` but bootstrap.min.css set `[hidden] { display: none !important; }` so we also need the `!important` here to be able to override the default hidden behavior on the sphinx rendered scikit-learn.org. See: https://github.com/scikit-learn/scikit-learn/issues/21755 */display: inline-block !important;position: relative;}#sk-container-id-11 div.sk-text-repr-fallback {display: none;}</style><div id=\"sk-container-id-11\" class=\"sk-top-container\"><div class=\"sk-text-repr-fallback\"><pre>KMeans(n_clusters=4, random_state=42)</pre><b>In a Jupyter environment, please rerun this cell to show the HTML representation or trust the notebook. <br />On GitHub, the HTML representation is unable to render, please try loading this page with nbviewer.org.</b></div><div class=\"sk-container\" hidden><div class=\"sk-item\"><div class=\"sk-estimator sk-toggleable\"><input class=\"sk-toggleable__control sk-hidden--visually\" id=\"sk-estimator-id-11\" type=\"checkbox\" checked><label for=\"sk-estimator-id-11\" class=\"sk-toggleable__label sk-toggleable__label-arrow\">KMeans</label><div class=\"sk-toggleable__content\"><pre>KMeans(n_clusters=4, random_state=42)</pre></div></div></div></div></div>"
            ]
          },
          "metadata": {},
          "execution_count": 131
        }
      ]
    },
    {
      "cell_type": "markdown",
      "source": [
        "Latih model K-Means pada data yang telah dinormalisasi. Ini dilakukan dengan menggunakan metode fit() pada objek KMeans dan memberikan data yang telah dinormalisasi sebagai argumen."
      ],
      "metadata": {
        "id": "fO9CKsZtjPj2"
      }
    },
    {
      "cell_type": "code",
      "source": [
        "labels = kmeans.predict(x_final_norm)"
      ],
      "metadata": {
        "id": "LjyFLKN74pQ2"
      },
      "execution_count": 132,
      "outputs": []
    },
    {
      "cell_type": "markdown",
      "source": [
        "Setelah model dilatih, gunakan metode predict() untuk mendapatkan label klaster untuk setiap sampel data."
      ],
      "metadata": {
        "id": "1ajvBfKLjS88"
      }
    },
    {
      "cell_type": "code",
      "source": [
        "cluster_centers = kmeans.cluster_centers_\n"
      ],
      "metadata": {
        "id": "UC8aW2bY4u-s"
      },
      "execution_count": 133,
      "outputs": []
    },
    {
      "cell_type": "markdown",
      "source": [
        "mendapatkan koordinat pusat dari masing-masing klaster menggunakan atribut cluster_centers_."
      ],
      "metadata": {
        "id": "JaBaYjBKjVAP"
      }
    },
    {
      "cell_type": "markdown",
      "source": [
        "####**Hierarchical Clustering**"
      ],
      "metadata": {
        "id": "W_GsgaQ_40iD"
      }
    },
    {
      "cell_type": "code",
      "source": [
        "hc = AgglomerativeClustering(n_clusters=4, affinity='euclidean', linkage='ward')"
      ],
      "metadata": {
        "id": "kgL1vUEe45bE"
      },
      "execution_count": 134,
      "outputs": []
    },
    {
      "cell_type": "markdown",
      "source": [
        "Menentukan model HAC dengan parameter yang sesuai."
      ],
      "metadata": {
        "id": "OewDSv9YjX2h"
      }
    },
    {
      "cell_type": "markdown",
      "source": [
        "###**Begins and Compare Clusters**"
      ],
      "metadata": {
        "id": "fNrHziFM49oF"
      }
    },
    {
      "cell_type": "code",
      "source": [
        "kmeans_clust = kmeans.predict(x_final_norm)\n",
        "hierarchy_clust = hc.fit_predict(x_final_norm)"
      ],
      "metadata": {
        "colab": {
          "base_uri": "https://localhost:8080/"
        },
        "id": "Yl4r7cMV5AH5",
        "outputId": "1874e76a-26cf-4ecf-b6f0-561126a87b99"
      },
      "execution_count": 135,
      "outputs": [
        {
          "output_type": "stream",
          "name": "stderr",
          "text": [
            "/usr/local/lib/python3.10/dist-packages/sklearn/cluster/_agglomerative.py:983: FutureWarning:\n",
            "\n",
            "Attribute `affinity` was deprecated in version 1.2 and will be removed in 1.4. Use `metric` instead\n",
            "\n"
          ]
        }
      ]
    },
    {
      "cell_type": "markdown",
      "source": [
        "Kode tersebut digunakan untuk melakukan prediksi cluster pada data yang telah dinormalisasi menggunakan dua model clustering yang berbeda, yaitu K-Means dan Hierarchical Agglomerative Clustering (HAC)."
      ],
      "metadata": {
        "id": "Ym7J9K_djcT3"
      }
    },
    {
      "cell_type": "code",
      "source": [
        "x_final = pd.DataFrame(x_final).reset_index(drop=True)\n",
        "\n",
        "kmeans_col = pd.DataFrame(kmeans_clust, columns=[\"kmeans_cluster\"])\n",
        "hierarchy_col = pd.DataFrame(hierarchy_clust, columns=[\"hierarchy_cluster\"])\n",
        "\n",
        "combined_data_assoc = pd.concat([x_final, kmeans_col, hierarchy_col], axis=1)"
      ],
      "metadata": {
        "id": "cjdZ8NNZ5Gz2"
      },
      "execution_count": 136,
      "outputs": []
    },
    {
      "cell_type": "markdown",
      "source": [
        "Kode tersebut digunakan untuk menggabungkan data asli (tanpa kolom target) dengan hasil prediksi cluster dari model K-Means dan Hierarchical Agglomerative Clustering (HAC)."
      ],
      "metadata": {
        "id": "mt1ayUPPjfO7"
      }
    },
    {
      "cell_type": "code",
      "source": [
        "combined_data_assoc.head()"
      ],
      "metadata": {
        "colab": {
          "base_uri": "https://localhost:8080/",
          "height": 206
        },
        "id": "MBp7ZWi_5LM3",
        "outputId": "875c75ab-5b7a-442a-8909-d54b5b375e2b"
      },
      "execution_count": 137,
      "outputs": [
        {
          "output_type": "execute_result",
          "data": {
            "text/plain": [
              "    Thn  bln  tgl  lembab_rata-rata    ch  cahaya_jam  \\\n",
              "0  2022    1    1              84.0   1.0         3.5   \n",
              "1  2022    1    2              91.0   8.1         2.5   \n",
              "2  2022    1    3              86.0  29.3         2.0   \n",
              "3  2022    1    4              87.0   0.5         5.5   \n",
              "4  2022    1    5              85.0  22.3         0.0   \n",
              "\n",
              "   curah_hujan_kategori_rendah  curah_hujan_kategori_sedang  \\\n",
              "0                            1                            0   \n",
              "1                            1                            0   \n",
              "2                            0                            1   \n",
              "3                            1                            0   \n",
              "4                            0                            1   \n",
              "\n",
              "   curah_hujan_kategori_tinggi  kmeans_cluster  hierarchy_cluster  \n",
              "0                            0               3                  2  \n",
              "1                            0               3                  2  \n",
              "2                            0               1                  1  \n",
              "3                            0               3                  2  \n",
              "4                            0               1                  1  "
            ],
            "text/html": [
              "\n",
              "  <div id=\"df-1671e015-c02e-4cc4-b431-bf3f4c431e0b\" class=\"colab-df-container\">\n",
              "    <div>\n",
              "<style scoped>\n",
              "    .dataframe tbody tr th:only-of-type {\n",
              "        vertical-align: middle;\n",
              "    }\n",
              "\n",
              "    .dataframe tbody tr th {\n",
              "        vertical-align: top;\n",
              "    }\n",
              "\n",
              "    .dataframe thead th {\n",
              "        text-align: right;\n",
              "    }\n",
              "</style>\n",
              "<table border=\"1\" class=\"dataframe\">\n",
              "  <thead>\n",
              "    <tr style=\"text-align: right;\">\n",
              "      <th></th>\n",
              "      <th>Thn</th>\n",
              "      <th>bln</th>\n",
              "      <th>tgl</th>\n",
              "      <th>lembab_rata-rata</th>\n",
              "      <th>ch</th>\n",
              "      <th>cahaya_jam</th>\n",
              "      <th>curah_hujan_kategori_rendah</th>\n",
              "      <th>curah_hujan_kategori_sedang</th>\n",
              "      <th>curah_hujan_kategori_tinggi</th>\n",
              "      <th>kmeans_cluster</th>\n",
              "      <th>hierarchy_cluster</th>\n",
              "    </tr>\n",
              "  </thead>\n",
              "  <tbody>\n",
              "    <tr>\n",
              "      <th>0</th>\n",
              "      <td>2022</td>\n",
              "      <td>1</td>\n",
              "      <td>1</td>\n",
              "      <td>84.0</td>\n",
              "      <td>1.0</td>\n",
              "      <td>3.5</td>\n",
              "      <td>1</td>\n",
              "      <td>0</td>\n",
              "      <td>0</td>\n",
              "      <td>3</td>\n",
              "      <td>2</td>\n",
              "    </tr>\n",
              "    <tr>\n",
              "      <th>1</th>\n",
              "      <td>2022</td>\n",
              "      <td>1</td>\n",
              "      <td>2</td>\n",
              "      <td>91.0</td>\n",
              "      <td>8.1</td>\n",
              "      <td>2.5</td>\n",
              "      <td>1</td>\n",
              "      <td>0</td>\n",
              "      <td>0</td>\n",
              "      <td>3</td>\n",
              "      <td>2</td>\n",
              "    </tr>\n",
              "    <tr>\n",
              "      <th>2</th>\n",
              "      <td>2022</td>\n",
              "      <td>1</td>\n",
              "      <td>3</td>\n",
              "      <td>86.0</td>\n",
              "      <td>29.3</td>\n",
              "      <td>2.0</td>\n",
              "      <td>0</td>\n",
              "      <td>1</td>\n",
              "      <td>0</td>\n",
              "      <td>1</td>\n",
              "      <td>1</td>\n",
              "    </tr>\n",
              "    <tr>\n",
              "      <th>3</th>\n",
              "      <td>2022</td>\n",
              "      <td>1</td>\n",
              "      <td>4</td>\n",
              "      <td>87.0</td>\n",
              "      <td>0.5</td>\n",
              "      <td>5.5</td>\n",
              "      <td>1</td>\n",
              "      <td>0</td>\n",
              "      <td>0</td>\n",
              "      <td>3</td>\n",
              "      <td>2</td>\n",
              "    </tr>\n",
              "    <tr>\n",
              "      <th>4</th>\n",
              "      <td>2022</td>\n",
              "      <td>1</td>\n",
              "      <td>5</td>\n",
              "      <td>85.0</td>\n",
              "      <td>22.3</td>\n",
              "      <td>0.0</td>\n",
              "      <td>0</td>\n",
              "      <td>1</td>\n",
              "      <td>0</td>\n",
              "      <td>1</td>\n",
              "      <td>1</td>\n",
              "    </tr>\n",
              "  </tbody>\n",
              "</table>\n",
              "</div>\n",
              "    <div class=\"colab-df-buttons\">\n",
              "\n",
              "  <div class=\"colab-df-container\">\n",
              "    <button class=\"colab-df-convert\" onclick=\"convertToInteractive('df-1671e015-c02e-4cc4-b431-bf3f4c431e0b')\"\n",
              "            title=\"Convert this dataframe to an interactive table.\"\n",
              "            style=\"display:none;\">\n",
              "\n",
              "  <svg xmlns=\"http://www.w3.org/2000/svg\" height=\"24px\" viewBox=\"0 -960 960 960\">\n",
              "    <path d=\"M120-120v-720h720v720H120Zm60-500h600v-160H180v160Zm220 220h160v-160H400v160Zm0 220h160v-160H400v160ZM180-400h160v-160H180v160Zm440 0h160v-160H620v160ZM180-180h160v-160H180v160Zm440 0h160v-160H620v160Z\"/>\n",
              "  </svg>\n",
              "    </button>\n",
              "\n",
              "  <style>\n",
              "    .colab-df-container {\n",
              "      display:flex;\n",
              "      gap: 12px;\n",
              "    }\n",
              "\n",
              "    .colab-df-convert {\n",
              "      background-color: #E8F0FE;\n",
              "      border: none;\n",
              "      border-radius: 50%;\n",
              "      cursor: pointer;\n",
              "      display: none;\n",
              "      fill: #1967D2;\n",
              "      height: 32px;\n",
              "      padding: 0 0 0 0;\n",
              "      width: 32px;\n",
              "    }\n",
              "\n",
              "    .colab-df-convert:hover {\n",
              "      background-color: #E2EBFA;\n",
              "      box-shadow: 0px 1px 2px rgba(60, 64, 67, 0.3), 0px 1px 3px 1px rgba(60, 64, 67, 0.15);\n",
              "      fill: #174EA6;\n",
              "    }\n",
              "\n",
              "    .colab-df-buttons div {\n",
              "      margin-bottom: 4px;\n",
              "    }\n",
              "\n",
              "    [theme=dark] .colab-df-convert {\n",
              "      background-color: #3B4455;\n",
              "      fill: #D2E3FC;\n",
              "    }\n",
              "\n",
              "    [theme=dark] .colab-df-convert:hover {\n",
              "      background-color: #434B5C;\n",
              "      box-shadow: 0px 1px 3px 1px rgba(0, 0, 0, 0.15);\n",
              "      filter: drop-shadow(0px 1px 2px rgba(0, 0, 0, 0.3));\n",
              "      fill: #FFFFFF;\n",
              "    }\n",
              "  </style>\n",
              "\n",
              "    <script>\n",
              "      const buttonEl =\n",
              "        document.querySelector('#df-1671e015-c02e-4cc4-b431-bf3f4c431e0b button.colab-df-convert');\n",
              "      buttonEl.style.display =\n",
              "        google.colab.kernel.accessAllowed ? 'block' : 'none';\n",
              "\n",
              "      async function convertToInteractive(key) {\n",
              "        const element = document.querySelector('#df-1671e015-c02e-4cc4-b431-bf3f4c431e0b');\n",
              "        const dataTable =\n",
              "          await google.colab.kernel.invokeFunction('convertToInteractive',\n",
              "                                                    [key], {});\n",
              "        if (!dataTable) return;\n",
              "\n",
              "        const docLinkHtml = 'Like what you see? Visit the ' +\n",
              "          '<a target=\"_blank\" href=https://colab.research.google.com/notebooks/data_table.ipynb>data table notebook</a>'\n",
              "          + ' to learn more about interactive tables.';\n",
              "        element.innerHTML = '';\n",
              "        dataTable['output_type'] = 'display_data';\n",
              "        await google.colab.output.renderOutput(dataTable, element);\n",
              "        const docLink = document.createElement('div');\n",
              "        docLink.innerHTML = docLinkHtml;\n",
              "        element.appendChild(docLink);\n",
              "      }\n",
              "    </script>\n",
              "  </div>\n",
              "\n",
              "\n",
              "<div id=\"df-e98b6bf5-a762-476d-b550-4441521cf760\">\n",
              "  <button class=\"colab-df-quickchart\" onclick=\"quickchart('df-e98b6bf5-a762-476d-b550-4441521cf760')\"\n",
              "            title=\"Suggest charts\"\n",
              "            style=\"display:none;\">\n",
              "\n",
              "<svg xmlns=\"http://www.w3.org/2000/svg\" height=\"24px\"viewBox=\"0 0 24 24\"\n",
              "     width=\"24px\">\n",
              "    <g>\n",
              "        <path d=\"M19 3H5c-1.1 0-2 .9-2 2v14c0 1.1.9 2 2 2h14c1.1 0 2-.9 2-2V5c0-1.1-.9-2-2-2zM9 17H7v-7h2v7zm4 0h-2V7h2v10zm4 0h-2v-4h2v4z\"/>\n",
              "    </g>\n",
              "</svg>\n",
              "  </button>\n",
              "\n",
              "<style>\n",
              "  .colab-df-quickchart {\n",
              "      --bg-color: #E8F0FE;\n",
              "      --fill-color: #1967D2;\n",
              "      --hover-bg-color: #E2EBFA;\n",
              "      --hover-fill-color: #174EA6;\n",
              "      --disabled-fill-color: #AAA;\n",
              "      --disabled-bg-color: #DDD;\n",
              "  }\n",
              "\n",
              "  [theme=dark] .colab-df-quickchart {\n",
              "      --bg-color: #3B4455;\n",
              "      --fill-color: #D2E3FC;\n",
              "      --hover-bg-color: #434B5C;\n",
              "      --hover-fill-color: #FFFFFF;\n",
              "      --disabled-bg-color: #3B4455;\n",
              "      --disabled-fill-color: #666;\n",
              "  }\n",
              "\n",
              "  .colab-df-quickchart {\n",
              "    background-color: var(--bg-color);\n",
              "    border: none;\n",
              "    border-radius: 50%;\n",
              "    cursor: pointer;\n",
              "    display: none;\n",
              "    fill: var(--fill-color);\n",
              "    height: 32px;\n",
              "    padding: 0;\n",
              "    width: 32px;\n",
              "  }\n",
              "\n",
              "  .colab-df-quickchart:hover {\n",
              "    background-color: var(--hover-bg-color);\n",
              "    box-shadow: 0 1px 2px rgba(60, 64, 67, 0.3), 0 1px 3px 1px rgba(60, 64, 67, 0.15);\n",
              "    fill: var(--button-hover-fill-color);\n",
              "  }\n",
              "\n",
              "  .colab-df-quickchart-complete:disabled,\n",
              "  .colab-df-quickchart-complete:disabled:hover {\n",
              "    background-color: var(--disabled-bg-color);\n",
              "    fill: var(--disabled-fill-color);\n",
              "    box-shadow: none;\n",
              "  }\n",
              "\n",
              "  .colab-df-spinner {\n",
              "    border: 2px solid var(--fill-color);\n",
              "    border-color: transparent;\n",
              "    border-bottom-color: var(--fill-color);\n",
              "    animation:\n",
              "      spin 1s steps(1) infinite;\n",
              "  }\n",
              "\n",
              "  @keyframes spin {\n",
              "    0% {\n",
              "      border-color: transparent;\n",
              "      border-bottom-color: var(--fill-color);\n",
              "      border-left-color: var(--fill-color);\n",
              "    }\n",
              "    20% {\n",
              "      border-color: transparent;\n",
              "      border-left-color: var(--fill-color);\n",
              "      border-top-color: var(--fill-color);\n",
              "    }\n",
              "    30% {\n",
              "      border-color: transparent;\n",
              "      border-left-color: var(--fill-color);\n",
              "      border-top-color: var(--fill-color);\n",
              "      border-right-color: var(--fill-color);\n",
              "    }\n",
              "    40% {\n",
              "      border-color: transparent;\n",
              "      border-right-color: var(--fill-color);\n",
              "      border-top-color: var(--fill-color);\n",
              "    }\n",
              "    60% {\n",
              "      border-color: transparent;\n",
              "      border-right-color: var(--fill-color);\n",
              "    }\n",
              "    80% {\n",
              "      border-color: transparent;\n",
              "      border-right-color: var(--fill-color);\n",
              "      border-bottom-color: var(--fill-color);\n",
              "    }\n",
              "    90% {\n",
              "      border-color: transparent;\n",
              "      border-bottom-color: var(--fill-color);\n",
              "    }\n",
              "  }\n",
              "</style>\n",
              "\n",
              "  <script>\n",
              "    async function quickchart(key) {\n",
              "      const quickchartButtonEl =\n",
              "        document.querySelector('#' + key + ' button');\n",
              "      quickchartButtonEl.disabled = true;  // To prevent multiple clicks.\n",
              "      quickchartButtonEl.classList.add('colab-df-spinner');\n",
              "      try {\n",
              "        const charts = await google.colab.kernel.invokeFunction(\n",
              "            'suggestCharts', [key], {});\n",
              "      } catch (error) {\n",
              "        console.error('Error during call to suggestCharts:', error);\n",
              "      }\n",
              "      quickchartButtonEl.classList.remove('colab-df-spinner');\n",
              "      quickchartButtonEl.classList.add('colab-df-quickchart-complete');\n",
              "    }\n",
              "    (() => {\n",
              "      let quickchartButtonEl =\n",
              "        document.querySelector('#df-e98b6bf5-a762-476d-b550-4441521cf760 button');\n",
              "      quickchartButtonEl.style.display =\n",
              "        google.colab.kernel.accessAllowed ? 'block' : 'none';\n",
              "    })();\n",
              "  </script>\n",
              "</div>\n",
              "    </div>\n",
              "  </div>\n"
            ],
            "application/vnd.google.colaboratory.intrinsic+json": {
              "type": "dataframe",
              "variable_name": "combined_data_assoc",
              "summary": "{\n  \"name\": \"combined_data_assoc\",\n  \"rows\": 719,\n  \"fields\": [\n    {\n      \"column\": \"Thn\",\n      \"properties\": {\n        \"dtype\": \"number\",\n        \"std\": 0,\n        \"min\": 2022,\n        \"max\": 2023,\n        \"num_unique_values\": 2,\n        \"samples\": [\n          2023,\n          2022\n        ],\n        \"semantic_type\": \"\",\n        \"description\": \"\"\n      }\n    },\n    {\n      \"column\": \"bln\",\n      \"properties\": {\n        \"dtype\": \"number\",\n        \"std\": 3,\n        \"min\": 1,\n        \"max\": 12,\n        \"num_unique_values\": 12,\n        \"samples\": [\n          11,\n          10\n        ],\n        \"semantic_type\": \"\",\n        \"description\": \"\"\n      }\n    },\n    {\n      \"column\": \"tgl\",\n      \"properties\": {\n        \"dtype\": \"number\",\n        \"std\": 8,\n        \"min\": 1,\n        \"max\": 31,\n        \"num_unique_values\": 31,\n        \"samples\": [\n          28,\n          16\n        ],\n        \"semantic_type\": \"\",\n        \"description\": \"\"\n      }\n    },\n    {\n      \"column\": \"lembab_rata-rata\",\n      \"properties\": {\n        \"dtype\": \"number\",\n        \"std\": 6.622469206844636,\n        \"min\": 57.0,\n        \"max\": 99.0,\n        \"num_unique_values\": 42,\n        \"samples\": [\n          76.0,\n          69.0\n        ],\n        \"semantic_type\": \"\",\n        \"description\": \"\"\n      }\n    },\n    {\n      \"column\": \"ch\",\n      \"properties\": {\n        \"dtype\": \"number\",\n        \"std\": 11.958008142027005,\n        \"min\": 0.0,\n        \"max\": 32.0,\n        \"num_unique_values\": 148,\n        \"samples\": [\n          11.2,\n          3.8\n        ],\n        \"semantic_type\": \"\",\n        \"description\": \"\"\n      }\n    },\n    {\n      \"column\": \"cahaya_jam\",\n      \"properties\": {\n        \"dtype\": \"number\",\n        \"std\": 526.7599800847087,\n        \"min\": 0.0,\n        \"max\": 9999.0,\n        \"num_unique_values\": 100,\n        \"samples\": [\n          9.1,\n          5.3\n        ],\n        \"semantic_type\": \"\",\n        \"description\": \"\"\n      }\n    },\n    {\n      \"column\": \"curah_hujan_kategori_rendah\",\n      \"properties\": {\n        \"dtype\": \"uint8\",\n        \"num_unique_values\": 2,\n        \"samples\": [\n          0,\n          1\n        ],\n        \"semantic_type\": \"\",\n        \"description\": \"\"\n      }\n    },\n    {\n      \"column\": \"curah_hujan_kategori_sedang\",\n      \"properties\": {\n        \"dtype\": \"uint8\",\n        \"num_unique_values\": 2,\n        \"samples\": [\n          1,\n          0\n        ],\n        \"semantic_type\": \"\",\n        \"description\": \"\"\n      }\n    },\n    {\n      \"column\": \"curah_hujan_kategori_tinggi\",\n      \"properties\": {\n        \"dtype\": \"uint8\",\n        \"num_unique_values\": 1,\n        \"samples\": [\n          0\n        ],\n        \"semantic_type\": \"\",\n        \"description\": \"\"\n      }\n    },\n    {\n      \"column\": \"kmeans_cluster\",\n      \"properties\": {\n        \"dtype\": \"int32\",\n        \"num_unique_values\": 4,\n        \"samples\": [\n          1\n        ],\n        \"semantic_type\": \"\",\n        \"description\": \"\"\n      }\n    },\n    {\n      \"column\": \"hierarchy_cluster\",\n      \"properties\": {\n        \"dtype\": \"number\",\n        \"std\": 1,\n        \"min\": 0,\n        \"max\": 3,\n        \"num_unique_values\": 4,\n        \"samples\": [\n          1\n        ],\n        \"semantic_type\": \"\",\n        \"description\": \"\"\n      }\n    }\n  ]\n}"
            }
          },
          "metadata": {},
          "execution_count": 137
        }
      ]
    },
    {
      "cell_type": "markdown",
      "source": [
        "Menampilkan lima baris pertama dari DataFrame combined_data_assoc, yang akan memberikan Anda gambaran tentang struktur dan konten dari DataFrame."
      ],
      "metadata": {
        "id": "JTAjsKzjjhOX"
      }
    },
    {
      "cell_type": "code",
      "source": [
        "label = combined_data_assoc['kmeans_cluster']\n",
        "plt.scatter(combined_data_assoc['kmeans_cluster'].index, combined_data_assoc['kmeans_cluster'], c=combined_data_assoc['kmeans_cluster'],cmap='plasma')"
      ],
      "metadata": {
        "colab": {
          "base_uri": "https://localhost:8080/",
          "height": 447
        },
        "id": "vHzvthHekBTf",
        "outputId": "2e6c934c-3646-45ab-96bb-fc17d2f7dc6d"
      },
      "execution_count": 138,
      "outputs": [
        {
          "output_type": "execute_result",
          "data": {
            "text/plain": [
              "<matplotlib.collections.PathCollection at 0x7fbaa9050eb0>"
            ]
          },
          "metadata": {},
          "execution_count": 138
        },
        {
          "output_type": "display_data",
          "data": {
            "text/plain": [
              "<Figure size 640x480 with 1 Axes>"
            ],
            "image/png": "[encoded data removed]"
          },
          "metadata": {}
        }
      ]
    },
    {
      "cell_type": "markdown",
      "source": [
        "Berdasarkan hasil OCR dari gambar tersebut, terdapat kode Python yang menunjukkan penggunaan scatter plot dengan data clustering menggunakan algoritma k-means. Data ditampilkan dalam bentuk scatter plot dengan warna yang berbeda-beda sesuai dengan cluster yang dihasilkan. Selain itu, terdapat sumbu x dan y yang menunjukkan indeks data dan nilai cluster k-means."
      ],
      "metadata": {
        "id": "3IZEGBg1nHoV"
      }
    }
  ]
}